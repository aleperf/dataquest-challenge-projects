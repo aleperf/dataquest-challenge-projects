{
 "cells": [
  {
   "cell_type": "markdown",
   "metadata": {
    "collapsed": true
   },
   "source": [
    "# Predicting House Sale Prices"
   ]
  },
  {
   "cell_type": "markdown",
   "metadata": {},
   "source": [
    "The Ames Housing dataset has been collected by professor [Dean De Cock](https://www.truman.edu/faculty-staff/decock/) as an alternative to the Boston Housing dataset for [teaching purposes](https://www.tandfonline.com/doi/abs/10.1080/10691898.2011.11889627), with special regard to regression. <br>\n",
    "The dataset is a collection of data about sales of houses in Ames, Iowa, between 2006 and 2010.<br>\n",
    "The documentation about the data can be found [here](https://s3.amazonaws.com/dq-content/307/data_description.txt)\n",
    "\n",
    "\n",
    "In this project, I'll use the dataset to train a linear regression model with scikit-learn LinearRegression class and predict house prices."
   ]
  },
  {
   "cell_type": "code",
   "execution_count": 78,
   "metadata": {},
   "outputs": [],
   "source": [
    "import pandas as pd\n",
    "import numpy as np\n",
    "import matplotlib.pyplot as plt\n",
    "%matplotlib inline\n",
    "import seaborn as sns\n",
    "from sklearn.linear_model import LinearRegression\n",
    "from sklearn.metrics import mean_squared_error"
   ]
  },
  {
   "cell_type": "code",
   "execution_count": 79,
   "metadata": {},
   "outputs": [],
   "source": [
    "import warnings\n",
    "from sklearn.exceptions import DataConversionWarning\n",
    "warnings.filterwarnings(action='ignore', category=DataConversionWarning)"
   ]
  },
  {
   "cell_type": "code",
   "execution_count": 80,
   "metadata": {},
   "outputs": [],
   "source": [
    "data = pd.read_csv(\"AmesHousing.tsv\", delimiter=\"\\t\")"
   ]
  },
  {
   "cell_type": "code",
   "execution_count": 81,
   "metadata": {},
   "outputs": [
    {
     "name": "stdout",
     "output_type": "stream",
     "text": [
      "<class 'pandas.core.frame.DataFrame'>\n",
      "RangeIndex: 2930 entries, 0 to 2929\n",
      "Data columns (total 82 columns):\n",
      " #   Column           Non-Null Count  Dtype  \n",
      "---  ------           --------------  -----  \n",
      " 0   Order            2930 non-null   int64  \n",
      " 1   PID              2930 non-null   int64  \n",
      " 2   MS SubClass      2930 non-null   int64  \n",
      " 3   MS Zoning        2930 non-null   object \n",
      " 4   Lot Frontage     2440 non-null   float64\n",
      " 5   Lot Area         2930 non-null   int64  \n",
      " 6   Street           2930 non-null   object \n",
      " 7   Alley            198 non-null    object \n",
      " 8   Lot Shape        2930 non-null   object \n",
      " 9   Land Contour     2930 non-null   object \n",
      " 10  Utilities        2930 non-null   object \n",
      " 11  Lot Config       2930 non-null   object \n",
      " 12  Land Slope       2930 non-null   object \n",
      " 13  Neighborhood     2930 non-null   object \n",
      " 14  Condition 1      2930 non-null   object \n",
      " 15  Condition 2      2930 non-null   object \n",
      " 16  Bldg Type        2930 non-null   object \n",
      " 17  House Style      2930 non-null   object \n",
      " 18  Overall Qual     2930 non-null   int64  \n",
      " 19  Overall Cond     2930 non-null   int64  \n",
      " 20  Year Built       2930 non-null   int64  \n",
      " 21  Year Remod/Add   2930 non-null   int64  \n",
      " 22  Roof Style       2930 non-null   object \n",
      " 23  Roof Matl        2930 non-null   object \n",
      " 24  Exterior 1st     2930 non-null   object \n",
      " 25  Exterior 2nd     2930 non-null   object \n",
      " 26  Mas Vnr Type     2907 non-null   object \n",
      " 27  Mas Vnr Area     2907 non-null   float64\n",
      " 28  Exter Qual       2930 non-null   object \n",
      " 29  Exter Cond       2930 non-null   object \n",
      " 30  Foundation       2930 non-null   object \n",
      " 31  Bsmt Qual        2850 non-null   object \n",
      " 32  Bsmt Cond        2850 non-null   object \n",
      " 33  Bsmt Exposure    2847 non-null   object \n",
      " 34  BsmtFin Type 1   2850 non-null   object \n",
      " 35  BsmtFin SF 1     2929 non-null   float64\n",
      " 36  BsmtFin Type 2   2849 non-null   object \n",
      " 37  BsmtFin SF 2     2929 non-null   float64\n",
      " 38  Bsmt Unf SF      2929 non-null   float64\n",
      " 39  Total Bsmt SF    2929 non-null   float64\n",
      " 40  Heating          2930 non-null   object \n",
      " 41  Heating QC       2930 non-null   object \n",
      " 42  Central Air      2930 non-null   object \n",
      " 43  Electrical       2929 non-null   object \n",
      " 44  1st Flr SF       2930 non-null   int64  \n",
      " 45  2nd Flr SF       2930 non-null   int64  \n",
      " 46  Low Qual Fin SF  2930 non-null   int64  \n",
      " 47  Gr Liv Area      2930 non-null   int64  \n",
      " 48  Bsmt Full Bath   2928 non-null   float64\n",
      " 49  Bsmt Half Bath   2928 non-null   float64\n",
      " 50  Full Bath        2930 non-null   int64  \n",
      " 51  Half Bath        2930 non-null   int64  \n",
      " 52  Bedroom AbvGr    2930 non-null   int64  \n",
      " 53  Kitchen AbvGr    2930 non-null   int64  \n",
      " 54  Kitchen Qual     2930 non-null   object \n",
      " 55  TotRms AbvGrd    2930 non-null   int64  \n",
      " 56  Functional       2930 non-null   object \n",
      " 57  Fireplaces       2930 non-null   int64  \n",
      " 58  Fireplace Qu     1508 non-null   object \n",
      " 59  Garage Type      2773 non-null   object \n",
      " 60  Garage Yr Blt    2771 non-null   float64\n",
      " 61  Garage Finish    2771 non-null   object \n",
      " 62  Garage Cars      2929 non-null   float64\n",
      " 63  Garage Area      2929 non-null   float64\n",
      " 64  Garage Qual      2771 non-null   object \n",
      " 65  Garage Cond      2771 non-null   object \n",
      " 66  Paved Drive      2930 non-null   object \n",
      " 67  Wood Deck SF     2930 non-null   int64  \n",
      " 68  Open Porch SF    2930 non-null   int64  \n",
      " 69  Enclosed Porch   2930 non-null   int64  \n",
      " 70  3Ssn Porch       2930 non-null   int64  \n",
      " 71  Screen Porch     2930 non-null   int64  \n",
      " 72  Pool Area        2930 non-null   int64  \n",
      " 73  Pool QC          13 non-null     object \n",
      " 74  Fence            572 non-null    object \n",
      " 75  Misc Feature     106 non-null    object \n",
      " 76  Misc Val         2930 non-null   int64  \n",
      " 77  Mo Sold          2930 non-null   int64  \n",
      " 78  Yr Sold          2930 non-null   int64  \n",
      " 79  Sale Type        2930 non-null   object \n",
      " 80  Sale Condition   2930 non-null   object \n",
      " 81  SalePrice        2930 non-null   int64  \n",
      "dtypes: float64(11), int64(28), object(43)\n",
      "memory usage: 1.8+ MB\n"
     ]
    }
   ],
   "source": [
    "data.info()"
   ]
  },
  {
   "cell_type": "code",
   "execution_count": 82,
   "metadata": {},
   "outputs": [],
   "source": [
    "def train_and_test(df, train_feature):\n",
    "    df = data.sample(frac=1, random_state = 1)\n",
    "    train = df.iloc[0:1460].copy()\n",
    "    test = df.iloc[1460:].copy()\n",
    "    train_feat = train[[train_feature]]\n",
    "    train_feat.dropna(inplace=True)\n",
    "    target = train[\"SalePrice\"][train_feat.index]\n",
    "    lr = LinearRegression()\n",
    "    lr.fit(train_feat, target)\n",
    "    test_feat = test[[train_feature]]\n",
    "    test_feat.dropna(inplace=True)\n",
    "    test_target = test[\"SalePrice\"][test_feat.index]\n",
    "    prediction = lr.predict(test_feat)\n",
    "    mse = mean_squared_error(test_target, prediction)\n",
    "    rmse = np.sqrt(mse)\n",
    "    return rmse\n",
    "    "
   ]
  },
  {
   "cell_type": "markdown",
   "metadata": {},
   "source": [
    "### Testing a Simple Linear Regression Model"
   ]
  },
  {
   "cell_type": "markdown",
   "metadata": {},
   "source": [
    "I'll initially test some simple regression models, with just one feature. <br>\n",
    "Below a list of the feature more correlatd to the target column, SalePrice.<br>\n",
    "In this phase I won't scale the features because I'm using just one feature at the time, so scaling isn't useful."
   ]
  },
  {
   "cell_type": "code",
   "execution_count": 83,
   "metadata": {},
   "outputs": [
    {
     "data": {
      "text/plain": [
       "SalePrice          1.000000\n",
       "Overall Qual       0.799262\n",
       "Gr Liv Area        0.706780\n",
       "Garage Cars        0.647877\n",
       "Garage Area        0.640401\n",
       "Total Bsmt SF      0.632280\n",
       "1st Flr SF         0.621676\n",
       "Year Built         0.558426\n",
       "Full Bath          0.545604\n",
       "Year Remod/Add     0.532974\n",
       "Garage Yr Blt      0.526965\n",
       "Mas Vnr Area       0.508285\n",
       "TotRms AbvGrd      0.495474\n",
       "Fireplaces         0.474558\n",
       "BsmtFin SF 1       0.432914\n",
       "Lot Frontage       0.357318\n",
       "Wood Deck SF       0.327143\n",
       "Open Porch SF      0.312951\n",
       "Half Bath          0.285056\n",
       "Bsmt Full Bath     0.276050\n",
       "2nd Flr SF         0.269373\n",
       "Lot Area           0.266549\n",
       "PID                0.246521\n",
       "Bsmt Unf SF        0.182855\n",
       "Bedroom AbvGr      0.143913\n",
       "Enclosed Porch     0.128787\n",
       "Kitchen AbvGr      0.119814\n",
       "Screen Porch       0.112151\n",
       "Overall Cond       0.101697\n",
       "MS SubClass        0.085092\n",
       "Pool Area          0.068403\n",
       "Low Qual Fin SF    0.037660\n",
       "Bsmt Half Bath     0.035835\n",
       "Mo Sold            0.035259\n",
       "3Ssn Porch         0.032225\n",
       "Order              0.031408\n",
       "Yr Sold            0.030569\n",
       "Misc Val           0.015691\n",
       "BsmtFin SF 2       0.005891\n",
       "Name: SalePrice, dtype: float64"
      ]
     },
     "execution_count": 83,
     "metadata": {},
     "output_type": "execute_result"
    }
   ],
   "source": [
    "sorted_corrs = data.corr()[\"SalePrice\"].apply(abs).sort_values(ascending=False)\n",
    "sorted_corrs"
   ]
  },
  {
   "cell_type": "markdown",
   "metadata": {},
   "source": [
    "I'll now test some of the most correlated columns with a simple regression model, so one at the time, chossing between columsn with continuous values, the erros between predicted values and real values is expressed as RMSE."
   ]
  },
  {
   "cell_type": "code",
   "execution_count": 84,
   "metadata": {},
   "outputs": [],
   "source": [
    "selected_features = [\"Gr Liv Area\",\"Garage Area\", \"Total Bsmt SF\", \n",
    "                     \"1st Flr SF\", \"Mas Vnr Area\"]"
   ]
  },
  {
   "cell_type": "code",
   "execution_count": 85,
   "metadata": {},
   "outputs": [
    {
     "name": "stdout",
     "output_type": "stream",
     "text": [
      "Gr Liv Area     55943.34407431997\n",
      "Garage Area     60401.853379543405\n",
      "Total Bsmt SF   60365.07126928037\n",
      "1st Flr SF      61562.05969816064\n",
      "Mas Vnr Area    67869.7635668466\n"
     ]
    }
   ],
   "source": [
    "pd.options.mode.chained_assignment = None \n",
    "for feature in selected_features:\n",
    "    rmse = train_and_test(data, feature)\n",
    "    print(\"{0:15} {1:}\".format(feature, rmse))"
   ]
  },
  {
   "cell_type": "markdown",
   "metadata": {},
   "source": [
    "The predicted value with a single column has a quite high rmse for all of the columns testesd, ranging from about 56,000 to about 68,000 dollars."
   ]
  },
  {
   "cell_type": "markdown",
   "metadata": {},
   "source": [
    "### Data Cleaning"
   ]
  },
  {
   "cell_type": "markdown",
   "metadata": {
    "collapsed": true
   },
   "source": [
    "Before splitting the dataset in train and test I'll remove the columns **Order** and **PID** because they aren't useful for predicting, then I'll convert the **MS Subclass** column from numeric to category because it represents codes for the kind of dwelling and not a numeric measure. <br>\n",
    "For every category column, if one of the categories is represented by less than equal to 25 elements (0.8% of all the dataset), I'll convert it to category \"other\", this way I'll group togheter instances not very representative.\n",
    "I'll then convert all the \"object\" columns to category.\n",
    "I'll then remove columns represented for over 95% by just one type of the category, because they are again very little predictive."
   ]
  },
  {
   "cell_type": "code",
   "execution_count": 86,
   "metadata": {},
   "outputs": [],
   "source": [
    "data_copy = data.copy()"
   ]
  },
  {
   "cell_type": "code",
   "execution_count": 87,
   "metadata": {},
   "outputs": [],
   "source": [
    "## I'll convert first this column to object in order to manipulate it and then it will be converted to category\n",
    "data_copy['MS SubClass'] = data_copy.astype('object')"
   ]
  },
  {
   "cell_type": "code",
   "execution_count": 88,
   "metadata": {},
   "outputs": [],
   "source": [
    "def remove_null_columns_with_threshold(df, threshold = 5):\n",
    "    \"\"\"\n",
    "   Remove columns from a DataFrame with a number of\n",
    "   null values over a threshold.\n",
    "   The threshold is a percentage between 0 an 100 (extremes not included).\n",
    "   Raise ValueError for invalid threshold values.\n",
    "\n",
    "   Parameters\n",
    "   df (DataFrame): the DataFrame to manipulate\n",
    "   \n",
    "   threshold (float): a value between 0 and 100 (extremes not included)\n",
    "   \n",
    "   Returns: the cleaned DataFrame\n",
    "\"\"\"\n",
    "    \n",
    "    if threshold <= 0 | threshold >= 100:\n",
    "        message = \"threshold must be a number between (0,100), you entered {}\".format(threshold)\n",
    "        raise ValueError(message)\n",
    "    # removing columns with too many null values, over threshold%\n",
    "    null_values_in_cols = df.isnull().sum()\n",
    "    threshold = int(df.shape[0] * (threshold/100))\n",
    "    columns_to_mantain = null_values_in_cols[null_values_in_cols < threshold]\n",
    "    data_1 = df[columns_to_mantain.index]\n",
    "    return data_1\n",
    "    "
   ]
  },
  {
   "cell_type": "code",
   "execution_count": 89,
   "metadata": {},
   "outputs": [],
   "source": [
    "data_copy = remove_null_columns_with_threshold(data_copy, 5)"
   ]
  },
  {
   "cell_type": "code",
   "execution_count": 90,
   "metadata": {},
   "outputs": [],
   "source": [
    "def analyze_and_transform_object_cols(data, threshold = 0.90):\n",
    "    size = data.shape[0]\n",
    "    df = data.select_dtypes(include=['object'])\n",
    "    columns_obj = list(df.columns)\n",
    "    columns_to_drop = []\n",
    "    for col in columns_obj:\n",
    "        v_counts = df[col].value_counts().sort_values(ascending = False)\n",
    "        most_frequent = v_counts.iloc[0]\n",
    "        if most_frequent/size >= threshold:\n",
    "            columns_to_drop.append(col)\n",
    "        else:\n",
    "            for index, value in v_counts.iteritems():\n",
    "                if value <= 25:\n",
    "                    df[col][df[col] == index] = 'other'\n",
    "    data = data.drop(columns_to_drop, axis= 1)              \n",
    "    for col in df.columns:\n",
    "        data[col] = df[col]\n",
    "                    \n",
    "    return data      "
   ]
  },
  {
   "cell_type": "code",
   "execution_count": 91,
   "metadata": {},
   "outputs": [],
   "source": [
    "def convert_object_to_category(df):\n",
    "    data_object_cols = df.select_dtypes(include=['object']).columns\n",
    "    for col in data_object_cols:\n",
    "        df[col] = df[col].astype('category')\n",
    "        \n",
    "    return df    "
   ]
  },
  {
   "cell_type": "code",
   "execution_count": 92,
   "metadata": {},
   "outputs": [],
   "source": [
    "data_copy = analyze_and_transform_object_cols(data_copy, 0.95)"
   ]
  },
  {
   "cell_type": "code",
   "execution_count": 93,
   "metadata": {},
   "outputs": [
    {
     "data": {
      "text/plain": [
       "Index(['Order', 'PID', 'MS SubClass', 'MS Zoning', 'Lot Area', 'Lot Shape',\n",
       "       'Land Contour', 'Lot Config', 'Neighborhood', 'Condition 1',\n",
       "       'Bldg Type', 'House Style', 'Overall Qual', 'Overall Cond',\n",
       "       'Year Built', 'Year Remod/Add', 'Roof Style', 'Exterior 1st',\n",
       "       'Exterior 2nd', 'Mas Vnr Type', 'Mas Vnr Area', 'Exter Qual',\n",
       "       'Exter Cond', 'Foundation', 'Bsmt Qual', 'Bsmt Cond', 'Bsmt Exposure',\n",
       "       'BsmtFin Type 1', 'BsmtFin SF 1', 'BsmtFin Type 2', 'BsmtFin SF 2',\n",
       "       'Bsmt Unf SF', 'Total Bsmt SF', 'Heating QC', 'Central Air',\n",
       "       'Electrical', '1st Flr SF', '2nd Flr SF', 'Low Qual Fin SF',\n",
       "       'Gr Liv Area', 'Bsmt Full Bath', 'Bsmt Half Bath', 'Full Bath',\n",
       "       'Half Bath', 'Bedroom AbvGr', 'Kitchen AbvGr', 'Kitchen Qual',\n",
       "       'TotRms AbvGrd', 'Functional', 'Fireplaces', 'Garage Cars',\n",
       "       'Garage Area', 'Paved Drive', 'Wood Deck SF', 'Open Porch SF',\n",
       "       'Enclosed Porch', '3Ssn Porch', 'Screen Porch', 'Pool Area', 'Misc Val',\n",
       "       'Mo Sold', 'Yr Sold', 'Sale Type', 'Sale Condition', 'SalePrice',\n",
       "       'Street', 'Utilities', 'Land Slope', 'Condition 2', 'Roof Matl',\n",
       "       'Heating'],\n",
       "      dtype='object')"
      ]
     },
     "execution_count": 93,
     "metadata": {},
     "output_type": "execute_result"
    }
   ],
   "source": [
    "data_copy.columns"
   ]
  },
  {
   "cell_type": "code",
   "execution_count": 94,
   "metadata": {},
   "outputs": [],
   "source": [
    "data_copy = convert_object_to_category(data_copy)"
   ]
  },
  {
   "cell_type": "code",
   "execution_count": 95,
   "metadata": {},
   "outputs": [],
   "source": [
    "data_copy = data_copy.sample(frac=1, random_state = 1).reset_index(drop=True)"
   ]
  },
  {
   "cell_type": "code",
   "execution_count": 96,
   "metadata": {},
   "outputs": [],
   "source": [
    "train = data_copy.iloc[0: 1460].copy()\n",
    "test = data_copy.iloc[1460: ].copy()"
   ]
  },
  {
   "cell_type": "markdown",
   "metadata": {},
   "source": [
    "Below a series of functions I'll use to clean the train dataset, the same transformations will be applied to the test set. I'll remove columns with over 5% of null values, I'll impute missing values for both category and numerical columns and I'll add two new column: the column age, indicating the age of the house at the time of the sale and years_until_remod, indicating the number of years from the last renovation of the house. <br>"
   ]
  },
  {
   "cell_type": "code",
   "execution_count": 97,
   "metadata": {},
   "outputs": [],
   "source": [
    "def impute_numeric_columns_with_mean(df):\n",
    "    \"\"\"\n",
    "   Impute numeric columns included in numpy.number with the mean of the columns\n",
    "   \n",
    "   Parameters:\n",
    "   \n",
    "   df (DataFrame): the DataFrame to impute\n",
    "   \n",
    "   Returns:\n",
    "   the imputed DataFrame\n",
    "\"\"\"\n",
    "    data_numeric = list(df.select_dtypes(include=[np.number]))\n",
    "    if('MS SubClass') in data_numeric:\n",
    "        data_numeric.remove('MS SubClass')\n",
    "    for col in data_numeric:\n",
    "        df[col].fillna(df[col].mean(), inplace= True)\n",
    "    return df\n",
    "    \n",
    "    "
   ]
  },
  {
   "cell_type": "code",
   "execution_count": 98,
   "metadata": {},
   "outputs": [],
   "source": [
    "def impute_categorical_columns(df):\n",
    "    \"\"\"\n",
    "    Transform object columns into category columns, impute the columns null\n",
    "    values with the most frequent value for each column.\n",
    "    \n",
    "    Parameters:\n",
    "    df(DataFrame): the DataFrame to impute\n",
    "    \n",
    "    Returns:\n",
    "    The imputed DataFrame\n",
    "    \n",
    "    \"\"\"\n",
    "    category_df = df.select_dtypes(include=['category'])\n",
    "    category_cols = list(category_df.columns)\n",
    "    for col in category_cols:\n",
    "        most_frequent_value = df[col].value_counts().\\\n",
    "        sort_values(ascending=False).index[0]\n",
    "        df[col].fillna(most_frequent_value, inplace=True)\n",
    "    \n",
    "    return df\n",
    "        \n",
    "        \n",
    "    \n",
    "    "
   ]
  },
  {
   "cell_type": "code",
   "execution_count": 99,
   "metadata": {},
   "outputs": [],
   "source": [
    "def transform_features_train(df, threshold):\n",
    "\n",
    "    \n",
    "    #impute null values in numeric columns with the mean of the column\n",
    "    df = impute_numeric_columns_with_mean(df)\n",
    "    \n",
    "    #impute null values in category columns with the most frequent value\n",
    "    df= impute_categorical_columns(df)\n",
    "    \n",
    "    # add years until remod colum to quantify years since last renovation of the house\n",
    "    df[\"years_until_remod\"] = df[\"Yr Sold\"] - df[\"Year Remod/Add\"]\n",
    "    \n",
    "    #remove row or rows with negative values for years_until_remode\n",
    "    index_to_drop = df[\"years_until_remod\"][df[\"years_until_remod\"]< 0].index\n",
    "    df.drop(index_to_drop, inplace=True)\n",
    "    \n",
    "    # add column for age of the house at the moment of the Sale\n",
    "    df[\"age\"] = df[\"Yr Sold\"] - df[\"Year Built\"]\n",
    "    \n",
    "    # removie columns leaking information about the final sale\n",
    "    leak_cols = [\"Mo Sold\", \"Sale Condition\", \"Sale Type\", \"Yr Sold\", \"Year Built\"]\n",
    "    df.drop(leak_cols, axis = 1, inplace=True)\n",
    "    \n",
    "    return df"
   ]
  },
  {
   "cell_type": "code",
   "execution_count": 100,
   "metadata": {},
   "outputs": [],
   "source": [
    "train_clean = transform_features_train(train.copy(), 5)"
   ]
  },
  {
   "cell_type": "code",
   "execution_count": 101,
   "metadata": {},
   "outputs": [
    {
     "data": {
      "text/plain": [
       "False"
      ]
     },
     "execution_count": 101,
     "metadata": {},
     "output_type": "execute_result"
    }
   ],
   "source": [
    "train_clean.isnull().sum().any()"
   ]
  },
  {
   "cell_type": "code",
   "execution_count": 102,
   "metadata": {},
   "outputs": [
    {
     "data": {
      "text/plain": [
       "Index(['Order', 'PID', 'MS SubClass', 'MS Zoning', 'Lot Area', 'Lot Shape',\n",
       "       'Land Contour', 'Lot Config', 'Neighborhood', 'Condition 1',\n",
       "       'Bldg Type', 'House Style', 'Overall Qual', 'Overall Cond',\n",
       "       'Year Remod/Add', 'Roof Style', 'Exterior 1st', 'Exterior 2nd',\n",
       "       'Mas Vnr Type', 'Mas Vnr Area', 'Exter Qual', 'Exter Cond',\n",
       "       'Foundation', 'Bsmt Qual', 'Bsmt Cond', 'Bsmt Exposure',\n",
       "       'BsmtFin Type 1', 'BsmtFin SF 1', 'BsmtFin Type 2', 'BsmtFin SF 2',\n",
       "       'Bsmt Unf SF', 'Total Bsmt SF', 'Heating QC', 'Central Air',\n",
       "       'Electrical', '1st Flr SF', '2nd Flr SF', 'Low Qual Fin SF',\n",
       "       'Gr Liv Area', 'Bsmt Full Bath', 'Bsmt Half Bath', 'Full Bath',\n",
       "       'Half Bath', 'Bedroom AbvGr', 'Kitchen AbvGr', 'Kitchen Qual',\n",
       "       'TotRms AbvGrd', 'Functional', 'Fireplaces', 'Garage Cars',\n",
       "       'Garage Area', 'Paved Drive', 'Wood Deck SF', 'Open Porch SF',\n",
       "       'Enclosed Porch', '3Ssn Porch', 'Screen Porch', 'Pool Area', 'Misc Val',\n",
       "       'SalePrice', 'Street', 'Utilities', 'Land Slope', 'Condition 2',\n",
       "       'Roof Matl', 'Heating', 'years_until_remod', 'age'],\n",
       "      dtype='object')"
      ]
     },
     "execution_count": 102,
     "metadata": {},
     "output_type": "execute_result"
    }
   ],
   "source": [
    "train_clean.columns"
   ]
  },
  {
   "cell_type": "markdown",
   "metadata": {},
   "source": [
    "I'll now transform the test set mantaining only the columns now present in the training set and imputing the test set with the same values used in the training set. <br>\n",
    "I don't use the full dataset to calculate the means or the most frequent value, because the test set must remain unseen data or the risk is to build an overfitting model."
   ]
  },
  {
   "cell_type": "code",
   "execution_count": 103,
   "metadata": {},
   "outputs": [],
   "source": [
    "def transform_features_test(train_df, test_df):\n",
    "    #add years_until_remod columns\n",
    "    test_df['years_until_remod'] = test_df['Yr Sold'] - test_df['Year Remod/Add']\n",
    "    index_to_drop = test_df[\"years_until_remod\"][test_df[\"years_until_remod\"]< 0].index\n",
    "    test_df.drop(index_to_drop, inplace=True)\n",
    "    \n",
    "    #add age column\n",
    "    test_df['age'] = test_df['Yr Sold'] - test_df['Yr Sold']\n",
    "    test_df = test_df[train_df.columns]\n",
    "    numeric_cols = train_df.select_dtypes(include=[np.number]).columns\n",
    "    category_cols = train_df.select_dtypes(include=['category']).columns\n",
    "    #impute numeric columns with the mean of the column in train_df\n",
    "    for col in numeric_cols:\n",
    "        mean = train_df[col].mean()\n",
    "        test_df[col].fillna(mean, inplace=True)\n",
    "    #transform object in category columns and impute with most frequent value in train_df\n",
    "    for col in category_cols:\n",
    "        test_df[col] = test_df[col].astype('category')\n",
    "        most_frequent = train_df[col].value_counts().sort_values(ascending=False).index[0]\n",
    "        test_df[col].fillna(most_frequent, inplace=True)   \n",
    "    return test_df"
   ]
  },
  {
   "cell_type": "code",
   "execution_count": 104,
   "metadata": {},
   "outputs": [],
   "source": [
    "test_clean = test.copy()"
   ]
  },
  {
   "cell_type": "code",
   "execution_count": 105,
   "metadata": {},
   "outputs": [],
   "source": [
    "test_clean = transform_features_test(train_clean, test_clean)"
   ]
  },
  {
   "cell_type": "code",
   "execution_count": 106,
   "metadata": {},
   "outputs": [
    {
     "data": {
      "text/plain": [
       "0"
      ]
     },
     "execution_count": 106,
     "metadata": {},
     "output_type": "execute_result"
    }
   ],
   "source": [
    "test_clean.isnull().any().sum()"
   ]
  },
  {
   "cell_type": "code",
   "execution_count": 107,
   "metadata": {},
   "outputs": [
    {
     "data": {
      "text/plain": [
       "True"
      ]
     },
     "execution_count": 107,
     "metadata": {},
     "output_type": "execute_result"
    }
   ],
   "source": [
    "(list(test_clean.columns) == list(train_clean.columns))"
   ]
  },
  {
   "cell_type": "markdown",
   "metadata": {},
   "source": [
    "### Feature Selection : Numeric Columns\n",
    "\n",
    "Not all columns correlate strongly with the target column, SalePrice. Other columns are correlated to SalePrice, but they are also correlated between them, so our model could be at risk of collinearity. <br>\n",
    "Some columns have very little variance, they contain mostly the same value, so they could be eleminated.<br>\n",
    "In this section I'll select the most promising features and I'll remove the less predictive ones. <br>\n",
    "\n",
    "Below an heatmap of the correlation between the columns in the train."
   ]
  },
  {
   "cell_type": "code",
   "execution_count": 108,
   "metadata": {},
   "outputs": [],
   "source": [
    "sorted_corrs = train_clean.corr()[\"SalePrice\"].apply(abs).sort_values()"
   ]
  },
  {
   "cell_type": "code",
   "execution_count": 109,
   "metadata": {},
   "outputs": [
    {
     "data": {
      "text/plain": [
       "BsmtFin SF 1         0.407042\n",
       "Fireplaces           0.466559\n",
       "TotRms AbvGrd        0.503105\n",
       "Mas Vnr Area         0.518221\n",
       "Year Remod/Add       0.534166\n",
       "years_until_remod    0.535641\n",
       "Full Bath            0.541471\n",
       "age                  0.561559\n",
       "1st Flr SF           0.629385\n",
       "Total Bsmt SF        0.632253\n",
       "Garage Area          0.643771\n",
       "Garage Cars          0.650535\n",
       "Gr Liv Area          0.722167\n",
       "Overall Qual         0.800719\n",
       "SalePrice            1.000000\n",
       "Name: SalePrice, dtype: float64"
      ]
     },
     "execution_count": 109,
     "metadata": {},
     "output_type": "execute_result"
    }
   ],
   "source": [
    "strong_corrs = (sorted_corrs[sorted_corrs > 0.4]).copy()\n",
    "strong_corrs"
   ]
  },
  {
   "cell_type": "code",
   "execution_count": 110,
   "metadata": {},
   "outputs": [
    {
     "data": {
      "image/png": "[encoded data removed]",
      "text/plain": [
       "<Figure size 432x288 with 2 Axes>"
      ]
     },
     "metadata": {
      "needs_background": "light"
     },
     "output_type": "display_data"
    }
   ],
   "source": [
    "corrmat = train_clean[strong_corrs.index].corr()\n",
    "sns.heatmap(corrmat);"
   ]
  },
  {
   "cell_type": "markdown",
   "metadata": {},
   "source": [
    "The following columns are strongly correlated: \n",
    "<ul>\n",
    "<li>Gr Liv Area and TotRms AbvGrd</li>\n",
    "<li>Garage Area and Garage Cars</li>\n",
    "<li>Total Bsmt SF and 1st Flr SF </li>\n",
    "</ul>"
   ]
  },
  {
   "cell_type": "markdown",
   "metadata": {},
   "source": [
    "I'll keep one for every couple, the one with the strongest correlation, so I'll keep 'Gr Liv Area', 'Garage Cars' and 'Total Bsmt SF' and I'll keep only the most promising numeric columns."
   ]
  },
  {
   "cell_type": "code",
   "execution_count": 111,
   "metadata": {},
   "outputs": [],
   "source": [
    "numeric_columns = [\"Overall Qual\", \"Gr Liv Area\", \"Garage Cars\", \"Total Bsmt SF\", \"age\",\n",
    "                   \"Full Bath\" ,\"years_until_remod\", \"Year Remod/Add\", \n",
    "                   \"Mas Vnr Area\", \"Fireplaces\", \"BsmtFin SF 1\", \"SalePrice\"]"
   ]
  },
  {
   "cell_type": "code",
   "execution_count": 112,
   "metadata": {},
   "outputs": [],
   "source": [
    "train_numeric = train_clean[numeric_columns]"
   ]
  },
  {
   "cell_type": "code",
   "execution_count": 113,
   "metadata": {},
   "outputs": [
    {
     "data": {
      "text/plain": [
       "12"
      ]
     },
     "execution_count": 113,
     "metadata": {},
     "output_type": "execute_result"
    }
   ],
   "source": [
    "train_numeric.shape[1]"
   ]
  },
  {
   "cell_type": "code",
   "execution_count": 114,
   "metadata": {},
   "outputs": [],
   "source": [
    "test_numeric = test_clean[numeric_columns]"
   ]
  },
  {
   "cell_type": "markdown",
   "metadata": {
    "collapsed": true
   },
   "source": [
    "### Scaling numerical features"
   ]
  },
  {
   "cell_type": "markdown",
   "metadata": {},
   "source": [
    "The columns with numerical features have different range of values in different columns so I'll scale them using the MinMaxScaler from scikit.learn."
   ]
  },
  {
   "cell_type": "code",
   "execution_count": 115,
   "metadata": {},
   "outputs": [],
   "source": [
    "from sklearn.preprocessing import MinMaxScaler"
   ]
  },
  {
   "cell_type": "code",
   "execution_count": 116,
   "metadata": {},
   "outputs": [
    {
     "data": {
      "text/plain": [
       "(1459, 11)"
      ]
     },
     "execution_count": 116,
     "metadata": {},
     "output_type": "execute_result"
    }
   ],
   "source": [
    "scaler = MinMaxScaler()\n",
    "X_train = train_numeric.drop(\"SalePrice\", axis=1)\n",
    "X_train.shape"
   ]
  },
  {
   "cell_type": "code",
   "execution_count": 117,
   "metadata": {},
   "outputs": [
    {
     "data": {
      "text/plain": [
       "(1468, 11)"
      ]
     },
     "execution_count": 117,
     "metadata": {},
     "output_type": "execute_result"
    }
   ],
   "source": [
    "X_test = test_numeric.drop(\"SalePrice\", axis=1)\n",
    "X_test.shape"
   ]
  },
  {
   "cell_type": "code",
   "execution_count": 118,
   "metadata": {},
   "outputs": [],
   "source": [
    "y_train = train_numeric[\"SalePrice\"]\n",
    "y_test = test_numeric[\"SalePrice\"]"
   ]
  },
  {
   "cell_type": "code",
   "execution_count": 119,
   "metadata": {},
   "outputs": [],
   "source": [
    "scaler.fit(X_train)\n",
    "X_scaled_train = scaler.transform(X_train)"
   ]
  },
  {
   "cell_type": "code",
   "execution_count": 120,
   "metadata": {},
   "outputs": [],
   "source": [
    "numeric_columns = numeric_columns[0:-1]"
   ]
  },
  {
   "cell_type": "code",
   "execution_count": 121,
   "metadata": {},
   "outputs": [],
   "source": [
    "X_scaled_train_df = pd.DataFrame(X_scaled_train, \n",
    "                                 columns = numeric_columns, index = train_clean.index)"
   ]
  },
  {
   "cell_type": "code",
   "execution_count": 122,
   "metadata": {},
   "outputs": [],
   "source": [
    "X_scaled_test = scaler.transform(X_test)"
   ]
  },
  {
   "cell_type": "code",
   "execution_count": 123,
   "metadata": {},
   "outputs": [],
   "source": [
    "X_scaled_test_df = pd.DataFrame(X_scaled_test, columns= numeric_columns, index=test_clean.index)"
   ]
  },
  {
   "cell_type": "markdown",
   "metadata": {},
   "source": [
    "### Multi-feature Regression with Only Numeric Values"
   ]
  },
  {
   "cell_type": "code",
   "execution_count": 124,
   "metadata": {},
   "outputs": [],
   "source": [
    "lr = LinearRegression()"
   ]
  },
  {
   "cell_type": "code",
   "execution_count": 125,
   "metadata": {},
   "outputs": [
    {
     "data": {
      "text/plain": [
       "LinearRegression(copy_X=True, fit_intercept=True, n_jobs=None,\n",
       "         normalize=False)"
      ]
     },
     "execution_count": 125,
     "metadata": {},
     "output_type": "execute_result"
    }
   ],
   "source": [
    "lr.fit(X_scaled_train_df, y_train)"
   ]
  },
  {
   "cell_type": "code",
   "execution_count": 126,
   "metadata": {},
   "outputs": [],
   "source": [
    "predictions = lr.predict(X_scaled_test_df)"
   ]
  },
  {
   "cell_type": "code",
   "execution_count": 127,
   "metadata": {},
   "outputs": [
    {
     "data": {
      "text/plain": [
       "32050.698123480688"
      ]
     },
     "execution_count": 127,
     "metadata": {},
     "output_type": "execute_result"
    }
   ],
   "source": [
    "multi_num_rmse = np.sqrt(mean_squared_error(y_test, predictions))\n",
    "multi_num_rmse"
   ]
  },
  {
   "cell_type": "code",
   "execution_count": 128,
   "metadata": {},
   "outputs": [
    {
     "data": {
      "text/plain": [
       "0.42857142857142855"
      ]
     },
     "execution_count": 128,
     "metadata": {},
     "output_type": "execute_result"
    }
   ],
   "source": [
    "(56000 - 32000)/56000"
   ]
  },
  {
   "cell_type": "code",
   "execution_count": 129,
   "metadata": {},
   "outputs": [
    {
     "data": {
      "text/plain": [
       "0.5294117647058824"
      ]
     },
     "execution_count": 129,
     "metadata": {},
     "output_type": "execute_result"
    }
   ],
   "source": [
    "(68000 - 32000)/68000"
   ]
  },
  {
   "cell_type": "markdown",
   "metadata": {},
   "source": [
    "Using 11 numerical features the rmse for the model is about 32,000 dollars, we increased the accuracy of  percentage ranging from 43% to 53% respect to a simple linear regression model with just one feature, which ranged from 56,000 to 68,000 dollars."
   ]
  },
  {
   "cell_type": "markdown",
   "metadata": {},
   "source": [
    "### Selecting Categorical Features"
   ]
  },
  {
   "cell_type": "code",
   "execution_count": 130,
   "metadata": {},
   "outputs": [],
   "source": [
    "category_train = train_clean.select_dtypes(include=['category']).copy()"
   ]
  },
  {
   "cell_type": "code",
   "execution_count": 131,
   "metadata": {},
   "outputs": [],
   "source": [
    "category_test = test_clean.select_dtypes(include=['category']).copy()"
   ]
  },
  {
   "cell_type": "code",
   "execution_count": 132,
   "metadata": {},
   "outputs": [],
   "source": [
    "numeric_train_df = X_scaled_train_df.copy()"
   ]
  },
  {
   "cell_type": "code",
   "execution_count": 133,
   "metadata": {},
   "outputs": [],
   "source": [
    "def combine_category(df_numeric, category, is_test=False):\n",
    "    if is_test:\n",
    "        column = test_clean[category]\n",
    "    else:\n",
    "        column = train_clean[category]\n",
    "    dummies = pd.get_dummies(column, prefix= category[0:10])\n",
    "    concat_df = pd.concat([df_numeric, dummies], axis=1).reset_index(drop=True)\n",
    "    return concat_df"
   ]
  },
  {
   "cell_type": "code",
   "execution_count": 134,
   "metadata": {},
   "outputs": [],
   "source": [
    "def train_and_test_category_with_numeric(category, X_train, X_test, y_train, y_test):\n",
    "    train_df_comb = combine_category(X_train, category)\n",
    "    test_df_comb =  combine_category(X_test, category, is_test=True)\n",
    "    lr = LinearRegression()\n",
    "    lr.fit(train_df_comb, y_train)\n",
    "    prediction = lr.predict(test_df_comb)\n",
    "    rmse = np.sqrt(mean_squared_error(y_test, prediction))\n",
    "    return rmse"
   ]
  },
  {
   "cell_type": "code",
   "execution_count": 135,
   "metadata": {},
   "outputs": [],
   "source": [
    "category_rmse ={}\n",
    "for col in category_train.columns:\n",
    "    rmse = train_and_test_category_with_numeric(col, X_scaled_train_df, X_scaled_test_df, y_train, y_test)\n",
    "    category_rmse[col] = rmse"
   ]
  },
  {
   "cell_type": "code",
   "execution_count": 136,
   "metadata": {},
   "outputs": [],
   "source": [
    "rmse_vals = pd.Series(category_rmse)"
   ]
  },
  {
   "cell_type": "code",
   "execution_count": 137,
   "metadata": {},
   "outputs": [
    {
     "data": {
      "text/plain": [
       "Bsmt Qual         30174.259038\n",
       "Neighborhood      30414.664842\n",
       "Kitchen Qual      30656.126596\n",
       "Exter Qual        30803.177301\n",
       "Bsmt Exposure     31135.181769\n",
       "Foundation        31141.885461\n",
       "MS Zoning         31308.264710\n",
       "Exterior 1st      31501.995320\n",
       "Heating QC        31556.254146\n",
       "Land Contour      31557.744066\n",
       "Exterior 2nd      31629.100808\n",
       "BsmtFin Type 1    31747.075309\n",
       "Bldg Type         31820.316074\n",
       "Land Slope        31825.133103\n",
       "Lot Config        31849.008903\n",
       "Functional        31855.219710\n",
       "Bsmt Cond         31881.279233\n",
       "BsmtFin Type 2    31890.976420\n",
       "Heating           31961.607716\n",
       "Condition 1       31968.870955\n",
       "Roof Style        31986.159150\n",
       "House Style       32006.782984\n",
       "Exter Cond        32019.898861\n",
       "MS SubClass       32050.698123\n",
       "Utilities         32058.226370\n",
       "Street            32062.017429\n",
       "Electrical        32162.770663\n",
       "Central Air       32180.261200\n",
       "Condition 2       32323.793159\n",
       "Mas Vnr Type      32535.959863\n",
       "Paved Drive       32541.646697\n",
       "Roof Matl         32781.558412\n",
       "Lot Shape         33612.582732\n",
       "dtype: float64"
      ]
     },
     "execution_count": 137,
     "metadata": {},
     "output_type": "execute_result"
    }
   ],
   "source": [
    "rmse_vals.sort_values()"
   ]
  },
  {
   "cell_type": "markdown",
   "metadata": {},
   "source": [
    "I'll select only the features that increase the value of the rmse."
   ]
  },
  {
   "cell_type": "code",
   "execution_count": 138,
   "metadata": {},
   "outputs": [
    {
     "data": {
      "text/plain": [
       "Bsmt Qual         30174.259038\n",
       "Neighborhood      30414.664842\n",
       "Kitchen Qual      30656.126596\n",
       "Exter Qual        30803.177301\n",
       "Bsmt Exposure     31135.181769\n",
       "Foundation        31141.885461\n",
       "MS Zoning         31308.264710\n",
       "Exterior 1st      31501.995320\n",
       "Heating QC        31556.254146\n",
       "Land Contour      31557.744066\n",
       "Exterior 2nd      31629.100808\n",
       "BsmtFin Type 1    31747.075309\n",
       "Bldg Type         31820.316074\n",
       "Land Slope        31825.133103\n",
       "Lot Config        31849.008903\n",
       "Functional        31855.219710\n",
       "Bsmt Cond         31881.279233\n",
       "BsmtFin Type 2    31890.976420\n",
       "Heating           31961.607716\n",
       "Condition 1       31968.870955\n",
       "Roof Style        31986.159150\n",
       "House Style       32006.782984\n",
       "Exter Cond        32019.898861\n",
       "dtype: float64"
      ]
     },
     "execution_count": 138,
     "metadata": {},
     "output_type": "execute_result"
    }
   ],
   "source": [
    "rmse_sorted = (rmse_vals[rmse_vals < multi_num_rmse]).sort_values()\n",
    "rmse_sorted"
   ]
  },
  {
   "cell_type": "code",
   "execution_count": 139,
   "metadata": {},
   "outputs": [],
   "source": [
    "best_rmse = rmse_sorted.iloc[0:8]"
   ]
  },
  {
   "cell_type": "code",
   "execution_count": 140,
   "metadata": {},
   "outputs": [
    {
     "data": {
      "text/plain": [
       "Index(['Bsmt Qual', 'Neighborhood', 'Kitchen Qual', 'Exter Qual',\n",
       "       'Bsmt Exposure', 'Foundation', 'MS Zoning', 'Exterior 1st'],\n",
       "      dtype='object')"
      ]
     },
     "execution_count": 140,
     "metadata": {},
     "output_type": "execute_result"
    }
   ],
   "source": [
    "best_rmse.index"
   ]
  },
  {
   "cell_type": "code",
   "execution_count": 141,
   "metadata": {},
   "outputs": [],
   "source": [
    "best_rmse_cols = list(best_rmse.index)"
   ]
  },
  {
   "cell_type": "code",
   "execution_count": 142,
   "metadata": {},
   "outputs": [],
   "source": [
    "rmse_features = {}\n",
    "for i in range(2,len(best_rmse_cols) +1):\n",
    "    features = best_rmse_cols[0:i]\n",
    "    dummies_train = pd.get_dummies(train_clean[features])\n",
    "    dummies_test = pd.get_dummies(test_clean[features])\n",
    "    train_feat = pd.concat([X_scaled_train_df, dummies_train], axis=1).reset_index(drop=True)\n",
    "    test_feat = pd.concat([X_scaled_test_df, dummies_test], axis=1).reset_index(drop=True)\n",
    "    lr= LinearRegression()\n",
    "    lr.fit(train_feat, train_clean[\"SalePrice\"])\n",
    "    prediction = lr.predict(test_feat)\n",
    "    rmse = np.sqrt(mean_squared_error(test_clean[\"SalePrice\"],prediction))\n",
    "    key = \"11 numeric and {} category features rmse\".format(i)\n",
    "    rmse_features[key] = rmse"
   ]
  },
  {
   "cell_type": "code",
   "execution_count": 143,
   "metadata": {},
   "outputs": [
    {
     "data": {
      "text/plain": [
       "{'11 numeric and 2 category features rmse': 28705.13917635209,\n",
       " '11 numeric and 3 category features rmse': 28062.54629618169,\n",
       " '11 numeric and 4 category features rmse': 27854.569800381145,\n",
       " '11 numeric and 5 category features rmse': 27410.785257781816,\n",
       " '11 numeric and 6 category features rmse': 26952.757287151697,\n",
       " '11 numeric and 7 category features rmse': 26971.09027212846,\n",
       " '11 numeric and 8 category features rmse': 26875.61844711392}"
      ]
     },
     "execution_count": 143,
     "metadata": {},
     "output_type": "execute_result"
    }
   ],
   "source": [
    "rmse_features"
   ]
  },
  {
   "cell_type": "markdown",
   "metadata": {},
   "source": [
    "The best result is for 6 category features, listed below:"
   ]
  },
  {
   "cell_type": "code",
   "execution_count": 144,
   "metadata": {},
   "outputs": [
    {
     "name": "stdout",
     "output_type": "stream",
     "text": [
      "Bsmt Qual\n",
      "Neighborhood\n",
      "Kitchen Qual\n",
      "Exter Qual\n",
      "Bsmt Exposure\n",
      "Foundation\n"
     ]
    }
   ],
   "source": [
    "for i in best_rmse[0:6].index:\n",
    "    print(i)"
   ]
  },
  {
   "cell_type": "markdown",
   "metadata": {
    "collapsed": true
   },
   "source": [
    "### Training and Testint with Cross Validation"
   ]
  },
  {
   "cell_type": "markdown",
   "metadata": {},
   "source": [
    "Below I'll train and test the model with the features selected above, so the 11 numeric feature columns and six category columns."
   ]
  },
  {
   "cell_type": "code",
   "execution_count": 145,
   "metadata": {},
   "outputs": [
    {
     "data": {
      "text/plain": [
       "['Bsmt Qual',\n",
       " 'Neighborhood',\n",
       " 'Kitchen Qual',\n",
       " 'Exter Qual',\n",
       " 'Bsmt Exposure',\n",
       " 'Foundation']"
      ]
     },
     "execution_count": 145,
     "metadata": {},
     "output_type": "execute_result"
    }
   ],
   "source": [
    "category_list =list(best_rmse[0:6].index)\n",
    "category_list"
   ]
  },
  {
   "cell_type": "code",
   "execution_count": 146,
   "metadata": {},
   "outputs": [
    {
     "data": {
      "text/plain": [
       "['Overall Qual',\n",
       " 'Gr Liv Area',\n",
       " 'Garage Cars',\n",
       " 'Total Bsmt SF',\n",
       " 'age',\n",
       " 'Full Bath',\n",
       " 'years_until_remod',\n",
       " 'Year Remod/Add',\n",
       " 'Mas Vnr Area',\n",
       " 'Fireplaces',\n",
       " 'BsmtFin SF 1']"
      ]
     },
     "execution_count": 146,
     "metadata": {},
     "output_type": "execute_result"
    }
   ],
   "source": [
    "numeric_list = list(X_scaled_train_df.select_dtypes(include=[np.number]).columns)\n",
    "numeric_list"
   ]
  },
  {
   "cell_type": "code",
   "execution_count": 147,
   "metadata": {},
   "outputs": [
    {
     "data": {
      "text/plain": [
       "['Bsmt Qual',\n",
       " 'Neighborhood',\n",
       " 'Kitchen Qual',\n",
       " 'Exter Qual',\n",
       " 'Bsmt Exposure',\n",
       " 'Foundation',\n",
       " 'Overall Qual',\n",
       " 'Gr Liv Area',\n",
       " 'Garage Cars',\n",
       " 'Total Bsmt SF',\n",
       " 'age',\n",
       " 'Full Bath',\n",
       " 'years_until_remod',\n",
       " 'Year Remod/Add',\n",
       " 'Mas Vnr Area',\n",
       " 'Fireplaces',\n",
       " 'BsmtFin SF 1',\n",
       " 'SalePrice']"
      ]
     },
     "execution_count": 147,
     "metadata": {},
     "output_type": "execute_result"
    }
   ],
   "source": [
    "all_columns = category_list\n",
    "all_columns.extend(numeric_list)\n",
    "all_columns.append(\"SalePrice\")\n",
    "all_columns"
   ]
  },
  {
   "cell_type": "code",
   "execution_count": 148,
   "metadata": {},
   "outputs": [],
   "source": [
    "def select_features(df, all_columns, threshold):\n",
    "    \"\"\"\n",
    "    \n",
    "     Select the features in all_columns\n",
    "     Create the columns age (age of the house) and years_until_remod (years since the\n",
    "     last renovation)\n",
    "     Group category values with less than 25 elements to \"other\".\n",
    "     Impute object or category columns with the most frequent values\n",
    "     Tranform all the object columns to category.\n",
    "     \n",
    "     Parameters:\n",
    "     df (DataFrame): the uncleaned DataFrame\n",
    "     all_columns (List): the features selected for the model\n",
    "     threshold(float or int): the limit for the max percentage of null values in columns\n",
    "     \n",
    "     Returns:\n",
    "     the transformed and cleaned df (DataFrame)\n",
    "     \n",
    "    \"\"\"\n",
    "    df[\"age\"] = df[\"Yr Sold\"] - df[\"Year Built\"]\n",
    "    df.drop(df[\"age\"][df[\"age\"] < 0].index, axis = 0, inplace=True)\n",
    "    df[\"years_until_remod\"] = df[\"Yr Sold\"] - df[\"Year Built\"]\n",
    "    df = df[all_columns]\n",
    "    df_category = df.select_dtypes(include=[\"object\", \"category\"])\n",
    "    for col in list(df_category.columns):\n",
    "        #print(df_category.columns)\n",
    "        counts = df[col].value_counts()\n",
    "        most_frequent = counts.sort_values(ascending=False).index[0]\n",
    "        df[col].fillna(most_frequent, inplace=True)\n",
    "        for index, value in counts.iteritems():\n",
    "            if value <= threshold:\n",
    "                df[col][df[col] == index] = 'other'\n",
    "        df[col] = df[col].astype('category')    \n",
    "    return df"
   ]
  },
  {
   "cell_type": "code",
   "execution_count": 149,
   "metadata": {},
   "outputs": [],
   "source": [
    "def transform_features_train(df_train):\n",
    "    \"\"\"\n",
    "      Transform the train DataFrame.\n",
    "      Impute numeric columns with the mean of the column.\n",
    "      Scale the numeric values with a MinMaxScaler.\n",
    "      Create dummy columns for category columns.\n",
    "      \n",
    "      Parameters:\n",
    "      df_train (DataFrame): the train DataFrame to transform\n",
    "      \n",
    "      Returns:\n",
    "        the transformed DataFrame suitable for machine learning.\n",
    "    \"\"\"\n",
    "    df_numeric = df_train.select_dtypes(include=[np.number])\n",
    "    for col in df_numeric.columns:\n",
    "        df_numeric[col].fillna(df_train[col].mean(), inplace=True)\n",
    "    scaler = MinMaxScaler()\n",
    "    scaler.fit(df_numeric)\n",
    "    numeric_transform = scaler.transform(df_numeric)\n",
    "    numeric_transform_df = pd.DataFrame(numeric_transform, columns = df_numeric.columns, index= df_numeric.index)\n",
    "    df_category = df_train.select_dtypes(include=['category'])\n",
    "    category_cols = list(df_category.columns)\n",
    "    df_dummies = pd.get_dummies(df_train[category_cols])\n",
    "    concat_df = pd.concat([numeric_transform_df, df_dummies], axis=1).reset_index(drop=True)\n",
    "    return concat_df"
   ]
  },
  {
   "cell_type": "code",
   "execution_count": 150,
   "metadata": {},
   "outputs": [],
   "source": [
    "def transform_features_test(df_test, df_train, category_columns):\n",
    "    \"\"\"\n",
    "       Transform the test DataFrame.\n",
    "       Impute numeric columns with the mean of the same train column.\n",
    "       Scale numeric columms with a MinMaxScaler.\n",
    "       Create dummies from category columns\n",
    "       \n",
    "       Parameters:\n",
    "       df_test (DataFrame): the test DataFrame\n",
    "       df_train (DataFrame): the cleaned train DataFrame\n",
    "       category_columns(List): the list of category columns for the model\n",
    "       \n",
    "       Returns:\n",
    "       The test transformed DataFrame suitable for machine learning.\n",
    "        \n",
    "    \"\"\"\n",
    "    df_numeric = df_test.select_dtypes(include=[np.number])\n",
    "    for col in df_numeric.columns:\n",
    "        df_numeric[col].fillna(df_train[col].mean(), inplace=True)\n",
    "    scaler = MinMaxScaler()\n",
    "    scaler.fit(df_numeric)\n",
    "    numeric_transform = scaler.transform(df_numeric)\n",
    "    numeric_transform_df = pd.DataFrame(numeric_transform, columns = df_numeric.columns, index= df_numeric.index)\n",
    "    df_category = df_test.select_dtypes(include=['category'])\n",
    "    category_cols = list(df_category.columns)\n",
    "    df_dummies = pd.get_dummies(df_test[category_cols])\n",
    "    concat_df = pd.concat([numeric_transform_df, df_dummies], axis=1).reset_index(drop=True)\n",
    "    return concat_df"
   ]
  },
  {
   "cell_type": "code",
   "execution_count": 151,
   "metadata": {},
   "outputs": [],
   "source": [
    "def transform_and_train(train_df, test_df, categories, y_train, y_test):\n",
    "    \"\"\"\n",
    "       Clean train and test the datasets and performs LinearRegression\n",
    "       \n",
    "       Parameters:\n",
    "       train_df (DataFrame): the training dataset\n",
    "       test_df (DataFrame): the testing dataset\n",
    "       categories (List): the list of category columns of the model\n",
    "       y_train (Series): the training target column for the Linear Regression\n",
    "       y_test (Series): the testing target column.\n",
    "       \n",
    "       Returns:\n",
    "       rmse (float): the Root Mean Squared Error for the Linear Regression performed\n",
    "       on the training set and tested on the test set.\n",
    "    \"\"\"\n",
    "    train_clean = transform_features_train(train_df)\n",
    "    test_clean = transform_features_test(test_df, train_clean, categories)\n",
    "    lr = LinearRegression()\n",
    "    lr.fit(train_clean, y_train )\n",
    "    prediction = lr.predict(test_clean)\n",
    "    rmse = np.sqrt(mean_squared_error(y_test, prediction))\n",
    "    return rmse"
   ]
  },
  {
   "cell_type": "code",
   "execution_count": 152,
   "metadata": {},
   "outputs": [],
   "source": [
    "from sklearn.model_selection import KFold\n",
    "np.random.seed(1)\n",
    "def cross_validation(df,category_cols, k=0):\n",
    "    \"\"\"\n",
    "     Performs cross validation for different values of k.\n",
    "     k = 0, holdout validation\n",
    "     k= 1, simple cross validation\n",
    "     k > 1 K-fold validation with scikit-learn KFold class.\n",
    "    \"\"\"\n",
    "    \n",
    "    if k < 0:\n",
    "        raise ValueError(\"k must be zero or positive\")\n",
    "        \n",
    "    if k == 0:   \n",
    "        \n",
    "        train = df[:1460]\n",
    "        test = df[1460:]\n",
    "        y_train = train[\"SalePrice\"]\n",
    "        y_test = test[\"SalePrice\"]\n",
    "        rmse = transform_and_train(train, test,category_list, y_train, y_test)\n",
    "        return rmse\n",
    "    \n",
    "    elif k == 1:\n",
    "        df = df.sample(frac= 1)\n",
    "        rmses = []\n",
    "        fold_1 = df[:1460]\n",
    "        fold_2 = df[1460:]\n",
    "        y_fold_1 = fold_1[\"SalePrice\"]\n",
    "        y_fold_2 = fold_2[\"SalePrice\"]\n",
    "        rmse_1 = transform_and_train(fold_1.copy(), fold_2.copy(), category_list, y_fold_1, y_fold_2)\n",
    "        rmses.append(rmse_1)\n",
    "        rmse_2 = transform_and_train(fold_2.copy(), fold_1.copy(), category_list, y_fold_2, y_fold_1)\n",
    "        rmses.append(rmse_2)\n",
    "        return rmses\n",
    "\n",
    "    else:\n",
    "        kf = KFold(n_splits= k, shuffle=True)\n",
    "        rmse_values = []\n",
    "        for train_index, test_index, in kf.split(df):\n",
    "            train = df.iloc[train_index]\n",
    "            test = df.iloc[test_index]\n",
    "            y_train = train[\"SalePrice\"]\n",
    "            y_test = test[\"SalePrice\"]\n",
    "            train_clean = transform_features_train(train)\n",
    "            test_clean = transform_features_test(test, train_clean, category_list)\n",
    "            lr = LinearRegression()\n",
    "            lr.fit(train_clean, y_train)\n",
    "            prediction = lr.predict(test_clean)\n",
    "            rmse = np.sqrt(mean_squared_error(y_test, prediction))\n",
    "            rmse_values.append(rmse)\n",
    "        return rmse_values\n",
    "        "
   ]
  },
  {
   "cell_type": "code",
   "execution_count": 153,
   "metadata": {},
   "outputs": [],
   "source": [
    "houses = pd.read_csv(\"AmesHousing.tsv\", delimiter=\"\\t\")"
   ]
  },
  {
   "cell_type": "code",
   "execution_count": 154,
   "metadata": {},
   "outputs": [],
   "source": [
    "houses_clean = select_features(houses, all_columns, 5)"
   ]
  },
  {
   "cell_type": "code",
   "execution_count": 155,
   "metadata": {},
   "outputs": [
    {
     "name": "stdout",
     "output_type": "stream",
     "text": [
      "---------------------------------\n",
      "validating for k = 0\n",
      "rmse values:\n",
      "35575.1424962999\n",
      "---------------------------------\n",
      "---------------------------------\n",
      "validating for k = 1\n",
      "rmse values:\n",
      "[42731.022341605625, 35122.39860361994]\n",
      "mean : 38926.71047261279\n",
      "---------------------------------\n",
      "---------------------------------\n",
      "validating for k = 3\n",
      "rmse values:\n",
      "[15202.353456257633, 36093.256684344604, 16046.546004494061]\n",
      "mean : 22447.385381698765\n",
      "---------------------------------\n",
      "---------------------------------\n",
      "validating for k = 4\n",
      "rmse values:\n",
      "[41998.49919045644, 31018.654892912105, 53341.27064892245, 39285.53454914323]\n",
      "mean : 41410.989820358554\n",
      "---------------------------------\n",
      "---------------------------------\n",
      "validating for k = 5\n",
      "rmse values:\n",
      "[23961.900536707148, 52887.38908108129, 16344.300062533463, 43833.27460395919, 2842.7862508361445]\n",
      "mean : 27973.93010702345\n",
      "---------------------------------\n"
     ]
    }
   ],
   "source": [
    "for fold in [0, 1, 3, 4, 5]:\n",
    "    print(\"---------------------------------\")\n",
    "    print(\"validating for k = {}\".format(fold))\n",
    "    rmse = cross_validation(houses_clean.copy(), category_list, k=fold)\n",
    "    print(\"rmse values:\")\n",
    "    print(rmse)\n",
    "    if fold > 0:\n",
    "       print(\"mean : {}\".format(np.mean(rmse)))\n",
    "    print(\"---------------------------------\")"
   ]
  },
  {
   "cell_type": "markdown",
   "metadata": {},
   "source": [
    "All the trainings with cross validation confirm what we have found: the multi-regression model has a significative increase in accuracy respect to the simple regression model, with an error estimated between about 39,000 for the holdout validation to about 22,000 for the model trained with k-fold validation with k=3, much less than the error ranging from 56,000 to 68,000 of the simple model."
   ]
  },
  {
   "cell_type": "code",
   "execution_count": null,
   "metadata": {},
   "outputs": [],
   "source": []
  }
 ],
 "metadata": {
  "anaconda-cloud": {},
  "kernelspec": {
   "display_name": "Python 3",
   "language": "python",
   "name": "python3"
  },
  "language_info": {
   "codemirror_mode": {
    "name": "ipython",
    "version": 3
   },
   "file_extension": ".py",
   "mimetype": "text/x-python",
   "name": "python",
   "nbconvert_exporter": "python",
   "pygments_lexer": "ipython3",
   "version": "3.6.10"
  }
 },
 "nbformat": 4,
 "nbformat_minor": 2
}

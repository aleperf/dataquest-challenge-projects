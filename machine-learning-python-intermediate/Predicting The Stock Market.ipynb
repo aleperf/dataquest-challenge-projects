{
 "cells": [
  {
   "cell_type": "markdown",
   "metadata": {},
   "source": [
    "In this project I'm goint to use the S&P 500 index,  a stock market index that measures the stock performance of 500 large companies listed on stock exchanges in the United States (see [here in wikipedia](https://en.wikipedia.org/wiki/S%26P_500_Index)). <br>\n",
    "\n",
    "I'll train a lineare regression model with data until 1/1/2013 and I'll use the rest of the data to test if the prediction model is effective. <br>\n",
    "This is just an experiment, predicting stock prices using machine learning models is a very difficult task, beyond the complexity of the models used in this project."
   ]
  },
  {
   "cell_type": "code",
   "execution_count": 50,
   "metadata": {},
   "outputs": [],
   "source": [
    "import pandas as pd\n",
    "import numpy as np\n",
    "from datetime import datetime\n",
    "from sklearn.metrics import mean_squared_error\n",
    "from sklearn.linear_model import LinearRegression\n"
   ]
  },
  {
   "cell_type": "code",
   "execution_count": 51,
   "metadata": {},
   "outputs": [],
   "source": [
    "stocks = pd.read_csv(\"sphist.csv\", parse_dates=[\"Date\"])"
   ]
  },
  {
   "cell_type": "code",
   "execution_count": 52,
   "metadata": {},
   "outputs": [
    {
     "data": {
      "text/html": [
       "<div>\n",
       "<style scoped>\n",
       "    .dataframe tbody tr th:only-of-type {\n",
       "        vertical-align: middle;\n",
       "    }\n",
       "\n",
       "    .dataframe tbody tr th {\n",
       "        vertical-align: top;\n",
       "    }\n",
       "\n",
       "    .dataframe thead th {\n",
       "        text-align: right;\n",
       "    }\n",
       "</style>\n",
       "<table border=\"1\" class=\"dataframe\">\n",
       "  <thead>\n",
       "    <tr style=\"text-align: right;\">\n",
       "      <th></th>\n",
       "      <th>Date</th>\n",
       "      <th>Open</th>\n",
       "      <th>High</th>\n",
       "      <th>Low</th>\n",
       "      <th>Close</th>\n",
       "      <th>Volume</th>\n",
       "      <th>Adj Close</th>\n",
       "    </tr>\n",
       "  </thead>\n",
       "  <tbody>\n",
       "    <tr>\n",
       "      <th>0</th>\n",
       "      <td>2015-12-07</td>\n",
       "      <td>2090.419922</td>\n",
       "      <td>2090.419922</td>\n",
       "      <td>2066.780029</td>\n",
       "      <td>2077.070068</td>\n",
       "      <td>4.043820e+09</td>\n",
       "      <td>2077.070068</td>\n",
       "    </tr>\n",
       "    <tr>\n",
       "      <th>1</th>\n",
       "      <td>2015-12-04</td>\n",
       "      <td>2051.239990</td>\n",
       "      <td>2093.840088</td>\n",
       "      <td>2051.239990</td>\n",
       "      <td>2091.689941</td>\n",
       "      <td>4.214910e+09</td>\n",
       "      <td>2091.689941</td>\n",
       "    </tr>\n",
       "    <tr>\n",
       "      <th>2</th>\n",
       "      <td>2015-12-03</td>\n",
       "      <td>2080.709961</td>\n",
       "      <td>2085.000000</td>\n",
       "      <td>2042.349976</td>\n",
       "      <td>2049.620117</td>\n",
       "      <td>4.306490e+09</td>\n",
       "      <td>2049.620117</td>\n",
       "    </tr>\n",
       "    <tr>\n",
       "      <th>3</th>\n",
       "      <td>2015-12-02</td>\n",
       "      <td>2101.709961</td>\n",
       "      <td>2104.270020</td>\n",
       "      <td>2077.110107</td>\n",
       "      <td>2079.510010</td>\n",
       "      <td>3.950640e+09</td>\n",
       "      <td>2079.510010</td>\n",
       "    </tr>\n",
       "    <tr>\n",
       "      <th>4</th>\n",
       "      <td>2015-12-01</td>\n",
       "      <td>2082.929932</td>\n",
       "      <td>2103.370117</td>\n",
       "      <td>2082.929932</td>\n",
       "      <td>2102.629883</td>\n",
       "      <td>3.712120e+09</td>\n",
       "      <td>2102.629883</td>\n",
       "    </tr>\n",
       "  </tbody>\n",
       "</table>\n",
       "</div>"
      ],
      "text/plain": [
       "        Date         Open         High          Low        Close  \\\n",
       "0 2015-12-07  2090.419922  2090.419922  2066.780029  2077.070068   \n",
       "1 2015-12-04  2051.239990  2093.840088  2051.239990  2091.689941   \n",
       "2 2015-12-03  2080.709961  2085.000000  2042.349976  2049.620117   \n",
       "3 2015-12-02  2101.709961  2104.270020  2077.110107  2079.510010   \n",
       "4 2015-12-01  2082.929932  2103.370117  2082.929932  2102.629883   \n",
       "\n",
       "         Volume    Adj Close  \n",
       "0  4.043820e+09  2077.070068  \n",
       "1  4.214910e+09  2091.689941  \n",
       "2  4.306490e+09  2049.620117  \n",
       "3  3.950640e+09  2079.510010  \n",
       "4  3.712120e+09  2102.629883  "
      ]
     },
     "execution_count": 52,
     "metadata": {},
     "output_type": "execute_result"
    }
   ],
   "source": [
    "stocks.head()"
   ]
  },
  {
   "cell_type": "code",
   "execution_count": 53,
   "metadata": {},
   "outputs": [
    {
     "name": "stdout",
     "output_type": "stream",
     "text": [
      "<class 'pandas.core.frame.DataFrame'>\n",
      "RangeIndex: 16590 entries, 0 to 16589\n",
      "Data columns (total 7 columns):\n",
      " #   Column     Non-Null Count  Dtype         \n",
      "---  ------     --------------  -----         \n",
      " 0   Date       16590 non-null  datetime64[ns]\n",
      " 1   Open       16590 non-null  float64       \n",
      " 2   High       16590 non-null  float64       \n",
      " 3   Low        16590 non-null  float64       \n",
      " 4   Close      16590 non-null  float64       \n",
      " 5   Volume     16590 non-null  float64       \n",
      " 6   Adj Close  16590 non-null  float64       \n",
      "dtypes: datetime64[ns](1), float64(6)\n",
      "memory usage: 907.4 KB\n"
     ]
    }
   ],
   "source": [
    "stocks.info()"
   ]
  },
  {
   "cell_type": "code",
   "execution_count": 54,
   "metadata": {},
   "outputs": [],
   "source": [
    "stocks = stocks.sort_values(by=[\"Date\"])"
   ]
  },
  {
   "cell_type": "markdown",
   "metadata": {},
   "source": [
    "### Generating indicators\n",
    "\n",
    "I'll create new features from the ones in the dataset to help in predictions. Features indexing previous days are calculated not including the day they are referred to, so the day_5 column is the average of the five working days preceding the current one."
   ]
  },
  {
   "cell_type": "markdown",
   "metadata": {},
   "source": [
    "### Index at Close"
   ]
  },
  {
   "cell_type": "markdown",
   "metadata": {},
   "source": [
    "#### Average index at close in the previous 5 working days"
   ]
  },
  {
   "cell_type": "code",
   "execution_count": 55,
   "metadata": {},
   "outputs": [],
   "source": [
    "stocks[\"days_5\"] = stocks[\"Close\"].rolling(window=5).mean().shift(1)"
   ]
  },
  {
   "cell_type": "markdown",
   "metadata": {},
   "source": [
    "#### Standard deviation of the average of the index at close in the previous 5 days"
   ]
  },
  {
   "cell_type": "code",
   "execution_count": 56,
   "metadata": {},
   "outputs": [],
   "source": [
    "stocks[\"std_5\"] = stocks[\"Close\"].rolling(window=5).std().shift(1)"
   ]
  },
  {
   "cell_type": "markdown",
   "metadata": {},
   "source": [
    "#### Average index at close in the previous 30 working days"
   ]
  },
  {
   "cell_type": "code",
   "execution_count": 57,
   "metadata": {},
   "outputs": [],
   "source": [
    "stocks[\"days_30\"] = stocks[\"Close\"].rolling(window=30).mean().shift(1)"
   ]
  },
  {
   "cell_type": "markdown",
   "metadata": {},
   "source": [
    "#### Standard deviation of the average of the index at close in the previous 30 days"
   ]
  },
  {
   "cell_type": "code",
   "execution_count": 58,
   "metadata": {},
   "outputs": [],
   "source": [
    "stocks[\"std_30\"] = stocks[\"Close\"].rolling(window=30).std().shift(1)"
   ]
  },
  {
   "cell_type": "markdown",
   "metadata": {},
   "source": [
    "#### Average index at close in the previous 365 working days"
   ]
  },
  {
   "cell_type": "code",
   "execution_count": 59,
   "metadata": {},
   "outputs": [],
   "source": [
    "stocks[\"days_365\"] = stocks[\"Close\"].rolling(window=365).mean().shift(1)"
   ]
  },
  {
   "cell_type": "markdown",
   "metadata": {},
   "source": [
    "#### Standard deviation of the average of the index at close in the previous 365 days"
   ]
  },
  {
   "cell_type": "code",
   "execution_count": 60,
   "metadata": {},
   "outputs": [],
   "source": [
    "stocks[\"std_365\"] = stocks[\"Close\"].rolling(window=365).std().shift(1)"
   ]
  },
  {
   "cell_type": "markdown",
   "metadata": {},
   "source": [
    "#### Ratio between the the five days average and the 365 days average of the index at close"
   ]
  },
  {
   "cell_type": "code",
   "execution_count": 61,
   "metadata": {},
   "outputs": [],
   "source": [
    "stocks[\"ratio_5_365\"] = stocks[\"days_5\"] / stocks[\"days_365\"]"
   ]
  },
  {
   "cell_type": "markdown",
   "metadata": {},
   "source": [
    "### Ratio between std_5 and std_365"
   ]
  },
  {
   "cell_type": "code",
   "execution_count": 62,
   "metadata": {},
   "outputs": [],
   "source": [
    "stocks[\"std_ratio_5_365\"] = stocks[\"std_5\"]/stocks[\"std_365\"]"
   ]
  },
  {
   "cell_type": "markdown",
   "metadata": {},
   "source": [
    "### Volume"
   ]
  },
  {
   "cell_type": "markdown",
   "metadata": {},
   "source": [
    "#### Volume in the previous 5 working days"
   ]
  },
  {
   "cell_type": "code",
   "execution_count": 63,
   "metadata": {},
   "outputs": [],
   "source": [
    "stocks[\"volume_5\"] = stocks[\"Volume\"].rolling(window=5).mean().shift(1)"
   ]
  },
  {
   "cell_type": "markdown",
   "metadata": {},
   "source": [
    "#### Standard deviation of the average volume over the last 5 days"
   ]
  },
  {
   "cell_type": "code",
   "execution_count": 64,
   "metadata": {},
   "outputs": [],
   "source": [
    "stocks[\"std_vol_5\"] = stocks[\"volume_5\"].rolling(window=5).std().shift(1)"
   ]
  },
  {
   "cell_type": "markdown",
   "metadata": {},
   "source": [
    "#### Volume in the previous 365  working days"
   ]
  },
  {
   "cell_type": "code",
   "execution_count": 65,
   "metadata": {},
   "outputs": [],
   "source": [
    "stocks[\"volume_365\"] = stocks[\"Volume\"].rolling(window=365).mean().shift(1)"
   ]
  },
  {
   "cell_type": "markdown",
   "metadata": {},
   "source": [
    "#### Standard deviation of the average volume over the last 365 days"
   ]
  },
  {
   "cell_type": "code",
   "execution_count": 66,
   "metadata": {},
   "outputs": [],
   "source": [
    "stocks[\"std_vol_365\"] = stocks[\"volume_365\"].rolling(window=365).std().shift(1)"
   ]
  },
  {
   "cell_type": "markdown",
   "metadata": {},
   "source": [
    "#### Ratio between volume in the previous 5 and 365 working days"
   ]
  },
  {
   "cell_type": "code",
   "execution_count": 67,
   "metadata": {},
   "outputs": [],
   "source": [
    "stocks[\"vol_ratio_5_365\"] = stocks[\"volume_5\"] /stocks[\"volume_365\"]"
   ]
  },
  {
   "cell_type": "markdown",
   "metadata": {},
   "source": [
    "#### Ratio between std_vol_5 and std_vol_365"
   ]
  },
  {
   "cell_type": "code",
   "execution_count": 68,
   "metadata": {},
   "outputs": [],
   "source": [
    "stocks[\"std_vol_ratio_5_365\"] = stocks[\"std_vol_5\"]/stocks[\"std_vol_365\"]"
   ]
  },
  {
   "cell_type": "markdown",
   "metadata": {},
   "source": [
    "### Yearly indexes"
   ]
  },
  {
   "cell_type": "markdown",
   "metadata": {},
   "source": [
    "#### Yearly min and max indexes"
   ]
  },
  {
   "cell_type": "code",
   "execution_count": 69,
   "metadata": {},
   "outputs": [],
   "source": [
    "stocks[\"min_365\"] = stocks[\"Close\"].rolling(window=365).min().shift(1)"
   ]
  },
  {
   "cell_type": "code",
   "execution_count": 70,
   "metadata": {},
   "outputs": [],
   "source": [
    "stocks[\"max_365\"] = stocks[\"Close\"].rolling(window=365).max().shift(1)"
   ]
  },
  {
   "cell_type": "code",
   "execution_count": 71,
   "metadata": {},
   "outputs": [],
   "source": [
    "stocks[\"ratio_to_min_365\"] = stocks[\"Close\"] /stocks[\"min_365\"]"
   ]
  },
  {
   "cell_type": "code",
   "execution_count": 72,
   "metadata": {},
   "outputs": [],
   "source": [
    "stocks[\"ratio_to_max_365\"] = stocks[\"Close\"] /stocks[\"max_365\"]"
   ]
  },
  {
   "cell_type": "code",
   "execution_count": 73,
   "metadata": {},
   "outputs": [
    {
     "data": {
      "text/plain": [
       "(16590, 25)"
      ]
     },
     "execution_count": 73,
     "metadata": {},
     "output_type": "execute_result"
    }
   ],
   "source": [
    "stocks.shape"
   ]
  },
  {
   "cell_type": "code",
   "execution_count": 74,
   "metadata": {},
   "outputs": [],
   "source": [
    "data = stocks.copy()"
   ]
  },
  {
   "cell_type": "markdown",
   "metadata": {},
   "source": [
    "### Removing null values and Scaling the data"
   ]
  },
  {
   "cell_type": "markdown",
   "metadata": {},
   "source": [
    "I'll remove any rows before 1951-01-03 and any rows with missing values"
   ]
  },
  {
   "cell_type": "code",
   "execution_count": 75,
   "metadata": {},
   "outputs": [],
   "source": [
    "data = data[data[\"Date\"] > datetime(year=1951, month=1, day=2)]"
   ]
  },
  {
   "cell_type": "code",
   "execution_count": 76,
   "metadata": {},
   "outputs": [
    {
     "data": {
      "text/plain": [
       "(16340, 25)"
      ]
     },
     "execution_count": 76,
     "metadata": {},
     "output_type": "execute_result"
    }
   ],
   "source": [
    "data.shape"
   ]
  },
  {
   "cell_type": "code",
   "execution_count": 77,
   "metadata": {},
   "outputs": [],
   "source": [
    "data = data.dropna(axis= 0)"
   ]
  },
  {
   "cell_type": "code",
   "execution_count": 78,
   "metadata": {},
   "outputs": [
    {
     "data": {
      "text/plain": [
       "(15860, 25)"
      ]
     },
     "execution_count": 78,
     "metadata": {},
     "output_type": "execute_result"
    }
   ],
   "source": [
    "data.shape"
   ]
  },
  {
   "cell_type": "code",
   "execution_count": 79,
   "metadata": {},
   "outputs": [
    {
     "data": {
      "text/html": [
       "<div>\n",
       "<style scoped>\n",
       "    .dataframe tbody tr th:only-of-type {\n",
       "        vertical-align: middle;\n",
       "    }\n",
       "\n",
       "    .dataframe tbody tr th {\n",
       "        vertical-align: top;\n",
       "    }\n",
       "\n",
       "    .dataframe thead th {\n",
       "        text-align: right;\n",
       "    }\n",
       "</style>\n",
       "<table border=\"1\" class=\"dataframe\">\n",
       "  <thead>\n",
       "    <tr style=\"text-align: right;\">\n",
       "      <th></th>\n",
       "      <th>Date</th>\n",
       "      <th>Open</th>\n",
       "      <th>High</th>\n",
       "      <th>Low</th>\n",
       "      <th>Close</th>\n",
       "      <th>Volume</th>\n",
       "      <th>Adj Close</th>\n",
       "      <th>days_5</th>\n",
       "      <th>std_5</th>\n",
       "      <th>days_30</th>\n",
       "      <th>...</th>\n",
       "      <th>volume_5</th>\n",
       "      <th>std_vol_5</th>\n",
       "      <th>volume_365</th>\n",
       "      <th>std_vol_365</th>\n",
       "      <th>vol_ratio_5_365</th>\n",
       "      <th>std_vol_ratio_5_365</th>\n",
       "      <th>min_365</th>\n",
       "      <th>max_365</th>\n",
       "      <th>ratio_to_min_365</th>\n",
       "      <th>ratio_to_max_365</th>\n",
       "    </tr>\n",
       "  </thead>\n",
       "  <tbody>\n",
       "    <tr>\n",
       "      <th>15859</th>\n",
       "      <td>1952-12-05</td>\n",
       "      <td>25.620001</td>\n",
       "      <td>25.620001</td>\n",
       "      <td>25.620001</td>\n",
       "      <td>25.620001</td>\n",
       "      <td>1.510000e+06</td>\n",
       "      <td>25.620001</td>\n",
       "      <td>25.680000</td>\n",
       "      <td>0.049497</td>\n",
       "      <td>24.835000</td>\n",
       "      <td>...</td>\n",
       "      <td>1.810000e+06</td>\n",
       "      <td>6.613622e+04</td>\n",
       "      <td>1.356904e+06</td>\n",
       "      <td>2.223773e+05</td>\n",
       "      <td>1.333919</td>\n",
       "      <td>0.297405</td>\n",
       "      <td>20.959999</td>\n",
       "      <td>25.740000</td>\n",
       "      <td>1.222328</td>\n",
       "      <td>0.995338</td>\n",
       "    </tr>\n",
       "    <tr>\n",
       "      <th>15858</th>\n",
       "      <td>1952-12-08</td>\n",
       "      <td>25.760000</td>\n",
       "      <td>25.760000</td>\n",
       "      <td>25.760000</td>\n",
       "      <td>25.760000</td>\n",
       "      <td>1.790000e+06</td>\n",
       "      <td>25.760000</td>\n",
       "      <td>25.672000</td>\n",
       "      <td>0.056302</td>\n",
       "      <td>24.886667</td>\n",
       "      <td>...</td>\n",
       "      <td>1.680000e+06</td>\n",
       "      <td>8.884819e+04</td>\n",
       "      <td>1.358027e+06</td>\n",
       "      <td>2.226700e+05</td>\n",
       "      <td>1.237088</td>\n",
       "      <td>0.399013</td>\n",
       "      <td>20.959999</td>\n",
       "      <td>25.740000</td>\n",
       "      <td>1.229008</td>\n",
       "      <td>1.000777</td>\n",
       "    </tr>\n",
       "    <tr>\n",
       "      <th>15857</th>\n",
       "      <td>1952-12-09</td>\n",
       "      <td>25.930000</td>\n",
       "      <td>25.930000</td>\n",
       "      <td>25.930000</td>\n",
       "      <td>25.930000</td>\n",
       "      <td>2.120000e+06</td>\n",
       "      <td>25.930000</td>\n",
       "      <td>25.688000</td>\n",
       "      <td>0.069065</td>\n",
       "      <td>24.952000</td>\n",
       "      <td>...</td>\n",
       "      <td>1.618000e+06</td>\n",
       "      <td>1.367962e+05</td>\n",
       "      <td>1.359863e+06</td>\n",
       "      <td>2.229455e+05</td>\n",
       "      <td>1.189826</td>\n",
       "      <td>0.613586</td>\n",
       "      <td>20.959999</td>\n",
       "      <td>25.760000</td>\n",
       "      <td>1.237118</td>\n",
       "      <td>1.006599</td>\n",
       "    </tr>\n",
       "    <tr>\n",
       "      <th>15856</th>\n",
       "      <td>1952-12-10</td>\n",
       "      <td>25.980000</td>\n",
       "      <td>25.980000</td>\n",
       "      <td>25.980000</td>\n",
       "      <td>25.980000</td>\n",
       "      <td>1.880000e+06</td>\n",
       "      <td>25.980000</td>\n",
       "      <td>25.726000</td>\n",
       "      <td>0.130115</td>\n",
       "      <td>25.020667</td>\n",
       "      <td>...</td>\n",
       "      <td>1.720000e+06</td>\n",
       "      <td>1.358632e+05</td>\n",
       "      <td>1.362658e+06</td>\n",
       "      <td>2.232067e+05</td>\n",
       "      <td>1.262239</td>\n",
       "      <td>0.608688</td>\n",
       "      <td>20.959999</td>\n",
       "      <td>25.930000</td>\n",
       "      <td>1.239504</td>\n",
       "      <td>1.001928</td>\n",
       "    </tr>\n",
       "    <tr>\n",
       "      <th>15855</th>\n",
       "      <td>1952-12-11</td>\n",
       "      <td>25.959999</td>\n",
       "      <td>25.959999</td>\n",
       "      <td>25.959999</td>\n",
       "      <td>25.959999</td>\n",
       "      <td>1.790000e+06</td>\n",
       "      <td>25.959999</td>\n",
       "      <td>25.780000</td>\n",
       "      <td>0.171318</td>\n",
       "      <td>25.085667</td>\n",
       "      <td>...</td>\n",
       "      <td>1.774000e+06</td>\n",
       "      <td>1.041288e+05</td>\n",
       "      <td>1.364137e+06</td>\n",
       "      <td>2.234562e+05</td>\n",
       "      <td>1.300456</td>\n",
       "      <td>0.465992</td>\n",
       "      <td>20.959999</td>\n",
       "      <td>25.980000</td>\n",
       "      <td>1.238550</td>\n",
       "      <td>0.999230</td>\n",
       "    </tr>\n",
       "    <tr>\n",
       "      <th>...</th>\n",
       "      <td>...</td>\n",
       "      <td>...</td>\n",
       "      <td>...</td>\n",
       "      <td>...</td>\n",
       "      <td>...</td>\n",
       "      <td>...</td>\n",
       "      <td>...</td>\n",
       "      <td>...</td>\n",
       "      <td>...</td>\n",
       "      <td>...</td>\n",
       "      <td>...</td>\n",
       "      <td>...</td>\n",
       "      <td>...</td>\n",
       "      <td>...</td>\n",
       "      <td>...</td>\n",
       "      <td>...</td>\n",
       "      <td>...</td>\n",
       "      <td>...</td>\n",
       "      <td>...</td>\n",
       "      <td>...</td>\n",
       "      <td>...</td>\n",
       "    </tr>\n",
       "    <tr>\n",
       "      <th>4</th>\n",
       "      <td>2015-12-01</td>\n",
       "      <td>2082.929932</td>\n",
       "      <td>2103.370117</td>\n",
       "      <td>2082.929932</td>\n",
       "      <td>2102.629883</td>\n",
       "      <td>3.712120e+09</td>\n",
       "      <td>2102.629883</td>\n",
       "      <td>2087.024023</td>\n",
       "      <td>3.916109</td>\n",
       "      <td>2073.984998</td>\n",
       "      <td>...</td>\n",
       "      <td>3.207544e+09</td>\n",
       "      <td>3.241733e+08</td>\n",
       "      <td>3.527800e+09</td>\n",
       "      <td>6.384811e+07</td>\n",
       "      <td>0.909219</td>\n",
       "      <td>5.077257</td>\n",
       "      <td>1862.489990</td>\n",
       "      <td>2130.820068</td>\n",
       "      <td>1.128935</td>\n",
       "      <td>0.986770</td>\n",
       "    </tr>\n",
       "    <tr>\n",
       "      <th>3</th>\n",
       "      <td>2015-12-02</td>\n",
       "      <td>2101.709961</td>\n",
       "      <td>2104.270020</td>\n",
       "      <td>2077.110107</td>\n",
       "      <td>2079.510010</td>\n",
       "      <td>3.950640e+09</td>\n",
       "      <td>2079.510010</td>\n",
       "      <td>2090.231982</td>\n",
       "      <td>7.956808</td>\n",
       "      <td>2076.283993</td>\n",
       "      <td>...</td>\n",
       "      <td>3.232372e+09</td>\n",
       "      <td>3.390314e+08</td>\n",
       "      <td>3.526090e+09</td>\n",
       "      <td>6.446658e+07</td>\n",
       "      <td>0.916702</td>\n",
       "      <td>5.259026</td>\n",
       "      <td>1862.489990</td>\n",
       "      <td>2130.820068</td>\n",
       "      <td>1.116521</td>\n",
       "      <td>0.975920</td>\n",
       "    </tr>\n",
       "    <tr>\n",
       "      <th>2</th>\n",
       "      <td>2015-12-03</td>\n",
       "      <td>2080.709961</td>\n",
       "      <td>2085.000000</td>\n",
       "      <td>2042.349976</td>\n",
       "      <td>2049.620117</td>\n",
       "      <td>4.306490e+09</td>\n",
       "      <td>2049.620117</td>\n",
       "      <td>2088.306006</td>\n",
       "      <td>9.333599</td>\n",
       "      <td>2077.908659</td>\n",
       "      <td>...</td>\n",
       "      <td>3.245514e+09</td>\n",
       "      <td>2.803620e+08</td>\n",
       "      <td>3.529468e+09</td>\n",
       "      <td>6.506381e+07</td>\n",
       "      <td>0.919548</td>\n",
       "      <td>4.309031</td>\n",
       "      <td>1862.489990</td>\n",
       "      <td>2130.820068</td>\n",
       "      <td>1.100473</td>\n",
       "      <td>0.961893</td>\n",
       "    </tr>\n",
       "    <tr>\n",
       "      <th>1</th>\n",
       "      <td>2015-12-04</td>\n",
       "      <td>2051.239990</td>\n",
       "      <td>2093.840088</td>\n",
       "      <td>2051.239990</td>\n",
       "      <td>2091.689941</td>\n",
       "      <td>4.214910e+09</td>\n",
       "      <td>2091.689941</td>\n",
       "      <td>2080.456006</td>\n",
       "      <td>19.599946</td>\n",
       "      <td>2078.931331</td>\n",
       "      <td>...</td>\n",
       "      <td>3.536224e+09</td>\n",
       "      <td>1.696382e+08</td>\n",
       "      <td>3.532802e+09</td>\n",
       "      <td>6.567572e+07</td>\n",
       "      <td>1.000969</td>\n",
       "      <td>2.582967</td>\n",
       "      <td>1862.489990</td>\n",
       "      <td>2130.820068</td>\n",
       "      <td>1.123061</td>\n",
       "      <td>0.981636</td>\n",
       "    </tr>\n",
       "    <tr>\n",
       "      <th>0</th>\n",
       "      <td>2015-12-07</td>\n",
       "      <td>2090.419922</td>\n",
       "      <td>2090.419922</td>\n",
       "      <td>2066.780029</td>\n",
       "      <td>2077.070068</td>\n",
       "      <td>4.043820e+09</td>\n",
       "      <td>2077.070068</td>\n",
       "      <td>2080.771973</td>\n",
       "      <td>19.806136</td>\n",
       "      <td>2080.237329</td>\n",
       "      <td>...</td>\n",
       "      <td>4.085838e+09</td>\n",
       "      <td>1.520693e+08</td>\n",
       "      <td>3.535838e+09</td>\n",
       "      <td>6.630139e+07</td>\n",
       "      <td>1.155550</td>\n",
       "      <td>2.293606</td>\n",
       "      <td>1862.489990</td>\n",
       "      <td>2130.820068</td>\n",
       "      <td>1.115211</td>\n",
       "      <td>0.974775</td>\n",
       "    </tr>\n",
       "  </tbody>\n",
       "</table>\n",
       "<p>15860 rows × 25 columns</p>\n",
       "</div>"
      ],
      "text/plain": [
       "            Date         Open         High          Low        Close  \\\n",
       "15859 1952-12-05    25.620001    25.620001    25.620001    25.620001   \n",
       "15858 1952-12-08    25.760000    25.760000    25.760000    25.760000   \n",
       "15857 1952-12-09    25.930000    25.930000    25.930000    25.930000   \n",
       "15856 1952-12-10    25.980000    25.980000    25.980000    25.980000   \n",
       "15855 1952-12-11    25.959999    25.959999    25.959999    25.959999   \n",
       "...          ...          ...          ...          ...          ...   \n",
       "4     2015-12-01  2082.929932  2103.370117  2082.929932  2102.629883   \n",
       "3     2015-12-02  2101.709961  2104.270020  2077.110107  2079.510010   \n",
       "2     2015-12-03  2080.709961  2085.000000  2042.349976  2049.620117   \n",
       "1     2015-12-04  2051.239990  2093.840088  2051.239990  2091.689941   \n",
       "0     2015-12-07  2090.419922  2090.419922  2066.780029  2077.070068   \n",
       "\n",
       "             Volume    Adj Close       days_5      std_5      days_30  ...  \\\n",
       "15859  1.510000e+06    25.620001    25.680000   0.049497    24.835000  ...   \n",
       "15858  1.790000e+06    25.760000    25.672000   0.056302    24.886667  ...   \n",
       "15857  2.120000e+06    25.930000    25.688000   0.069065    24.952000  ...   \n",
       "15856  1.880000e+06    25.980000    25.726000   0.130115    25.020667  ...   \n",
       "15855  1.790000e+06    25.959999    25.780000   0.171318    25.085667  ...   \n",
       "...             ...          ...          ...        ...          ...  ...   \n",
       "4      3.712120e+09  2102.629883  2087.024023   3.916109  2073.984998  ...   \n",
       "3      3.950640e+09  2079.510010  2090.231982   7.956808  2076.283993  ...   \n",
       "2      4.306490e+09  2049.620117  2088.306006   9.333599  2077.908659  ...   \n",
       "1      4.214910e+09  2091.689941  2080.456006  19.599946  2078.931331  ...   \n",
       "0      4.043820e+09  2077.070068  2080.771973  19.806136  2080.237329  ...   \n",
       "\n",
       "           volume_5     std_vol_5    volume_365   std_vol_365  \\\n",
       "15859  1.810000e+06  6.613622e+04  1.356904e+06  2.223773e+05   \n",
       "15858  1.680000e+06  8.884819e+04  1.358027e+06  2.226700e+05   \n",
       "15857  1.618000e+06  1.367962e+05  1.359863e+06  2.229455e+05   \n",
       "15856  1.720000e+06  1.358632e+05  1.362658e+06  2.232067e+05   \n",
       "15855  1.774000e+06  1.041288e+05  1.364137e+06  2.234562e+05   \n",
       "...             ...           ...           ...           ...   \n",
       "4      3.207544e+09  3.241733e+08  3.527800e+09  6.384811e+07   \n",
       "3      3.232372e+09  3.390314e+08  3.526090e+09  6.446658e+07   \n",
       "2      3.245514e+09  2.803620e+08  3.529468e+09  6.506381e+07   \n",
       "1      3.536224e+09  1.696382e+08  3.532802e+09  6.567572e+07   \n",
       "0      4.085838e+09  1.520693e+08  3.535838e+09  6.630139e+07   \n",
       "\n",
       "       vol_ratio_5_365  std_vol_ratio_5_365      min_365      max_365  \\\n",
       "15859         1.333919             0.297405    20.959999    25.740000   \n",
       "15858         1.237088             0.399013    20.959999    25.740000   \n",
       "15857         1.189826             0.613586    20.959999    25.760000   \n",
       "15856         1.262239             0.608688    20.959999    25.930000   \n",
       "15855         1.300456             0.465992    20.959999    25.980000   \n",
       "...                ...                  ...          ...          ...   \n",
       "4             0.909219             5.077257  1862.489990  2130.820068   \n",
       "3             0.916702             5.259026  1862.489990  2130.820068   \n",
       "2             0.919548             4.309031  1862.489990  2130.820068   \n",
       "1             1.000969             2.582967  1862.489990  2130.820068   \n",
       "0             1.155550             2.293606  1862.489990  2130.820068   \n",
       "\n",
       "       ratio_to_min_365  ratio_to_max_365  \n",
       "15859          1.222328          0.995338  \n",
       "15858          1.229008          1.000777  \n",
       "15857          1.237118          1.006599  \n",
       "15856          1.239504          1.001928  \n",
       "15855          1.238550          0.999230  \n",
       "...                 ...               ...  \n",
       "4              1.128935          0.986770  \n",
       "3              1.116521          0.975920  \n",
       "2              1.100473          0.961893  \n",
       "1              1.123061          0.981636  \n",
       "0              1.115211          0.974775  \n",
       "\n",
       "[15860 rows x 25 columns]"
      ]
     },
     "execution_count": 79,
     "metadata": {},
     "output_type": "execute_result"
    }
   ],
   "source": [
    "data.iloc[:, 0:25]"
   ]
  },
  {
   "cell_type": "code",
   "execution_count": 80,
   "metadata": {},
   "outputs": [],
   "source": [
    "numeric_df = data.iloc[:, 7:]"
   ]
  },
  {
   "cell_type": "code",
   "execution_count": 81,
   "metadata": {},
   "outputs": [
    {
     "data": {
      "text/html": [
       "<div>\n",
       "<style scoped>\n",
       "    .dataframe tbody tr th:only-of-type {\n",
       "        vertical-align: middle;\n",
       "    }\n",
       "\n",
       "    .dataframe tbody tr th {\n",
       "        vertical-align: top;\n",
       "    }\n",
       "\n",
       "    .dataframe thead th {\n",
       "        text-align: right;\n",
       "    }\n",
       "</style>\n",
       "<table border=\"1\" class=\"dataframe\">\n",
       "  <thead>\n",
       "    <tr style=\"text-align: right;\">\n",
       "      <th></th>\n",
       "      <th>days_5</th>\n",
       "      <th>std_5</th>\n",
       "      <th>days_30</th>\n",
       "      <th>std_30</th>\n",
       "      <th>days_365</th>\n",
       "      <th>std_365</th>\n",
       "      <th>ratio_5_365</th>\n",
       "      <th>std_ratio_5_365</th>\n",
       "      <th>volume_5</th>\n",
       "      <th>std_vol_5</th>\n",
       "      <th>volume_365</th>\n",
       "      <th>std_vol_365</th>\n",
       "      <th>vol_ratio_5_365</th>\n",
       "      <th>std_vol_ratio_5_365</th>\n",
       "      <th>min_365</th>\n",
       "      <th>max_365</th>\n",
       "      <th>ratio_to_min_365</th>\n",
       "      <th>ratio_to_max_365</th>\n",
       "    </tr>\n",
       "  </thead>\n",
       "  <tbody>\n",
       "    <tr>\n",
       "      <th>15859</th>\n",
       "      <td>25.680</td>\n",
       "      <td>0.049497</td>\n",
       "      <td>24.835000</td>\n",
       "      <td>0.612585</td>\n",
       "      <td>23.820712</td>\n",
       "      <td>0.982384</td>\n",
       "      <td>1.078053</td>\n",
       "      <td>0.050385</td>\n",
       "      <td>1810000.0</td>\n",
       "      <td>66136.223055</td>\n",
       "      <td>1.356904e+06</td>\n",
       "      <td>222377.332044</td>\n",
       "      <td>1.333919</td>\n",
       "      <td>0.297405</td>\n",
       "      <td>20.959999</td>\n",
       "      <td>25.74</td>\n",
       "      <td>1.222328</td>\n",
       "      <td>0.995338</td>\n",
       "    </tr>\n",
       "    <tr>\n",
       "      <th>15858</th>\n",
       "      <td>25.672</td>\n",
       "      <td>0.056302</td>\n",
       "      <td>24.886667</td>\n",
       "      <td>0.611202</td>\n",
       "      <td>23.830575</td>\n",
       "      <td>0.982327</td>\n",
       "      <td>1.077272</td>\n",
       "      <td>0.057315</td>\n",
       "      <td>1680000.0</td>\n",
       "      <td>88848.185125</td>\n",
       "      <td>1.358027e+06</td>\n",
       "      <td>222670.039612</td>\n",
       "      <td>1.237088</td>\n",
       "      <td>0.399013</td>\n",
       "      <td>20.959999</td>\n",
       "      <td>25.74</td>\n",
       "      <td>1.229008</td>\n",
       "      <td>1.000777</td>\n",
       "    </tr>\n",
       "    <tr>\n",
       "      <th>15857</th>\n",
       "      <td>25.688</td>\n",
       "      <td>0.069065</td>\n",
       "      <td>24.952000</td>\n",
       "      <td>0.595595</td>\n",
       "      <td>23.841123</td>\n",
       "      <td>0.982318</td>\n",
       "      <td>1.077466</td>\n",
       "      <td>0.070308</td>\n",
       "      <td>1618000.0</td>\n",
       "      <td>136796.198778</td>\n",
       "      <td>1.359863e+06</td>\n",
       "      <td>222945.520125</td>\n",
       "      <td>1.189826</td>\n",
       "      <td>0.613586</td>\n",
       "      <td>20.959999</td>\n",
       "      <td>25.76</td>\n",
       "      <td>1.237118</td>\n",
       "      <td>1.006599</td>\n",
       "    </tr>\n",
       "    <tr>\n",
       "      <th>15856</th>\n",
       "      <td>25.726</td>\n",
       "      <td>0.130115</td>\n",
       "      <td>25.020667</td>\n",
       "      <td>0.585208</td>\n",
       "      <td>23.852493</td>\n",
       "      <td>0.982413</td>\n",
       "      <td>1.078546</td>\n",
       "      <td>0.132444</td>\n",
       "      <td>1720000.0</td>\n",
       "      <td>135863.166458</td>\n",
       "      <td>1.362658e+06</td>\n",
       "      <td>223206.697838</td>\n",
       "      <td>1.262239</td>\n",
       "      <td>0.608688</td>\n",
       "      <td>20.959999</td>\n",
       "      <td>25.93</td>\n",
       "      <td>1.239504</td>\n",
       "      <td>1.001928</td>\n",
       "    </tr>\n",
       "    <tr>\n",
       "      <th>15855</th>\n",
       "      <td>25.780</td>\n",
       "      <td>0.171318</td>\n",
       "      <td>25.085667</td>\n",
       "      <td>0.579647</td>\n",
       "      <td>23.864630</td>\n",
       "      <td>0.981253</td>\n",
       "      <td>1.080260</td>\n",
       "      <td>0.174591</td>\n",
       "      <td>1774000.0</td>\n",
       "      <td>104128.766438</td>\n",
       "      <td>1.364137e+06</td>\n",
       "      <td>223456.217883</td>\n",
       "      <td>1.300456</td>\n",
       "      <td>0.465992</td>\n",
       "      <td>20.959999</td>\n",
       "      <td>25.98</td>\n",
       "      <td>1.238550</td>\n",
       "      <td>0.999230</td>\n",
       "    </tr>\n",
       "  </tbody>\n",
       "</table>\n",
       "</div>"
      ],
      "text/plain": [
       "       days_5     std_5    days_30    std_30   days_365   std_365  \\\n",
       "15859  25.680  0.049497  24.835000  0.612585  23.820712  0.982384   \n",
       "15858  25.672  0.056302  24.886667  0.611202  23.830575  0.982327   \n",
       "15857  25.688  0.069065  24.952000  0.595595  23.841123  0.982318   \n",
       "15856  25.726  0.130115  25.020667  0.585208  23.852493  0.982413   \n",
       "15855  25.780  0.171318  25.085667  0.579647  23.864630  0.981253   \n",
       "\n",
       "       ratio_5_365  std_ratio_5_365   volume_5      std_vol_5    volume_365  \\\n",
       "15859     1.078053         0.050385  1810000.0   66136.223055  1.356904e+06   \n",
       "15858     1.077272         0.057315  1680000.0   88848.185125  1.358027e+06   \n",
       "15857     1.077466         0.070308  1618000.0  136796.198778  1.359863e+06   \n",
       "15856     1.078546         0.132444  1720000.0  135863.166458  1.362658e+06   \n",
       "15855     1.080260         0.174591  1774000.0  104128.766438  1.364137e+06   \n",
       "\n",
       "         std_vol_365  vol_ratio_5_365  std_vol_ratio_5_365    min_365  \\\n",
       "15859  222377.332044         1.333919             0.297405  20.959999   \n",
       "15858  222670.039612         1.237088             0.399013  20.959999   \n",
       "15857  222945.520125         1.189826             0.613586  20.959999   \n",
       "15856  223206.697838         1.262239             0.608688  20.959999   \n",
       "15855  223456.217883         1.300456             0.465992  20.959999   \n",
       "\n",
       "       max_365  ratio_to_min_365  ratio_to_max_365  \n",
       "15859    25.74          1.222328          0.995338  \n",
       "15858    25.74          1.229008          1.000777  \n",
       "15857    25.76          1.237118          1.006599  \n",
       "15856    25.93          1.239504          1.001928  \n",
       "15855    25.98          1.238550          0.999230  "
      ]
     },
     "execution_count": 81,
     "metadata": {},
     "output_type": "execute_result"
    }
   ],
   "source": [
    "numeric_df.head()"
   ]
  },
  {
   "cell_type": "code",
   "execution_count": 82,
   "metadata": {},
   "outputs": [],
   "source": [
    "numeric_cols = list(numeric_df.columns)"
   ]
  },
  {
   "cell_type": "code",
   "execution_count": 83,
   "metadata": {},
   "outputs": [],
   "source": [
    " from sklearn.preprocessing import MinMaxScaler"
   ]
  },
  {
   "cell_type": "code",
   "execution_count": 84,
   "metadata": {},
   "outputs": [],
   "source": [
    "scaler = MinMaxScaler()"
   ]
  },
  {
   "cell_type": "code",
   "execution_count": 85,
   "metadata": {},
   "outputs": [
    {
     "data": {
      "text/plain": [
       "MinMaxScaler(copy=True, feature_range=(0, 1))"
      ]
     },
     "execution_count": 85,
     "metadata": {},
     "output_type": "execute_result"
    }
   ],
   "source": [
    "scaler.fit(numeric_df)"
   ]
  },
  {
   "cell_type": "code",
   "execution_count": 86,
   "metadata": {},
   "outputs": [],
   "source": [
    "numeric_df[numeric_cols] = scaler.fit_transform(numeric_df[numeric_cols])"
   ]
  },
  {
   "cell_type": "code",
   "execution_count": 87,
   "metadata": {},
   "outputs": [
    {
     "data": {
      "text/html": [
       "<div>\n",
       "<style scoped>\n",
       "    .dataframe tbody tr th:only-of-type {\n",
       "        vertical-align: middle;\n",
       "    }\n",
       "\n",
       "    .dataframe tbody tr th {\n",
       "        vertical-align: top;\n",
       "    }\n",
       "\n",
       "    .dataframe thead th {\n",
       "        text-align: right;\n",
       "    }\n",
       "</style>\n",
       "<table border=\"1\" class=\"dataframe\">\n",
       "  <thead>\n",
       "    <tr style=\"text-align: right;\">\n",
       "      <th></th>\n",
       "      <th>days_5</th>\n",
       "      <th>std_5</th>\n",
       "      <th>days_30</th>\n",
       "      <th>std_30</th>\n",
       "      <th>days_365</th>\n",
       "      <th>std_365</th>\n",
       "      <th>ratio_5_365</th>\n",
       "      <th>std_ratio_5_365</th>\n",
       "      <th>volume_5</th>\n",
       "      <th>std_vol_5</th>\n",
       "      <th>volume_365</th>\n",
       "      <th>std_vol_365</th>\n",
       "      <th>vol_ratio_5_365</th>\n",
       "      <th>std_vol_ratio_5_365</th>\n",
       "      <th>min_365</th>\n",
       "      <th>max_365</th>\n",
       "      <th>ratio_to_min_365</th>\n",
       "      <th>ratio_to_max_365</th>\n",
       "    </tr>\n",
       "  </thead>\n",
       "  <tbody>\n",
       "    <tr>\n",
       "      <th>15859</th>\n",
       "      <td>0.001307</td>\n",
       "      <td>0.000380</td>\n",
       "      <td>0.000714</td>\n",
       "      <td>0.003710</td>\n",
       "      <td>0.000000</td>\n",
       "      <td>0.000652</td>\n",
       "      <td>0.695070</td>\n",
       "      <td>0.039905</td>\n",
       "      <td>0.000105</td>\n",
       "      <td>0.000046</td>\n",
       "      <td>0.000004</td>\n",
       "      <td>0.000262</td>\n",
       "      <td>0.399571</td>\n",
       "      <td>0.010551</td>\n",
       "      <td>0.0</td>\n",
       "      <td>0.000000</td>\n",
       "      <td>0.340956</td>\n",
       "      <td>0.933053</td>\n",
       "    </tr>\n",
       "    <tr>\n",
       "      <th>15858</th>\n",
       "      <td>0.001304</td>\n",
       "      <td>0.000455</td>\n",
       "      <td>0.000738</td>\n",
       "      <td>0.003699</td>\n",
       "      <td>0.000005</td>\n",
       "      <td>0.000652</td>\n",
       "      <td>0.694010</td>\n",
       "      <td>0.045970</td>\n",
       "      <td>0.000091</td>\n",
       "      <td>0.000062</td>\n",
       "      <td>0.000004</td>\n",
       "      <td>0.000263</td>\n",
       "      <td>0.361795</td>\n",
       "      <td>0.014466</td>\n",
       "      <td>0.0</td>\n",
       "      <td>0.000000</td>\n",
       "      <td>0.348585</td>\n",
       "      <td>0.942066</td>\n",
       "    </tr>\n",
       "    <tr>\n",
       "      <th>15857</th>\n",
       "      <td>0.001311</td>\n",
       "      <td>0.000596</td>\n",
       "      <td>0.000770</td>\n",
       "      <td>0.003578</td>\n",
       "      <td>0.000010</td>\n",
       "      <td>0.000652</td>\n",
       "      <td>0.694274</td>\n",
       "      <td>0.057340</td>\n",
       "      <td>0.000084</td>\n",
       "      <td>0.000098</td>\n",
       "      <td>0.000004</td>\n",
       "      <td>0.000263</td>\n",
       "      <td>0.343356</td>\n",
       "      <td>0.022735</td>\n",
       "      <td>0.0</td>\n",
       "      <td>0.000010</td>\n",
       "      <td>0.357850</td>\n",
       "      <td>0.951713</td>\n",
       "    </tr>\n",
       "    <tr>\n",
       "      <th>15856</th>\n",
       "      <td>0.001329</td>\n",
       "      <td>0.001271</td>\n",
       "      <td>0.000803</td>\n",
       "      <td>0.003497</td>\n",
       "      <td>0.000016</td>\n",
       "      <td>0.000652</td>\n",
       "      <td>0.695737</td>\n",
       "      <td>0.111715</td>\n",
       "      <td>0.000095</td>\n",
       "      <td>0.000097</td>\n",
       "      <td>0.000005</td>\n",
       "      <td>0.000264</td>\n",
       "      <td>0.371607</td>\n",
       "      <td>0.022547</td>\n",
       "      <td>0.0</td>\n",
       "      <td>0.000090</td>\n",
       "      <td>0.360575</td>\n",
       "      <td>0.943973</td>\n",
       "    </tr>\n",
       "    <tr>\n",
       "      <th>15855</th>\n",
       "      <td>0.001355</td>\n",
       "      <td>0.001727</td>\n",
       "      <td>0.000834</td>\n",
       "      <td>0.003453</td>\n",
       "      <td>0.000022</td>\n",
       "      <td>0.000648</td>\n",
       "      <td>0.698061</td>\n",
       "      <td>0.148597</td>\n",
       "      <td>0.000101</td>\n",
       "      <td>0.000074</td>\n",
       "      <td>0.000005</td>\n",
       "      <td>0.000264</td>\n",
       "      <td>0.386516</td>\n",
       "      <td>0.017048</td>\n",
       "      <td>0.0</td>\n",
       "      <td>0.000114</td>\n",
       "      <td>0.359485</td>\n",
       "      <td>0.939502</td>\n",
       "    </tr>\n",
       "    <tr>\n",
       "      <th>...</th>\n",
       "      <td>...</td>\n",
       "      <td>...</td>\n",
       "      <td>...</td>\n",
       "      <td>...</td>\n",
       "      <td>...</td>\n",
       "      <td>...</td>\n",
       "      <td>...</td>\n",
       "      <td>...</td>\n",
       "      <td>...</td>\n",
       "      <td>...</td>\n",
       "      <td>...</td>\n",
       "      <td>...</td>\n",
       "      <td>...</td>\n",
       "      <td>...</td>\n",
       "      <td>...</td>\n",
       "      <td>...</td>\n",
       "      <td>...</td>\n",
       "      <td>...</td>\n",
       "    </tr>\n",
       "    <tr>\n",
       "      <th>4</th>\n",
       "      <td>0.980557</td>\n",
       "      <td>0.043142</td>\n",
       "      <td>0.982287</td>\n",
       "      <td>0.191026</td>\n",
       "      <td>0.999335</td>\n",
       "      <td>0.253123</td>\n",
       "      <td>0.623558</td>\n",
       "      <td>0.049052</td>\n",
       "      <td>0.343796</td>\n",
       "      <td>0.238303</td>\n",
       "      <td>0.613725</td>\n",
       "      <td>0.084290</td>\n",
       "      <td>0.233884</td>\n",
       "      <td>0.194750</td>\n",
       "      <td>1.0</td>\n",
       "      <td>1.000000</td>\n",
       "      <td>0.234277</td>\n",
       "      <td>0.918856</td>\n",
       "    </tr>\n",
       "    <tr>\n",
       "      <th>3</th>\n",
       "      <td>0.982081</td>\n",
       "      <td>0.087830</td>\n",
       "      <td>0.983388</td>\n",
       "      <td>0.185699</td>\n",
       "      <td>0.999525</td>\n",
       "      <td>0.253052</td>\n",
       "      <td>0.625433</td>\n",
       "      <td>0.104014</td>\n",
       "      <td>0.346457</td>\n",
       "      <td>0.249226</td>\n",
       "      <td>0.613427</td>\n",
       "      <td>0.085106</td>\n",
       "      <td>0.236803</td>\n",
       "      <td>0.201754</td>\n",
       "      <td>1.0</td>\n",
       "      <td>1.000000</td>\n",
       "      <td>0.220098</td>\n",
       "      <td>0.900877</td>\n",
       "    </tr>\n",
       "    <tr>\n",
       "      <th>2</th>\n",
       "      <td>0.981166</td>\n",
       "      <td>0.103057</td>\n",
       "      <td>0.984166</td>\n",
       "      <td>0.173292</td>\n",
       "      <td>0.999685</td>\n",
       "      <td>0.252754</td>\n",
       "      <td>0.623932</td>\n",
       "      <td>0.122884</td>\n",
       "      <td>0.347866</td>\n",
       "      <td>0.206097</td>\n",
       "      <td>0.614015</td>\n",
       "      <td>0.085895</td>\n",
       "      <td>0.237913</td>\n",
       "      <td>0.165145</td>\n",
       "      <td>1.0</td>\n",
       "      <td>1.000000</td>\n",
       "      <td>0.201767</td>\n",
       "      <td>0.877634</td>\n",
       "    </tr>\n",
       "    <tr>\n",
       "      <th>1</th>\n",
       "      <td>0.977437</td>\n",
       "      <td>0.216597</td>\n",
       "      <td>0.984656</td>\n",
       "      <td>0.156196</td>\n",
       "      <td>0.999820</td>\n",
       "      <td>0.252133</td>\n",
       "      <td>0.618520</td>\n",
       "      <td>0.263302</td>\n",
       "      <td>0.379034</td>\n",
       "      <td>0.124702</td>\n",
       "      <td>0.614595</td>\n",
       "      <td>0.086703</td>\n",
       "      <td>0.269678</td>\n",
       "      <td>0.098628</td>\n",
       "      <td>1.0</td>\n",
       "      <td>1.000000</td>\n",
       "      <td>0.227568</td>\n",
       "      <td>0.910349</td>\n",
       "    </tr>\n",
       "    <tr>\n",
       "      <th>0</th>\n",
       "      <td>0.977587</td>\n",
       "      <td>0.218878</td>\n",
       "      <td>0.985282</td>\n",
       "      <td>0.152243</td>\n",
       "      <td>1.000000</td>\n",
       "      <td>0.251883</td>\n",
       "      <td>0.618484</td>\n",
       "      <td>0.266381</td>\n",
       "      <td>0.437959</td>\n",
       "      <td>0.111786</td>\n",
       "      <td>0.615124</td>\n",
       "      <td>0.087530</td>\n",
       "      <td>0.329984</td>\n",
       "      <td>0.087477</td>\n",
       "      <td>1.0</td>\n",
       "      <td>1.000000</td>\n",
       "      <td>0.218602</td>\n",
       "      <td>0.898980</td>\n",
       "    </tr>\n",
       "  </tbody>\n",
       "</table>\n",
       "<p>15860 rows × 18 columns</p>\n",
       "</div>"
      ],
      "text/plain": [
       "         days_5     std_5   days_30    std_30  days_365   std_365  \\\n",
       "15859  0.001307  0.000380  0.000714  0.003710  0.000000  0.000652   \n",
       "15858  0.001304  0.000455  0.000738  0.003699  0.000005  0.000652   \n",
       "15857  0.001311  0.000596  0.000770  0.003578  0.000010  0.000652   \n",
       "15856  0.001329  0.001271  0.000803  0.003497  0.000016  0.000652   \n",
       "15855  0.001355  0.001727  0.000834  0.003453  0.000022  0.000648   \n",
       "...         ...       ...       ...       ...       ...       ...   \n",
       "4      0.980557  0.043142  0.982287  0.191026  0.999335  0.253123   \n",
       "3      0.982081  0.087830  0.983388  0.185699  0.999525  0.253052   \n",
       "2      0.981166  0.103057  0.984166  0.173292  0.999685  0.252754   \n",
       "1      0.977437  0.216597  0.984656  0.156196  0.999820  0.252133   \n",
       "0      0.977587  0.218878  0.985282  0.152243  1.000000  0.251883   \n",
       "\n",
       "       ratio_5_365  std_ratio_5_365  volume_5  std_vol_5  volume_365  \\\n",
       "15859     0.695070         0.039905  0.000105   0.000046    0.000004   \n",
       "15858     0.694010         0.045970  0.000091   0.000062    0.000004   \n",
       "15857     0.694274         0.057340  0.000084   0.000098    0.000004   \n",
       "15856     0.695737         0.111715  0.000095   0.000097    0.000005   \n",
       "15855     0.698061         0.148597  0.000101   0.000074    0.000005   \n",
       "...            ...              ...       ...        ...         ...   \n",
       "4         0.623558         0.049052  0.343796   0.238303    0.613725   \n",
       "3         0.625433         0.104014  0.346457   0.249226    0.613427   \n",
       "2         0.623932         0.122884  0.347866   0.206097    0.614015   \n",
       "1         0.618520         0.263302  0.379034   0.124702    0.614595   \n",
       "0         0.618484         0.266381  0.437959   0.111786    0.615124   \n",
       "\n",
       "       std_vol_365  vol_ratio_5_365  std_vol_ratio_5_365  min_365   max_365  \\\n",
       "15859     0.000262         0.399571             0.010551      0.0  0.000000   \n",
       "15858     0.000263         0.361795             0.014466      0.0  0.000000   \n",
       "15857     0.000263         0.343356             0.022735      0.0  0.000010   \n",
       "15856     0.000264         0.371607             0.022547      0.0  0.000090   \n",
       "15855     0.000264         0.386516             0.017048      0.0  0.000114   \n",
       "...            ...              ...                  ...      ...       ...   \n",
       "4         0.084290         0.233884             0.194750      1.0  1.000000   \n",
       "3         0.085106         0.236803             0.201754      1.0  1.000000   \n",
       "2         0.085895         0.237913             0.165145      1.0  1.000000   \n",
       "1         0.086703         0.269678             0.098628      1.0  1.000000   \n",
       "0         0.087530         0.329984             0.087477      1.0  1.000000   \n",
       "\n",
       "       ratio_to_min_365  ratio_to_max_365  \n",
       "15859          0.340956          0.933053  \n",
       "15858          0.348585          0.942066  \n",
       "15857          0.357850          0.951713  \n",
       "15856          0.360575          0.943973  \n",
       "15855          0.359485          0.939502  \n",
       "...                 ...               ...  \n",
       "4              0.234277          0.918856  \n",
       "3              0.220098          0.900877  \n",
       "2              0.201767          0.877634  \n",
       "1              0.227568          0.910349  \n",
       "0              0.218602          0.898980  \n",
       "\n",
       "[15860 rows x 18 columns]"
      ]
     },
     "execution_count": 87,
     "metadata": {},
     "output_type": "execute_result"
    }
   ],
   "source": [
    "numeric_df"
   ]
  },
  {
   "cell_type": "code",
   "execution_count": 88,
   "metadata": {},
   "outputs": [
    {
     "data": {
      "text/plain": [
       "Timestamp('1952-12-05 00:00:00')"
      ]
     },
     "execution_count": 88,
     "metadata": {},
     "output_type": "execute_result"
    }
   ],
   "source": [
    "data[\"Date\"].min()"
   ]
  },
  {
   "cell_type": "code",
   "execution_count": 89,
   "metadata": {},
   "outputs": [],
   "source": [
    "data_clean = pd.concat([numeric_df, data[[\"Date\", \"Close\"]]], axis = 1)"
   ]
  },
  {
   "cell_type": "code",
   "execution_count": 90,
   "metadata": {},
   "outputs": [],
   "source": [
    "data_clean = data_clean.set_index(\"Date\")"
   ]
  },
  {
   "cell_type": "code",
   "execution_count": 91,
   "metadata": {},
   "outputs": [
    {
     "data": {
      "text/plain": [
       "(15860, 19)"
      ]
     },
     "execution_count": 91,
     "metadata": {},
     "output_type": "execute_result"
    }
   ],
   "source": [
    "data_clean.shape"
   ]
  },
  {
   "cell_type": "code",
   "execution_count": 92,
   "metadata": {},
   "outputs": [],
   "source": [
    "date_divider = datetime(year=2013, month=1, day=1)"
   ]
  },
  {
   "cell_type": "code",
   "execution_count": 93,
   "metadata": {},
   "outputs": [],
   "source": [
    "train = data_clean[:date_divider].copy()"
   ]
  },
  {
   "cell_type": "code",
   "execution_count": 94,
   "metadata": {},
   "outputs": [],
   "source": [
    "test = data_clean[date_divider: ].copy()"
   ]
  },
  {
   "cell_type": "code",
   "execution_count": 95,
   "metadata": {},
   "outputs": [
    {
     "name": "stdout",
     "output_type": "stream",
     "text": [
      "(15121, 19)\n",
      "(739, 19)\n"
     ]
    }
   ],
   "source": [
    "print(train.shape)\n",
    "print(test.shape)"
   ]
  },
  {
   "cell_type": "code",
   "execution_count": 96,
   "metadata": {},
   "outputs": [
    {
     "data": {
      "text/html": [
       "<div>\n",
       "<style scoped>\n",
       "    .dataframe tbody tr th:only-of-type {\n",
       "        vertical-align: middle;\n",
       "    }\n",
       "\n",
       "    .dataframe tbody tr th {\n",
       "        vertical-align: top;\n",
       "    }\n",
       "\n",
       "    .dataframe thead th {\n",
       "        text-align: right;\n",
       "    }\n",
       "</style>\n",
       "<table border=\"1\" class=\"dataframe\">\n",
       "  <thead>\n",
       "    <tr style=\"text-align: right;\">\n",
       "      <th></th>\n",
       "      <th>days_5</th>\n",
       "      <th>std_5</th>\n",
       "      <th>days_30</th>\n",
       "      <th>std_30</th>\n",
       "      <th>days_365</th>\n",
       "      <th>std_365</th>\n",
       "      <th>ratio_5_365</th>\n",
       "      <th>std_ratio_5_365</th>\n",
       "      <th>volume_5</th>\n",
       "      <th>std_vol_5</th>\n",
       "      <th>volume_365</th>\n",
       "      <th>std_vol_365</th>\n",
       "      <th>vol_ratio_5_365</th>\n",
       "      <th>std_vol_ratio_5_365</th>\n",
       "      <th>min_365</th>\n",
       "      <th>max_365</th>\n",
       "      <th>ratio_to_min_365</th>\n",
       "      <th>ratio_to_max_365</th>\n",
       "      <th>Close</th>\n",
       "    </tr>\n",
       "    <tr>\n",
       "      <th>Date</th>\n",
       "      <th></th>\n",
       "      <th></th>\n",
       "      <th></th>\n",
       "      <th></th>\n",
       "      <th></th>\n",
       "      <th></th>\n",
       "      <th></th>\n",
       "      <th></th>\n",
       "      <th></th>\n",
       "      <th></th>\n",
       "      <th></th>\n",
       "      <th></th>\n",
       "      <th></th>\n",
       "      <th></th>\n",
       "      <th></th>\n",
       "      <th></th>\n",
       "      <th></th>\n",
       "      <th></th>\n",
       "      <th></th>\n",
       "    </tr>\n",
       "  </thead>\n",
       "  <tbody>\n",
       "    <tr>\n",
       "      <th>1952-12-05</th>\n",
       "      <td>0.001307</td>\n",
       "      <td>0.000380</td>\n",
       "      <td>0.000714</td>\n",
       "      <td>0.003710</td>\n",
       "      <td>0.000000</td>\n",
       "      <td>0.000652</td>\n",
       "      <td>0.695070</td>\n",
       "      <td>0.039905</td>\n",
       "      <td>0.000105</td>\n",
       "      <td>0.000046</td>\n",
       "      <td>0.000004</td>\n",
       "      <td>0.000262</td>\n",
       "      <td>0.399571</td>\n",
       "      <td>0.010551</td>\n",
       "      <td>0.0</td>\n",
       "      <td>0.000000</td>\n",
       "      <td>0.340956</td>\n",
       "      <td>0.933053</td>\n",
       "      <td>25.620001</td>\n",
       "    </tr>\n",
       "    <tr>\n",
       "      <th>1952-12-08</th>\n",
       "      <td>0.001304</td>\n",
       "      <td>0.000455</td>\n",
       "      <td>0.000738</td>\n",
       "      <td>0.003699</td>\n",
       "      <td>0.000005</td>\n",
       "      <td>0.000652</td>\n",
       "      <td>0.694010</td>\n",
       "      <td>0.045970</td>\n",
       "      <td>0.000091</td>\n",
       "      <td>0.000062</td>\n",
       "      <td>0.000004</td>\n",
       "      <td>0.000263</td>\n",
       "      <td>0.361795</td>\n",
       "      <td>0.014466</td>\n",
       "      <td>0.0</td>\n",
       "      <td>0.000000</td>\n",
       "      <td>0.348585</td>\n",
       "      <td>0.942066</td>\n",
       "      <td>25.760000</td>\n",
       "    </tr>\n",
       "    <tr>\n",
       "      <th>1952-12-09</th>\n",
       "      <td>0.001311</td>\n",
       "      <td>0.000596</td>\n",
       "      <td>0.000770</td>\n",
       "      <td>0.003578</td>\n",
       "      <td>0.000010</td>\n",
       "      <td>0.000652</td>\n",
       "      <td>0.694274</td>\n",
       "      <td>0.057340</td>\n",
       "      <td>0.000084</td>\n",
       "      <td>0.000098</td>\n",
       "      <td>0.000004</td>\n",
       "      <td>0.000263</td>\n",
       "      <td>0.343356</td>\n",
       "      <td>0.022735</td>\n",
       "      <td>0.0</td>\n",
       "      <td>0.000010</td>\n",
       "      <td>0.357850</td>\n",
       "      <td>0.951713</td>\n",
       "      <td>25.930000</td>\n",
       "    </tr>\n",
       "    <tr>\n",
       "      <th>1952-12-10</th>\n",
       "      <td>0.001329</td>\n",
       "      <td>0.001271</td>\n",
       "      <td>0.000803</td>\n",
       "      <td>0.003497</td>\n",
       "      <td>0.000016</td>\n",
       "      <td>0.000652</td>\n",
       "      <td>0.695737</td>\n",
       "      <td>0.111715</td>\n",
       "      <td>0.000095</td>\n",
       "      <td>0.000097</td>\n",
       "      <td>0.000005</td>\n",
       "      <td>0.000264</td>\n",
       "      <td>0.371607</td>\n",
       "      <td>0.022547</td>\n",
       "      <td>0.0</td>\n",
       "      <td>0.000090</td>\n",
       "      <td>0.360575</td>\n",
       "      <td>0.943973</td>\n",
       "      <td>25.980000</td>\n",
       "    </tr>\n",
       "    <tr>\n",
       "      <th>1952-12-11</th>\n",
       "      <td>0.001355</td>\n",
       "      <td>0.001727</td>\n",
       "      <td>0.000834</td>\n",
       "      <td>0.003453</td>\n",
       "      <td>0.000022</td>\n",
       "      <td>0.000648</td>\n",
       "      <td>0.698061</td>\n",
       "      <td>0.148597</td>\n",
       "      <td>0.000101</td>\n",
       "      <td>0.000074</td>\n",
       "      <td>0.000005</td>\n",
       "      <td>0.000264</td>\n",
       "      <td>0.386516</td>\n",
       "      <td>0.017048</td>\n",
       "      <td>0.0</td>\n",
       "      <td>0.000114</td>\n",
       "      <td>0.359485</td>\n",
       "      <td>0.939502</td>\n",
       "      <td>25.959999</td>\n",
       "    </tr>\n",
       "  </tbody>\n",
       "</table>\n",
       "</div>"
      ],
      "text/plain": [
       "              days_5     std_5   days_30    std_30  days_365   std_365  \\\n",
       "Date                                                                     \n",
       "1952-12-05  0.001307  0.000380  0.000714  0.003710  0.000000  0.000652   \n",
       "1952-12-08  0.001304  0.000455  0.000738  0.003699  0.000005  0.000652   \n",
       "1952-12-09  0.001311  0.000596  0.000770  0.003578  0.000010  0.000652   \n",
       "1952-12-10  0.001329  0.001271  0.000803  0.003497  0.000016  0.000652   \n",
       "1952-12-11  0.001355  0.001727  0.000834  0.003453  0.000022  0.000648   \n",
       "\n",
       "            ratio_5_365  std_ratio_5_365  volume_5  std_vol_5  volume_365  \\\n",
       "Date                                                                        \n",
       "1952-12-05     0.695070         0.039905  0.000105   0.000046    0.000004   \n",
       "1952-12-08     0.694010         0.045970  0.000091   0.000062    0.000004   \n",
       "1952-12-09     0.694274         0.057340  0.000084   0.000098    0.000004   \n",
       "1952-12-10     0.695737         0.111715  0.000095   0.000097    0.000005   \n",
       "1952-12-11     0.698061         0.148597  0.000101   0.000074    0.000005   \n",
       "\n",
       "            std_vol_365  vol_ratio_5_365  std_vol_ratio_5_365  min_365  \\\n",
       "Date                                                                     \n",
       "1952-12-05     0.000262         0.399571             0.010551      0.0   \n",
       "1952-12-08     0.000263         0.361795             0.014466      0.0   \n",
       "1952-12-09     0.000263         0.343356             0.022735      0.0   \n",
       "1952-12-10     0.000264         0.371607             0.022547      0.0   \n",
       "1952-12-11     0.000264         0.386516             0.017048      0.0   \n",
       "\n",
       "             max_365  ratio_to_min_365  ratio_to_max_365      Close  \n",
       "Date                                                                 \n",
       "1952-12-05  0.000000          0.340956          0.933053  25.620001  \n",
       "1952-12-08  0.000000          0.348585          0.942066  25.760000  \n",
       "1952-12-09  0.000010          0.357850          0.951713  25.930000  \n",
       "1952-12-10  0.000090          0.360575          0.943973  25.980000  \n",
       "1952-12-11  0.000114          0.359485          0.939502  25.959999  "
      ]
     },
     "execution_count": 96,
     "metadata": {},
     "output_type": "execute_result"
    }
   ],
   "source": [
    "train.head()"
   ]
  },
  {
   "cell_type": "markdown",
   "metadata": {},
   "source": [
    "### Making predictions"
   ]
  },
  {
   "cell_type": "code",
   "execution_count": 97,
   "metadata": {},
   "outputs": [],
   "source": [
    "def train_and_test(df_train, df_test):\n",
    "    y_train = train[\"Close\"].copy()\n",
    "    y_test = test[\"Close\"].copy()\n",
    "    X_train = df_train.drop([\"Close\"], axis=1)\n",
    "    X_test = df_test.drop([\"Close\"], axis=1)\n",
    "    lr= LinearRegression()\n",
    "    lr.fit(X_train, y_train)\n",
    "    prediction = lr.predict(X_test)\n",
    "    mse = mean_squared_error(y_test, prediction)\n",
    "    rmse = np.sqrt(mse)\n",
    "    print(\"mse: {}\".format(mse))\n",
    "    print(\"rmse: {}\".format(rmse))\n",
    "    return mse, rmse"
   ]
  },
  {
   "cell_type": "code",
   "execution_count": 98,
   "metadata": {},
   "outputs": [
    {
     "name": "stdout",
     "output_type": "stream",
     "text": [
      "mse: 379.3860905838879\n",
      "rmse: 19.477835880402317\n"
     ]
    },
    {
     "data": {
      "text/plain": [
       "(379.3860905838879, 19.477835880402317)"
      ]
     },
     "execution_count": 98,
     "metadata": {},
     "output_type": "execute_result"
    }
   ],
   "source": [
    "train_and_test(train, test)"
   ]
  }
 ],
 "metadata": {
  "kernelspec": {
   "display_name": "Python 3",
   "language": "python",
   "name": "python3"
  },
  "language_info": {
   "codemirror_mode": {
    "name": "ipython",
    "version": 3
   },
   "file_extension": ".py",
   "mimetype": "text/x-python",
   "name": "python",
   "nbconvert_exporter": "python",
   "pygments_lexer": "ipython3",
   "version": "3.6.10"
  }
 },
 "nbformat": 4,
 "nbformat_minor": 4
}

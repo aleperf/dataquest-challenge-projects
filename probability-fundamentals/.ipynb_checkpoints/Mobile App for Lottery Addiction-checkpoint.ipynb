{
 "cells": [
  {
   "cell_type": "markdown",
   "metadata": {},
   "source": [
    "# A Mobile App for Lottery Addiction"
   ]
  },
  {
   "cell_type": "markdown",
   "metadata": {},
   "source": [
    "A (fictional) medical instute wants to build an app for calculating the probabilities of winning  the [6/49 Lotto](https://en.wikipedia.org/wiki/Lotto_6/49), a type of lotto in which 6 numbers,ranging from 1 to 6, are drawn from a pool of 49 numbers. The aim of the app is to help people with lottery addiction understand the real probabilities of winning a game. <br>\n",
    "In order to build the app we'll consider historical data coming from the national 6/49 lottery in Canada, the original data can be found [here on Kaggle](https://www.kaggle.com/datascienceai/lottery-dataset)\n",
    "\n",
    "The data is real, but the scenario described in this notebook is clearly fictional: we have no evidence an addiction can be cured by statistics (but nobody can stop us from doing our reasearch about it), and we doubt any medical institute would find useful giving a game addict an app about the game he/she is addicted to."
   ]
  },
  {
   "cell_type": "markdown",
   "metadata": {},
   "source": [
    "### Helping functions"
   ]
  },
  {
   "cell_type": "markdown",
   "metadata": {},
   "source": [
    "The following functions are helper functions used to calculate the number of possible combinations of k elements drawn from a group of n elements, without replacement: once a number has been drawn, it can't appear in the combination more than once.\n",
    "The functions uses the formula:\n",
    "\n",
    "<br>\n",
    "\\begin{equation}\n",
    "_nC_k = {n \\choose k} =  \\frac{n!}{k!(n-k)!}\n",
    "\\end{equation}"
   ]
  },
  {
   "cell_type": "code",
   "execution_count": 63,
   "metadata": {},
   "outputs": [],
   "source": [
    "def factorial(n):\n",
    "    total = 1\n",
    "    for i in range(2, n + 1):\n",
    "        total *= i\n",
    "    return total    \n",
    "    "
   ]
  },
  {
   "cell_type": "code",
   "execution_count": 64,
   "metadata": {},
   "outputs": [],
   "source": [
    "def combinations(n, k):\n",
    "    if (n - k) <= 0:\n",
    "        return None\n",
    "    return factorial(n)/(factorial(k)*factorial(n - k))\n",
    "    "
   ]
  },
  {
   "cell_type": "markdown",
   "metadata": {},
   "source": [
    "The following function calculates the probability that a single ticket of 6 numbers can win the lottery."
   ]
  },
  {
   "cell_type": "code",
   "execution_count": 65,
   "metadata": {},
   "outputs": [],
   "source": [
    "def one_ticket_probability(numbers):\n",
    "        all_combinations = combinations(49, len(numbers))\n",
    "        ticket_prob_perc = 1/all_combinations * 100\n",
    "        print(\"The list of numbers {} has {:f}% of probability to win in the next drawing.\".format(str(numbers)[1:-1], ticket_prob_perc))"
   ]
  },
  {
   "cell_type": "code",
   "execution_count": 66,
   "metadata": {},
   "outputs": [
    {
     "name": "stdout",
     "output_type": "stream",
     "text": [
      "The list of numbers 1, 2, 3, 4, 5, 6 has 0.000007% of probability to win in the next drawing.\n"
     ]
    }
   ],
   "source": [
    "##checking the probability of a ticket\n",
    "one_ticket_probability([1, 2, 3, 4, 5, 6])"
   ]
  },
  {
   "cell_type": "code",
   "execution_count": 67,
   "metadata": {},
   "outputs": [
    {
     "name": "stdout",
     "output_type": "stream",
     "text": [
      "The list of numbers 1, 3, 4 has 0.005428% of probability to win in the next drawing.\n"
     ]
    }
   ],
   "source": [
    "#checking the probability of a wrong ticket\n",
    "one_ticket_probability([1, 3, 4])"
   ]
  },
  {
   "cell_type": "markdown",
   "metadata": {
    "collapsed": true
   },
   "source": [
    "### The Canadian 6/49 Historical Data\n",
    "\n",
    "The dataset I'll use contains 3665 drawings from 1982 to 2018, the number drawn are in the columns:\n",
    "<ul>\n",
    "<li>NUMBER DRAWN 1</li>\n",
    "<li>NUMBER DRAWN 2</li>\n",
    "<li>NUMBER DRAWN 3</li>\n",
    "<li>NUMBER DRAWN 4</li>\n",
    "<li>NUMBER DRAWN 5</li>\n",
    "<li> NUMBER DRAWN 6</li>\n",
    "</ul>\n"
   ]
  },
  {
   "cell_type": "code",
   "execution_count": 68,
   "metadata": {},
   "outputs": [],
   "source": [
    "import pandas as pd\n",
    "import numpy as np\n",
    "import datetime"
   ]
  },
  {
   "cell_type": "code",
   "execution_count": 69,
   "metadata": {},
   "outputs": [],
   "source": [
    "dateparse = lambda x: datetime.datetime.strptime(x, '%m/%d/%Y')"
   ]
  },
  {
   "cell_type": "code",
   "execution_count": 70,
   "metadata": {},
   "outputs": [],
   "source": [
    "lottery = pd.read_csv(\"649.csv\", parse_dates=[\"DRAW DATE\"], date_parser = dateparse)"
   ]
  },
  {
   "cell_type": "code",
   "execution_count": 71,
   "metadata": {},
   "outputs": [
    {
     "data": {
      "text/html": [
       "<div>\n",
       "<style scoped>\n",
       "    .dataframe tbody tr th:only-of-type {\n",
       "        vertical-align: middle;\n",
       "    }\n",
       "\n",
       "    .dataframe tbody tr th {\n",
       "        vertical-align: top;\n",
       "    }\n",
       "\n",
       "    .dataframe thead th {\n",
       "        text-align: right;\n",
       "    }\n",
       "</style>\n",
       "<table border=\"1\" class=\"dataframe\">\n",
       "  <thead>\n",
       "    <tr style=\"text-align: right;\">\n",
       "      <th></th>\n",
       "      <th>PRODUCT</th>\n",
       "      <th>DRAW NUMBER</th>\n",
       "      <th>SEQUENCE NUMBER</th>\n",
       "      <th>DRAW DATE</th>\n",
       "      <th>NUMBER DRAWN 1</th>\n",
       "      <th>NUMBER DRAWN 2</th>\n",
       "      <th>NUMBER DRAWN 3</th>\n",
       "      <th>NUMBER DRAWN 4</th>\n",
       "      <th>NUMBER DRAWN 5</th>\n",
       "      <th>NUMBER DRAWN 6</th>\n",
       "      <th>BONUS NUMBER</th>\n",
       "    </tr>\n",
       "  </thead>\n",
       "  <tbody>\n",
       "    <tr>\n",
       "      <th>0</th>\n",
       "      <td>649</td>\n",
       "      <td>1</td>\n",
       "      <td>0</td>\n",
       "      <td>1982-06-12</td>\n",
       "      <td>3</td>\n",
       "      <td>11</td>\n",
       "      <td>12</td>\n",
       "      <td>14</td>\n",
       "      <td>41</td>\n",
       "      <td>43</td>\n",
       "      <td>13</td>\n",
       "    </tr>\n",
       "    <tr>\n",
       "      <th>1</th>\n",
       "      <td>649</td>\n",
       "      <td>2</td>\n",
       "      <td>0</td>\n",
       "      <td>1982-06-19</td>\n",
       "      <td>8</td>\n",
       "      <td>33</td>\n",
       "      <td>36</td>\n",
       "      <td>37</td>\n",
       "      <td>39</td>\n",
       "      <td>41</td>\n",
       "      <td>9</td>\n",
       "    </tr>\n",
       "    <tr>\n",
       "      <th>2</th>\n",
       "      <td>649</td>\n",
       "      <td>3</td>\n",
       "      <td>0</td>\n",
       "      <td>1982-06-26</td>\n",
       "      <td>1</td>\n",
       "      <td>6</td>\n",
       "      <td>23</td>\n",
       "      <td>24</td>\n",
       "      <td>27</td>\n",
       "      <td>39</td>\n",
       "      <td>34</td>\n",
       "    </tr>\n",
       "  </tbody>\n",
       "</table>\n",
       "</div>"
      ],
      "text/plain": [
       "   PRODUCT  DRAW NUMBER  SEQUENCE NUMBER  DRAW DATE  NUMBER DRAWN 1  \\\n",
       "0      649            1                0 1982-06-12               3   \n",
       "1      649            2                0 1982-06-19               8   \n",
       "2      649            3                0 1982-06-26               1   \n",
       "\n",
       "   NUMBER DRAWN 2  NUMBER DRAWN 3  NUMBER DRAWN 4  NUMBER DRAWN 5  \\\n",
       "0              11              12              14              41   \n",
       "1              33              36              37              39   \n",
       "2               6              23              24              27   \n",
       "\n",
       "   NUMBER DRAWN 6  BONUS NUMBER  \n",
       "0              43            13  \n",
       "1              41             9  \n",
       "2              39            34  "
      ]
     },
     "execution_count": 71,
     "metadata": {},
     "output_type": "execute_result"
    }
   ],
   "source": [
    "lottery.head(3)"
   ]
  },
  {
   "cell_type": "code",
   "execution_count": 72,
   "metadata": {},
   "outputs": [
    {
     "data": {
      "text/html": [
       "<div>\n",
       "<style scoped>\n",
       "    .dataframe tbody tr th:only-of-type {\n",
       "        vertical-align: middle;\n",
       "    }\n",
       "\n",
       "    .dataframe tbody tr th {\n",
       "        vertical-align: top;\n",
       "    }\n",
       "\n",
       "    .dataframe thead th {\n",
       "        text-align: right;\n",
       "    }\n",
       "</style>\n",
       "<table border=\"1\" class=\"dataframe\">\n",
       "  <thead>\n",
       "    <tr style=\"text-align: right;\">\n",
       "      <th></th>\n",
       "      <th>PRODUCT</th>\n",
       "      <th>DRAW NUMBER</th>\n",
       "      <th>SEQUENCE NUMBER</th>\n",
       "      <th>DRAW DATE</th>\n",
       "      <th>NUMBER DRAWN 1</th>\n",
       "      <th>NUMBER DRAWN 2</th>\n",
       "      <th>NUMBER DRAWN 3</th>\n",
       "      <th>NUMBER DRAWN 4</th>\n",
       "      <th>NUMBER DRAWN 5</th>\n",
       "      <th>NUMBER DRAWN 6</th>\n",
       "      <th>BONUS NUMBER</th>\n",
       "    </tr>\n",
       "  </thead>\n",
       "  <tbody>\n",
       "    <tr>\n",
       "      <th>3662</th>\n",
       "      <td>649</td>\n",
       "      <td>3589</td>\n",
       "      <td>0</td>\n",
       "      <td>2018-06-13</td>\n",
       "      <td>6</td>\n",
       "      <td>22</td>\n",
       "      <td>24</td>\n",
       "      <td>31</td>\n",
       "      <td>32</td>\n",
       "      <td>34</td>\n",
       "      <td>16</td>\n",
       "    </tr>\n",
       "    <tr>\n",
       "      <th>3663</th>\n",
       "      <td>649</td>\n",
       "      <td>3590</td>\n",
       "      <td>0</td>\n",
       "      <td>2018-06-16</td>\n",
       "      <td>2</td>\n",
       "      <td>15</td>\n",
       "      <td>21</td>\n",
       "      <td>31</td>\n",
       "      <td>38</td>\n",
       "      <td>49</td>\n",
       "      <td>8</td>\n",
       "    </tr>\n",
       "    <tr>\n",
       "      <th>3664</th>\n",
       "      <td>649</td>\n",
       "      <td>3591</td>\n",
       "      <td>0</td>\n",
       "      <td>2018-06-20</td>\n",
       "      <td>14</td>\n",
       "      <td>24</td>\n",
       "      <td>31</td>\n",
       "      <td>35</td>\n",
       "      <td>37</td>\n",
       "      <td>48</td>\n",
       "      <td>17</td>\n",
       "    </tr>\n",
       "  </tbody>\n",
       "</table>\n",
       "</div>"
      ],
      "text/plain": [
       "      PRODUCT  DRAW NUMBER  SEQUENCE NUMBER  DRAW DATE  NUMBER DRAWN 1  \\\n",
       "3662      649         3589                0 2018-06-13               6   \n",
       "3663      649         3590                0 2018-06-16               2   \n",
       "3664      649         3591                0 2018-06-20              14   \n",
       "\n",
       "      NUMBER DRAWN 2  NUMBER DRAWN 3  NUMBER DRAWN 4  NUMBER DRAWN 5  \\\n",
       "3662              22              24              31              32   \n",
       "3663              15              21              31              38   \n",
       "3664              24              31              35              37   \n",
       "\n",
       "      NUMBER DRAWN 6  BONUS NUMBER  \n",
       "3662              34            16  \n",
       "3663              49             8  \n",
       "3664              48            17  "
      ]
     },
     "execution_count": 72,
     "metadata": {},
     "output_type": "execute_result"
    }
   ],
   "source": [
    "lottery.tail(3)"
   ]
  },
  {
   "cell_type": "code",
   "execution_count": 73,
   "metadata": {},
   "outputs": [
    {
     "name": "stdout",
     "output_type": "stream",
     "text": [
      "<class 'pandas.core.frame.DataFrame'>\n",
      "RangeIndex: 3665 entries, 0 to 3664\n",
      "Data columns (total 11 columns):\n",
      " #   Column           Non-Null Count  Dtype         \n",
      "---  ------           --------------  -----         \n",
      " 0   PRODUCT          3665 non-null   int64         \n",
      " 1   DRAW NUMBER      3665 non-null   int64         \n",
      " 2   SEQUENCE NUMBER  3665 non-null   int64         \n",
      " 3   DRAW DATE        3665 non-null   datetime64[ns]\n",
      " 4   NUMBER DRAWN 1   3665 non-null   int64         \n",
      " 5   NUMBER DRAWN 2   3665 non-null   int64         \n",
      " 6   NUMBER DRAWN 3   3665 non-null   int64         \n",
      " 7   NUMBER DRAWN 4   3665 non-null   int64         \n",
      " 8   NUMBER DRAWN 5   3665 non-null   int64         \n",
      " 9   NUMBER DRAWN 6   3665 non-null   int64         \n",
      " 10  BONUS NUMBER     3665 non-null   int64         \n",
      "dtypes: datetime64[ns](1), int64(10)\n",
      "memory usage: 315.1 KB\n"
     ]
    }
   ],
   "source": [
    "lottery.info()"
   ]
  },
  {
   "cell_type": "markdown",
   "metadata": {},
   "source": [
    "### Function for Historical Data Check\n",
    "\n",
    "The following function extracts the six number drawn in a row and tranform them in a set."
   ]
  },
  {
   "cell_type": "code",
   "execution_count": 74,
   "metadata": {},
   "outputs": [],
   "source": [
    "def extract_numbers(row):\n",
    "    row = set(row[4:10].values)\n",
    "    return row"
   ]
  },
  {
   "cell_type": "markdown",
   "metadata": {},
   "source": [
    "Below I created a series of all the winning series of six numbers in the dataset."
   ]
  },
  {
   "cell_type": "code",
   "execution_count": 75,
   "metadata": {},
   "outputs": [],
   "source": [
    "winning_numbers = lottery.apply(extract_numbers, axis = 1)"
   ]
  },
  {
   "cell_type": "code",
   "execution_count": 76,
   "metadata": {},
   "outputs": [
    {
     "data": {
      "text/plain": [
       "0    {3, 41, 11, 12, 43, 14}\n",
       "1    {33, 36, 37, 39, 8, 41}\n",
       "2     {1, 6, 39, 23, 24, 27}\n",
       "dtype: object"
      ]
     },
     "execution_count": 76,
     "metadata": {},
     "output_type": "execute_result"
    }
   ],
   "source": [
    "winning_numbers.head(3)"
   ]
  },
  {
   "cell_type": "code",
   "execution_count": 77,
   "metadata": {},
   "outputs": [],
   "source": [
    "#this function checks if a ticket is a valid ticket with at least 6 valid numbers\n",
    "def check_is_a_valid_ticket(ticket):\n",
    "    if len(ticket) != 6:\n",
    "        return (False, \"A valid ticket has 6 number, your ticket has {}\".format(len(ticket)))\n",
    "    if len(set(ticket))!= 6:\n",
    "        return (False, \"Your ticket contains repeated numbers\")\n",
    "    valid_numbers = np.arange(1, 50)\n",
    "    for number in ticket:\n",
    "        if number not in valid_numbers:\n",
    "            return (False, \"Only numbers between 1 and 49 are valid, your ticket contains: {}\".format(number))\n",
    "    return (True, \"Your ticket is valid\")    \n",
    "    \n",
    "    "
   ]
  },
  {
   "cell_type": "code",
   "execution_count": 78,
   "metadata": {},
   "outputs": [
    {
     "data": {
      "text/plain": [
       "(False, 'Only numbers between 1 and 49 are valid, your ticket contains: 61')"
      ]
     },
     "execution_count": 78,
     "metadata": {},
     "output_type": "execute_result"
    }
   ],
   "source": [
    "check_is_a_valid_ticket([3, 41, 11, 12, 43, 61])"
   ]
  },
  {
   "cell_type": "code",
   "execution_count": 79,
   "metadata": {},
   "outputs": [],
   "source": [
    "### winning_ticket\n",
    "ticket_1 = [3, 41, 11, 12, 43, 14]\n",
    "### failing ticket, valid numbers\n",
    "ticket_2 = [1, 2, 3, 4, 5, 6]\n",
    "### numbers repeated\n",
    "ticket_3 = [3, 41, 11, 12, 14, 14]\n",
    "### ticket too short\n",
    "ticket_4 = [3, 41, 11, 12]\n",
    "### ticket too long\n",
    "ticket_5 = [3, 41, 11, 12, 43, 14, 7]"
   ]
  },
  {
   "cell_type": "code",
   "execution_count": 80,
   "metadata": {},
   "outputs": [],
   "source": [
    "assert check_is_a_valid_ticket(ticket_1)[0] == True\n",
    "assert check_is_a_valid_ticket(ticket_2)[0] == True\n",
    "assert check_is_a_valid_ticket(ticket_3)[0] == False\n",
    "assert check_is_a_valid_ticket(ticket_4)[0] == False\n",
    "assert check_is_a_valid_ticket(ticket_5)[0] == False"
   ]
  },
  {
   "cell_type": "markdown",
   "metadata": {},
   "source": [
    "The following function takes in a Python list representing a ticket ad checks it against the list of winning numbers."
   ]
  },
  {
   "cell_type": "code",
   "execution_count": 81,
   "metadata": {},
   "outputs": [],
   "source": [
    "def check_historical_occurence(ticket):\n",
    "    is_valid = check_is_a_valid_ticket(ticket)\n",
    "    if is_valid[0]:\n",
    "        #do something\n",
    "        print(is_valid[1])\n",
    "        occurrences = (winning_numbers == set(ticket)).sum()\n",
    "        print(\"The number of times the ticket {} won is: {}\" .format(str(ticket)[1:-1], occurrences))\n",
    "        one_ticket_probability(ticket)\n",
    "    else:\n",
    "         print(is_valid[1])"
   ]
  },
  {
   "cell_type": "code",
   "execution_count": 82,
   "metadata": {},
   "outputs": [
    {
     "name": "stdout",
     "output_type": "stream",
     "text": [
      "Your ticket is valid\n",
      "The number of times the ticket 3, 41, 11, 12, 43, 14 won is: 1\n",
      "The list of numbers 3, 41, 11, 12, 43, 14 has 0.000007% of probability to win in the next drawing.\n"
     ]
    }
   ],
   "source": [
    "check_historical_occurence(ticket_1)"
   ]
  },
  {
   "cell_type": "code",
   "execution_count": 83,
   "metadata": {},
   "outputs": [
    {
     "name": "stdout",
     "output_type": "stream",
     "text": [
      "Your ticket is valid\n",
      "The number of times the ticket 1, 2, 3, 4, 5, 6 won is: 0\n",
      "The list of numbers 1, 2, 3, 4, 5, 6 has 0.000007% of probability to win in the next drawing.\n"
     ]
    }
   ],
   "source": [
    "check_historical_occurence(ticket_2)"
   ]
  },
  {
   "cell_type": "code",
   "execution_count": 84,
   "metadata": {},
   "outputs": [
    {
     "name": "stdout",
     "output_type": "stream",
     "text": [
      "Your ticket contains repeated numbers\n"
     ]
    }
   ],
   "source": [
    "check_historical_occurence(ticket_3)"
   ]
  },
  {
   "cell_type": "code",
   "execution_count": 85,
   "metadata": {},
   "outputs": [
    {
     "name": "stdout",
     "output_type": "stream",
     "text": [
      "A valid ticket has 6 number, your ticket has 4\n"
     ]
    }
   ],
   "source": [
    "check_historical_occurence(ticket_4)"
   ]
  },
  {
   "cell_type": "code",
   "execution_count": 86,
   "metadata": {},
   "outputs": [
    {
     "name": "stdout",
     "output_type": "stream",
     "text": [
      "A valid ticket has 6 number, your ticket has 7\n"
     ]
    }
   ],
   "source": [
    "check_historical_occurence(ticket_5)"
   ]
  },
  {
   "cell_type": "markdown",
   "metadata": {},
   "source": [
    "Even if a ticket has won in the past, every new drawing is indipendent from the previous ones, so any combinations of six numbers has always the same (very low) probability of being drawn the next time."
   ]
  },
  {
   "cell_type": "markdown",
   "metadata": {},
   "source": [
    "### Multi-ticket probability\n",
    "\n",
    "Many lottery addicts play more than one ticket at once, I'm going to write a function to calculate the probability of playing more than one ticket, considering every ticket to be differnt from the others."
   ]
  },
  {
   "cell_type": "code",
   "execution_count": 87,
   "metadata": {},
   "outputs": [],
   "source": [
    "def multi_ticket_probability(number_of_tickets):\n",
    "    all_outcomes = combinations(49, 6)\n",
    "    success_prob_perc = (number_of_tickets / all_outcomes) * 100\n",
    "    print(\"The probability of winning with {} tickets is {:f}%\".format(\n",
    "    number_of_tickets, success_prob_perc))"
   ]
  },
  {
   "cell_type": "code",
   "execution_count": 88,
   "metadata": {},
   "outputs": [
    {
     "name": "stdout",
     "output_type": "stream",
     "text": [
      "The probability of winning with 1 tickets is 0.000007%\n",
      "The probability of winning with 10 tickets is 0.000072%\n",
      "The probability of winning with 100 tickets is 0.000715%\n",
      "The probability of winning with 10000 tickets is 0.071511%\n",
      "The probability of winning with 1000000 tickets is 7.151124%\n",
      "The probability of winning with 6991908 tickets is 50.000000%\n",
      "The probability of winning with 13983816 tickets is 100.000000%\n"
     ]
    }
   ],
   "source": [
    "multi_ticket_probability(1)\n",
    "multi_ticket_probability(10)\n",
    "multi_ticket_probability(100)\n",
    "multi_ticket_probability(10000)\n",
    "multi_ticket_probability(1000000)\n",
    "multi_ticket_probability(6991908)\n",
    "multi_ticket_probability(13983816)"
   ]
  },
  {
   "cell_type": "markdown",
   "metadata": {},
   "source": [
    "Playing all the possible 13983816 unique combinations of numbers the probability of winning is guaranteed, but clearly not very convenient."
   ]
  },
  {
   "cell_type": "markdown",
   "metadata": {},
   "source": [
    "### Less winning numbers\n",
    "\n",
    "The 6/49 lottery awards the biggest prize to tickets with all the six number drawn, but there are also other lesser prizes for tickets with 5, 4, 3 or 2 numbers. <br>\n",
    "I'll write a function calculating the probability of winning one the lesser prizes with a six number tickets."
   ]
  },
  {
   "cell_type": "code",
   "execution_count": 89,
   "metadata": {},
   "outputs": [],
   "source": [
    "def probability_less_6(z):\n",
    "    if z <2 or z > 5:\n",
    "        print(\"You should enter a number between 2 and 5\")\n",
    "    else:\n",
    "        total_6_combinations =  combinations(49, 6)\n",
    "        total_z_combinations = combinations(6, z)\n",
    "        other_combinations = combinations(43, 6 - z)\n",
    "        ## other numbers different from our tickets\n",
    "    \n",
    "        successful_outcomes = other_combinations * total_z_combinations\n",
    "        success_prob = (successful_outcomes/ total_6_combinations)*100\n",
    "        return success_prob"
   ]
  },
  {
   "cell_type": "code",
   "execution_count": 90,
   "metadata": {},
   "outputs": [
    {
     "data": {
      "text/plain": [
       "13.237802900152577"
      ]
     },
     "execution_count": 90,
     "metadata": {},
     "output_type": "execute_result"
    }
   ],
   "source": [
    "probability_less_6(2)"
   ]
  },
  {
   "cell_type": "code",
   "execution_count": 91,
   "metadata": {},
   "outputs": [
    {
     "name": "stdout",
     "output_type": "stream",
     "text": [
      "The probability of 2 winning numbers out of six is: 13.237803%\n",
      "The probability of 3 winning numbers out of six is: 1.765040%\n",
      "The probability of 4 winning numbers out of six is: 0.096862%\n",
      "The probability of 5 winning numbers out of six is: 0.001845%\n"
     ]
    }
   ],
   "source": [
    "for i in range(2, 6):\n",
    "    message = \"The probability of {} winning numbers out of six is: {:5f}%\"\n",
    "    print(message.format(i, probability_less_6(i)))"
   ]
  },
  {
   "cell_type": "code",
   "execution_count": null,
   "metadata": {},
   "outputs": [],
   "source": []
  }
 ],
 "metadata": {
  "kernelspec": {
   "display_name": "Python 3",
   "language": "python",
   "name": "python3"
  },
  "language_info": {
   "codemirror_mode": {
    "name": "ipython",
    "version": 3
   },
   "file_extension": ".py",
   "mimetype": "text/x-python",
   "name": "python",
   "nbconvert_exporter": "python",
   "pygments_lexer": "ipython3",
   "version": "3.6.10"
  }
 },
 "nbformat": 4,
 "nbformat_minor": 2
}

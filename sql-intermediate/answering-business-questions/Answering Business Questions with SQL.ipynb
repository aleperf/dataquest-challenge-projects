{
 "cells": [
  {
   "cell_type": "markdown",
   "metadata": {
    "collapsed": true
   },
   "source": [
    "This project explores the [chinook database](https://github.com/lerocha/chinook-database), a well-known database containing fictional data about a digital media store, useful for practicing in SQL, using the sqlite3 python module and pandas for converting the database tables to dataframes, combining the the speed in queries of the SQL language to the pandas ability to create useful visualizations.<br>"
   ]
  },
  {
   "cell_type": "code",
   "execution_count": 1,
   "metadata": {},
   "outputs": [],
   "source": [
    "import sqlite3\n",
    "import pandas as pd\n",
    "import numpy as np\n",
    "import matplotlib.pyplot as plt\n",
    "%matplotlib inline"
   ]
  },
  {
   "cell_type": "code",
   "execution_count": 2,
   "metadata": {},
   "outputs": [],
   "source": [
    "def run_query(q):\n",
    "    with sqlite3.connect('chinook.db') as conn:\n",
    "        return pd.read_sql(q, conn)"
   ]
  },
  {
   "cell_type": "code",
   "execution_count": 3,
   "metadata": {},
   "outputs": [],
   "source": [
    "def run_command(q):\n",
    "    with sqlite3.connect('chinook.db') as conn:\n",
    "        conn.isolation_level = None\n",
    "        conn.execute(q)"
   ]
  },
  {
   "cell_type": "code",
   "execution_count": 4,
   "metadata": {},
   "outputs": [],
   "source": [
    "def show_tables():\n",
    "    query='SELECT name, type FROM sqlite_master WHERE type in (\"table\", \"view\")'\n",
    "    df = run_query(query)\n",
    "    print(\"The chinook database contains the following tables\")\n",
    "    print(df.head())"
   ]
  },
  {
   "cell_type": "code",
   "execution_count": 5,
   "metadata": {},
   "outputs": [
    {
     "name": "stdout",
     "output_type": "stream",
     "text": [
      "The chinook database contains the following tables\n",
      "       name   type\n",
      "0     album  table\n",
      "1    artist  table\n",
      "2  customer  table\n",
      "3  employee  table\n",
      "4     genre  table\n"
     ]
    }
   ],
   "source": [
    "show_tables()"
   ]
  },
  {
   "cell_type": "markdown",
   "metadata": {},
   "source": [
    "### Music Genres in USA\n",
    "\n",
    "Let's see what genres are sold to USA customers."
   ]
  },
  {
   "cell_type": "code",
   "execution_count": 6,
   "metadata": {},
   "outputs": [],
   "source": [
    "usa_query= \"\"\"WITH music_in_usa AS(\n",
    "SELECT  g.name music_genre, il.quantity quantity, billing_country\n",
    "FROM invoice_line il\n",
    "INNER JOIN invoice i ON il.invoice_id = i.invoice_id\n",
    "INNER JOIN track t ON il.track_id = t.track_id\n",
    "INNER JOIN genre g ON g.genre_id = t.genre_id\n",
    "WHERE i.billing_country=\"USA\"),\n",
    "\n",
    "total AS(\n",
    "SELECT SUM(quantity)total_tracks, billing_country FROM music_in_usa)\n",
    "\n",
    "SELECT music_genre, SUM(quantity)number_of_tracks, CAST(SUM(quantity) AS Float)/total_tracks * 100 percentage\n",
    "FROM music_in_usa miu\n",
    "JOIN total ON miu.billing_country = total.billing_country\n",
    "GROUP BY music_genre\n",
    "ORDER BY percentage DESC\n",
    "\"\"\""
   ]
  },
  {
   "cell_type": "code",
   "execution_count": 7,
   "metadata": {},
   "outputs": [],
   "source": [
    "usa_genres = run_query(usa_query)"
   ]
  },
  {
   "cell_type": "code",
   "execution_count": 8,
   "metadata": {},
   "outputs": [
    {
     "data": {
      "text/html": [
       "<div>\n",
       "<style scoped>\n",
       "    .dataframe tbody tr th:only-of-type {\n",
       "        vertical-align: middle;\n",
       "    }\n",
       "\n",
       "    .dataframe tbody tr th {\n",
       "        vertical-align: top;\n",
       "    }\n",
       "\n",
       "    .dataframe thead th {\n",
       "        text-align: right;\n",
       "    }\n",
       "</style>\n",
       "<table border=\"1\" class=\"dataframe\">\n",
       "  <thead>\n",
       "    <tr style=\"text-align: right;\">\n",
       "      <th></th>\n",
       "      <th>music_genre</th>\n",
       "      <th>number_of_tracks</th>\n",
       "      <th>percentage</th>\n",
       "    </tr>\n",
       "  </thead>\n",
       "  <tbody>\n",
       "    <tr>\n",
       "      <th>0</th>\n",
       "      <td>Rock</td>\n",
       "      <td>561</td>\n",
       "      <td>53.377735</td>\n",
       "    </tr>\n",
       "    <tr>\n",
       "      <th>1</th>\n",
       "      <td>Alternative &amp; Punk</td>\n",
       "      <td>130</td>\n",
       "      <td>12.369172</td>\n",
       "    </tr>\n",
       "    <tr>\n",
       "      <th>2</th>\n",
       "      <td>Metal</td>\n",
       "      <td>124</td>\n",
       "      <td>11.798287</td>\n",
       "    </tr>\n",
       "    <tr>\n",
       "      <th>3</th>\n",
       "      <td>R&amp;B/Soul</td>\n",
       "      <td>53</td>\n",
       "      <td>5.042816</td>\n",
       "    </tr>\n",
       "    <tr>\n",
       "      <th>4</th>\n",
       "      <td>Blues</td>\n",
       "      <td>36</td>\n",
       "      <td>3.425309</td>\n",
       "    </tr>\n",
       "    <tr>\n",
       "      <th>5</th>\n",
       "      <td>Alternative</td>\n",
       "      <td>35</td>\n",
       "      <td>3.330162</td>\n",
       "    </tr>\n",
       "    <tr>\n",
       "      <th>6</th>\n",
       "      <td>Pop</td>\n",
       "      <td>22</td>\n",
       "      <td>2.093245</td>\n",
       "    </tr>\n",
       "    <tr>\n",
       "      <th>7</th>\n",
       "      <td>Latin</td>\n",
       "      <td>22</td>\n",
       "      <td>2.093245</td>\n",
       "    </tr>\n",
       "    <tr>\n",
       "      <th>8</th>\n",
       "      <td>Hip Hop/Rap</td>\n",
       "      <td>20</td>\n",
       "      <td>1.902950</td>\n",
       "    </tr>\n",
       "    <tr>\n",
       "      <th>9</th>\n",
       "      <td>Jazz</td>\n",
       "      <td>14</td>\n",
       "      <td>1.332065</td>\n",
       "    </tr>\n",
       "    <tr>\n",
       "      <th>10</th>\n",
       "      <td>Easy Listening</td>\n",
       "      <td>13</td>\n",
       "      <td>1.236917</td>\n",
       "    </tr>\n",
       "    <tr>\n",
       "      <th>11</th>\n",
       "      <td>Reggae</td>\n",
       "      <td>6</td>\n",
       "      <td>0.570885</td>\n",
       "    </tr>\n",
       "    <tr>\n",
       "      <th>12</th>\n",
       "      <td>Electronica/Dance</td>\n",
       "      <td>5</td>\n",
       "      <td>0.475737</td>\n",
       "    </tr>\n",
       "    <tr>\n",
       "      <th>13</th>\n",
       "      <td>Classical</td>\n",
       "      <td>4</td>\n",
       "      <td>0.380590</td>\n",
       "    </tr>\n",
       "    <tr>\n",
       "      <th>14</th>\n",
       "      <td>Heavy Metal</td>\n",
       "      <td>3</td>\n",
       "      <td>0.285442</td>\n",
       "    </tr>\n",
       "    <tr>\n",
       "      <th>15</th>\n",
       "      <td>Soundtrack</td>\n",
       "      <td>2</td>\n",
       "      <td>0.190295</td>\n",
       "    </tr>\n",
       "    <tr>\n",
       "      <th>16</th>\n",
       "      <td>TV Shows</td>\n",
       "      <td>1</td>\n",
       "      <td>0.095147</td>\n",
       "    </tr>\n",
       "  </tbody>\n",
       "</table>\n",
       "</div>"
      ],
      "text/plain": [
       "           music_genre  number_of_tracks  percentage\n",
       "0                 Rock               561   53.377735\n",
       "1   Alternative & Punk               130   12.369172\n",
       "2                Metal               124   11.798287\n",
       "3             R&B/Soul                53    5.042816\n",
       "4                Blues                36    3.425309\n",
       "5          Alternative                35    3.330162\n",
       "6                  Pop                22    2.093245\n",
       "7                Latin                22    2.093245\n",
       "8          Hip Hop/Rap                20    1.902950\n",
       "9                 Jazz                14    1.332065\n",
       "10      Easy Listening                13    1.236917\n",
       "11              Reggae                 6    0.570885\n",
       "12   Electronica/Dance                 5    0.475737\n",
       "13           Classical                 4    0.380590\n",
       "14         Heavy Metal                 3    0.285442\n",
       "15          Soundtrack                 2    0.190295\n",
       "16            TV Shows                 1    0.095147"
      ]
     },
     "execution_count": 8,
     "metadata": {},
     "output_type": "execute_result"
    }
   ],
   "source": [
    "usa_genres"
   ]
  },
  {
   "cell_type": "code",
   "execution_count": 9,
   "metadata": {},
   "outputs": [],
   "source": [
    "genres_labels = usa_genres['music_genre'].tolist()\n",
    "genres_percent = usa_genres['percentage'].tolist()\n",
    "positions = np.arange(len(genres_labels)) + 1"
   ]
  },
  {
   "cell_type": "code",
   "execution_count": 10,
   "metadata": {},
   "outputs": [
    {
     "data": {
      "image/png": "[encoded data removed]",
      "text/plain": [
       "<Figure size 1296x720 with 1 Axes>"
      ]
     },
     "metadata": {
      "needs_background": "light"
     },
     "output_type": "display_data"
    }
   ],
   "source": [
    "plt.figure(figsize=(18,10))\n",
    "plt.bar(positions, genres_percent, align=\"center\")\n",
    "plt.xticks(positions, genres_labels, rotation=70,fontsize=14)\n",
    "plt.ylabel(\"Percentage\", fontsize=16)\n",
    "plt.xlabel(\"Music Genres\", fontsize=16)\n",
    "plt.title(\"Music Genres Sold in USA in Percentage\", fontsize=20);"
   ]
  },
  {
   "cell_type": "markdown",
   "metadata": {},
   "source": [
    "The most sold genres is USA is clearly Rock which accounts for more than half of all the music tracks sold (53%)."
   ]
  },
  {
   "cell_type": "markdown",
   "metadata": {},
   "source": [
    "### Best Support Sales Agent\n",
    "\n",
    "Every customer in the chinook database has a sales support agent assigned, let's see who is the best one in terms of dollar amount and average sale."
   ]
  },
  {
   "cell_type": "code",
   "execution_count": 11,
   "metadata": {},
   "outputs": [],
   "source": [
    "agent_query = \"\"\"WITH total_sales_per_client AS(\n",
    "SELECT SUM(i.total) total_sales, c.support_rep_id agent_id, i.customer_id \n",
    "FROM invoice i\n",
    "INNER JOIN customer c ON c.customer_id = i.customer_id\n",
    "GROUP BY i.customer_id, agent_id\n",
    ")\n",
    "\n",
    "SELECT e.first_name ||\" \" ||e.last_name agent_name, e.title role,\n",
    "SUM(total_sales) sales,\n",
    "COUNT(ts.customer_id) number_of_customers,\n",
    "SUM(total_sales)/COUNT(ts.customer_id) average_sale_per_client\n",
    "FROM employee e \n",
    "INNER JOIN total_sales_per_client ts ON e.employee_id = ts.agent_id\n",
    "GROUP BY agent_name\n",
    "ORDER BY sales DESC\"\"\""
   ]
  },
  {
   "cell_type": "code",
   "execution_count": 12,
   "metadata": {},
   "outputs": [
    {
     "data": {
      "text/html": [
       "<div>\n",
       "<style scoped>\n",
       "    .dataframe tbody tr th:only-of-type {\n",
       "        vertical-align: middle;\n",
       "    }\n",
       "\n",
       "    .dataframe tbody tr th {\n",
       "        vertical-align: top;\n",
       "    }\n",
       "\n",
       "    .dataframe thead th {\n",
       "        text-align: right;\n",
       "    }\n",
       "</style>\n",
       "<table border=\"1\" class=\"dataframe\">\n",
       "  <thead>\n",
       "    <tr style=\"text-align: right;\">\n",
       "      <th></th>\n",
       "      <th>agent_name</th>\n",
       "      <th>role</th>\n",
       "      <th>sales</th>\n",
       "      <th>number_of_customers</th>\n",
       "      <th>average_sale_per_client</th>\n",
       "    </tr>\n",
       "  </thead>\n",
       "  <tbody>\n",
       "    <tr>\n",
       "      <th>0</th>\n",
       "      <td>Jane Peacock</td>\n",
       "      <td>Sales Support Agent</td>\n",
       "      <td>1731.51</td>\n",
       "      <td>21</td>\n",
       "      <td>82.452857</td>\n",
       "    </tr>\n",
       "    <tr>\n",
       "      <th>1</th>\n",
       "      <td>Margaret Park</td>\n",
       "      <td>Sales Support Agent</td>\n",
       "      <td>1584.00</td>\n",
       "      <td>20</td>\n",
       "      <td>79.200000</td>\n",
       "    </tr>\n",
       "    <tr>\n",
       "      <th>2</th>\n",
       "      <td>Steve Johnson</td>\n",
       "      <td>Sales Support Agent</td>\n",
       "      <td>1393.92</td>\n",
       "      <td>18</td>\n",
       "      <td>77.440000</td>\n",
       "    </tr>\n",
       "  </tbody>\n",
       "</table>\n",
       "</div>"
      ],
      "text/plain": [
       "      agent_name                 role    sales  number_of_customers  \\\n",
       "0   Jane Peacock  Sales Support Agent  1731.51                   21   \n",
       "1  Margaret Park  Sales Support Agent  1584.00                   20   \n",
       "2  Steve Johnson  Sales Support Agent  1393.92                   18   \n",
       "\n",
       "   average_sale_per_client  \n",
       "0                82.452857  \n",
       "1                79.200000  \n",
       "2                77.440000  "
      ]
     },
     "execution_count": 12,
     "metadata": {},
     "output_type": "execute_result"
    }
   ],
   "source": [
    "agent_df = run_query(agent_query)\n",
    "agent_df"
   ]
  },
  {
   "cell_type": "code",
   "execution_count": 13,
   "metadata": {},
   "outputs": [
    {
     "data": {
      "image/png": "[encoded data removed]",
      "text/plain": [
       "<Figure size 432x288 with 1 Axes>"
      ]
     },
     "metadata": {
      "needs_background": "light"
     },
     "output_type": "display_data"
    }
   ],
   "source": [
    "agents = agent_df['agent_name'].tolist()\n",
    "sales = agent_df['sales'].tolist()\n",
    "agent_pos= np.arange(len(agents)) + 1\n",
    "plt.title(\"Sales in Dollars per Sale Support Agent\")\n",
    "plt.ylabel(\"Dollars\")\n",
    "plt.xlabel(\"Sale Support Agent Name\")\n",
    "plt.xticks(agent_pos, agents)\n",
    "plt.bar(agent_pos, sales, align=\"center\");"
   ]
  },
  {
   "cell_type": "code",
   "execution_count": 14,
   "metadata": {},
   "outputs": [
    {
     "data": {
      "image/png": "[encoded data removed]",
      "text/plain": [
       "<Figure size 432x288 with 1 Axes>"
      ]
     },
     "metadata": {
      "needs_background": "light"
     },
     "output_type": "display_data"
    }
   ],
   "source": [
    "avg_sales = agent_df['average_sale_per_client'].tolist()\n",
    "plt.title(\"Average Sale per Sale Support Agent\")\n",
    "plt.ylabel(\"Dollars\")\n",
    "plt.xlabel(\"Sale Support Agent Name\")\n",
    "plt.xticks(agent_pos, agents)\n",
    "plt.bar(agent_pos, avg_sales, align=\"center\");"
   ]
  },
  {
   "cell_type": "markdown",
   "metadata": {},
   "source": [
    "The best Sales Support Agent is Jane Peacock with a total of sales of about 1731 dollars. Jane Peacock has also more customers to follow than the other two Sales Support Agents, but on average she sells slightly more than the other two per customer, 82 dollars, againts 79 of Margaret park and 77 of Steve Johnson."
   ]
  },
  {
   "cell_type": "markdown",
   "metadata": {},
   "source": [
    "### Sales by Country"
   ]
  },
  {
   "cell_type": "markdown",
   "metadata": {},
   "source": [
    "Let'see the total amount of customers, the total value of sales, the average value of sales per customer and the average order value for each country."
   ]
  },
  {
   "cell_type": "code",
   "execution_count": 15,
   "metadata": {},
   "outputs": [],
   "source": [
    "query_country=\"\"\"WITH spenders AS (\n",
    "SELECT COUNT(i.customer_id) number_of_orders,COUNT(c.customer_id) number_of_customers,\n",
    "    c.customer_id customer_id, SUM(i.total )total_spent,c.country country,\n",
    "SUM(i.total)/COUNT(i.customer_id) average_spent\n",
    "FROM customer c\n",
    "INNER JOIN invoice i\n",
    "ON c.customer_id = i.customer_id\n",
    "GROUP BY country, c.customer_id),\n",
    "country_customers AS (\n",
    "    SELECT COUNT(country) number_of_customers, country\n",
    "FROM spenders\n",
    "GROUP BY country\n",
    "ORDER BY number_of_customers DESC\n",
    "),\n",
    "\n",
    "spenders_by_country AS(\n",
    "SELECT \n",
    "CASE\n",
    "    WHEN cc.number_of_customers > 1 THEN cc.country\n",
    "    ELSE \"Other\"\n",
    "    END AS country_name,\n",
    "COUNT(cc.number_of_customers) total_customers,\n",
    "SUM(number_of_orders)number_of_orders, SUM(total_spent)total_value_of_sales,\n",
    "SUM(total_spent)/SUM(number_of_orders) average_sale, \n",
    "SUM(number_of_orders)/CAST(COUNT(cc.number_of_customers)AS Float) avg_number_of_orders_per_customer\n",
    "FROM spenders s\n",
    "JOIN country_customers cc ON s.country = cc.country\n",
    "GROUP BY country_name\n",
    "ORDER BY total_value_of_sales DESC, cc.number_of_customers)\n",
    "\n",
    "SELECT \n",
    "country_name, total_customers, number_of_orders, total_value_of_sales,\n",
    "    average_sale, avg_number_of_orders_per_customer, total_value_of_sales/total_customers avg_customer_value\n",
    "FROM (\n",
    "    SELECT country_name, total_customers, number_of_orders, total_value_of_sales,\n",
    "    average_sale, avg_number_of_orders_per_customer,\n",
    "    CASE\n",
    "    WHEN country_name = \"Other\" THEN 1\n",
    "    ELSE 0\n",
    "    END AS ordering\n",
    "    FROM spenders_by_country\n",
    ")\n",
    "ORDER BY ordering \"\"\""
   ]
  },
  {
   "cell_type": "code",
   "execution_count": 16,
   "metadata": {},
   "outputs": [
    {
     "data": {
      "text/html": [
       "<div>\n",
       "<style scoped>\n",
       "    .dataframe tbody tr th:only-of-type {\n",
       "        vertical-align: middle;\n",
       "    }\n",
       "\n",
       "    .dataframe tbody tr th {\n",
       "        vertical-align: top;\n",
       "    }\n",
       "\n",
       "    .dataframe thead th {\n",
       "        text-align: right;\n",
       "    }\n",
       "</style>\n",
       "<table border=\"1\" class=\"dataframe\">\n",
       "  <thead>\n",
       "    <tr style=\"text-align: right;\">\n",
       "      <th></th>\n",
       "      <th>country_name</th>\n",
       "      <th>total_customers</th>\n",
       "      <th>number_of_orders</th>\n",
       "      <th>total_value_of_sales</th>\n",
       "      <th>average_sale</th>\n",
       "      <th>avg_number_of_orders_per_customer</th>\n",
       "      <th>avg_customer_value</th>\n",
       "    </tr>\n",
       "  </thead>\n",
       "  <tbody>\n",
       "    <tr>\n",
       "      <th>0</th>\n",
       "      <td>USA</td>\n",
       "      <td>13</td>\n",
       "      <td>131</td>\n",
       "      <td>1040.49</td>\n",
       "      <td>7.942672</td>\n",
       "      <td>10.076923</td>\n",
       "      <td>80.037692</td>\n",
       "    </tr>\n",
       "    <tr>\n",
       "      <th>1</th>\n",
       "      <td>Canada</td>\n",
       "      <td>8</td>\n",
       "      <td>76</td>\n",
       "      <td>535.59</td>\n",
       "      <td>7.047237</td>\n",
       "      <td>9.500000</td>\n",
       "      <td>66.948750</td>\n",
       "    </tr>\n",
       "    <tr>\n",
       "      <th>2</th>\n",
       "      <td>Brazil</td>\n",
       "      <td>5</td>\n",
       "      <td>61</td>\n",
       "      <td>427.68</td>\n",
       "      <td>7.011148</td>\n",
       "      <td>12.200000</td>\n",
       "      <td>85.536000</td>\n",
       "    </tr>\n",
       "    <tr>\n",
       "      <th>3</th>\n",
       "      <td>France</td>\n",
       "      <td>5</td>\n",
       "      <td>50</td>\n",
       "      <td>389.07</td>\n",
       "      <td>7.781400</td>\n",
       "      <td>10.000000</td>\n",
       "      <td>77.814000</td>\n",
       "    </tr>\n",
       "    <tr>\n",
       "      <th>4</th>\n",
       "      <td>Germany</td>\n",
       "      <td>4</td>\n",
       "      <td>41</td>\n",
       "      <td>334.62</td>\n",
       "      <td>8.161463</td>\n",
       "      <td>10.250000</td>\n",
       "      <td>83.655000</td>\n",
       "    </tr>\n",
       "    <tr>\n",
       "      <th>5</th>\n",
       "      <td>Czech Republic</td>\n",
       "      <td>2</td>\n",
       "      <td>30</td>\n",
       "      <td>273.24</td>\n",
       "      <td>9.108000</td>\n",
       "      <td>15.000000</td>\n",
       "      <td>136.620000</td>\n",
       "    </tr>\n",
       "    <tr>\n",
       "      <th>6</th>\n",
       "      <td>United Kingdom</td>\n",
       "      <td>3</td>\n",
       "      <td>28</td>\n",
       "      <td>245.52</td>\n",
       "      <td>8.768571</td>\n",
       "      <td>9.333333</td>\n",
       "      <td>81.840000</td>\n",
       "    </tr>\n",
       "    <tr>\n",
       "      <th>7</th>\n",
       "      <td>Portugal</td>\n",
       "      <td>2</td>\n",
       "      <td>29</td>\n",
       "      <td>185.13</td>\n",
       "      <td>6.383793</td>\n",
       "      <td>14.500000</td>\n",
       "      <td>92.565000</td>\n",
       "    </tr>\n",
       "    <tr>\n",
       "      <th>8</th>\n",
       "      <td>India</td>\n",
       "      <td>2</td>\n",
       "      <td>21</td>\n",
       "      <td>183.15</td>\n",
       "      <td>8.721429</td>\n",
       "      <td>10.500000</td>\n",
       "      <td>91.575000</td>\n",
       "    </tr>\n",
       "    <tr>\n",
       "      <th>9</th>\n",
       "      <td>Other</td>\n",
       "      <td>15</td>\n",
       "      <td>147</td>\n",
       "      <td>1094.94</td>\n",
       "      <td>7.448571</td>\n",
       "      <td>9.800000</td>\n",
       "      <td>72.996000</td>\n",
       "    </tr>\n",
       "  </tbody>\n",
       "</table>\n",
       "</div>"
      ],
      "text/plain": [
       "     country_name  total_customers  number_of_orders  total_value_of_sales  \\\n",
       "0             USA               13               131               1040.49   \n",
       "1          Canada                8                76                535.59   \n",
       "2          Brazil                5                61                427.68   \n",
       "3          France                5                50                389.07   \n",
       "4         Germany                4                41                334.62   \n",
       "5  Czech Republic                2                30                273.24   \n",
       "6  United Kingdom                3                28                245.52   \n",
       "7        Portugal                2                29                185.13   \n",
       "8           India                2                21                183.15   \n",
       "9           Other               15               147               1094.94   \n",
       "\n",
       "   average_sale  avg_number_of_orders_per_customer  avg_customer_value  \n",
       "0      7.942672                          10.076923           80.037692  \n",
       "1      7.047237                           9.500000           66.948750  \n",
       "2      7.011148                          12.200000           85.536000  \n",
       "3      7.781400                          10.000000           77.814000  \n",
       "4      8.161463                          10.250000           83.655000  \n",
       "5      9.108000                          15.000000          136.620000  \n",
       "6      8.768571                           9.333333           81.840000  \n",
       "7      6.383793                          14.500000           92.565000  \n",
       "8      8.721429                          10.500000           91.575000  \n",
       "9      7.448571                           9.800000           72.996000  "
      ]
     },
     "execution_count": 16,
     "metadata": {},
     "output_type": "execute_result"
    }
   ],
   "source": [
    "country_df = run_query(query_country)\n",
    "country_df"
   ]
  },
  {
   "cell_type": "markdown",
   "metadata": {},
   "source": [
    "USA is country witht highest amount of sales,the largest number of customers (13) and the highest value per customers: on average each customer spends about 80 dollar in total."
   ]
  },
  {
   "cell_type": "markdown",
   "metadata": {
    "collapsed": true
   },
   "source": [
    "### Single Track vs Full Album\n",
    "\n",
    "Let's see what proportion of invoices contains all the tracks from an album."
   ]
  },
  {
   "cell_type": "code",
   "execution_count": 17,
   "metadata": {},
   "outputs": [],
   "source": [
    "query_albums = \"\"\"WITH first_tracks AS(\n",
    "SELECT il.invoice_id invoice_id,\n",
    "MIN(il.track_id) first_track_id\n",
    "FROM invoice_line il\n",
    "GROUP BY invoice_id),\n",
    "\n",
    "albums_bought AS (\n",
    "\n",
    "SELECT ft.*,\n",
    "        CASE\n",
    "            WHEN\n",
    "                 (\n",
    "                  SELECT t.track_id FROM track t\n",
    "                  WHERE t.album_id = (\n",
    "                                      SELECT track.album_id FROM track \n",
    "                                      WHERE track.track_id = ft.first_track_id\n",
    "                                     ) \n",
    "\n",
    "                  EXCEPT \n",
    "\n",
    "                  SELECT invoice_line.track_id FROM invoice_line \n",
    "                  WHERE invoice_line.invoice_id = ft.invoice_id\n",
    "                 ) IS NULL\n",
    "             AND\n",
    "                 (\n",
    "                  SELECT invoice_line.track_id FROM invoice_line \n",
    "                  WHERE invoice_line.invoice_id = ft.invoice_id\n",
    "\n",
    "                  EXCEPT \n",
    "\n",
    "                  SELECT t.track_id FROM track t\n",
    "                  WHERE t.album_id = (\n",
    "                                      SELECT track.album_id FROM track\n",
    "                                      WHERE track.track_id = ft.first_track_id\n",
    "                                     ) \n",
    "                 ) IS NULL\n",
    "             THEN \"yes\"\n",
    "             ELSE \"no\"\n",
    "             END AS \"is_album\"\n",
    "    FROM first_tracks ft)\n",
    "\n",
    "\n",
    "\n",
    "SELECT CAST(COUNT(first_track_id)AS Float) /(SELECT COUNT(*) FROM invoice)*100 percentage, is_album\n",
    "FROM albums_bought\n",
    "GROUP by is_album\n",
    "\n",
    "\"\"\""
   ]
  },
  {
   "cell_type": "code",
   "execution_count": 18,
   "metadata": {},
   "outputs": [
    {
     "data": {
      "text/html": [
       "<div>\n",
       "<style scoped>\n",
       "    .dataframe tbody tr th:only-of-type {\n",
       "        vertical-align: middle;\n",
       "    }\n",
       "\n",
       "    .dataframe tbody tr th {\n",
       "        vertical-align: top;\n",
       "    }\n",
       "\n",
       "    .dataframe thead th {\n",
       "        text-align: right;\n",
       "    }\n",
       "</style>\n",
       "<table border=\"1\" class=\"dataframe\">\n",
       "  <thead>\n",
       "    <tr style=\"text-align: right;\">\n",
       "      <th></th>\n",
       "      <th>percentage</th>\n",
       "      <th>is_album</th>\n",
       "    </tr>\n",
       "  </thead>\n",
       "  <tbody>\n",
       "    <tr>\n",
       "      <th>0</th>\n",
       "      <td>81.433225</td>\n",
       "      <td>no</td>\n",
       "    </tr>\n",
       "    <tr>\n",
       "      <th>1</th>\n",
       "      <td>18.566775</td>\n",
       "      <td>yes</td>\n",
       "    </tr>\n",
       "  </tbody>\n",
       "</table>\n",
       "</div>"
      ],
      "text/plain": [
       "   percentage is_album\n",
       "0   81.433225       no\n",
       "1   18.566775      yes"
      ]
     },
     "execution_count": 18,
     "metadata": {},
     "output_type": "execute_result"
    }
   ],
   "source": [
    "run_query(query_albums)"
   ]
  },
  {
   "cell_type": "markdown",
   "metadata": {},
   "source": [
    "About 18.6 % of invoices are for buying all the songs from an album, so this kind of sells are quite relevant for the chinook store."
   ]
  },
  {
   "cell_type": "code",
   "execution_count": null,
   "metadata": {},
   "outputs": [],
   "source": []
  }
 ],
 "metadata": {
  "kernelspec": {
   "display_name": "Python 3",
   "language": "python",
   "name": "python3"
  },
  "language_info": {
   "codemirror_mode": {
    "name": "ipython",
    "version": 3
   },
   "file_extension": ".py",
   "mimetype": "text/x-python",
   "name": "python",
   "nbconvert_exporter": "python",
   "pygments_lexer": "ipython3",
   "version": "3.6.10"
  }
 },
 "nbformat": 4,
 "nbformat_minor": 2
}

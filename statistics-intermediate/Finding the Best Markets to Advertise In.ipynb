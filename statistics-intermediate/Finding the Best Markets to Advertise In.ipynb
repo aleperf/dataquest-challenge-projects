{
 "cells": [
  {
   "cell_type": "markdown",
   "metadata": {},
   "source": [
    "### Best Markets to Advertise In an E-learning Company and Where to Find Them"
   ]
  },
  {
   "cell_type": "markdown",
   "metadata": {},
   "source": [
    "A fictional e-learning company,The E-Newt, offering courses in mobile and web-development and other topics, wants to extend its offer and advertise the new courses in the best markets: the goal of this analysis is to find them.\n",
    "\n",
    "In order to have a better idea of what markets can be of interest for self-learning students I'll analyze the FreeCodeCamp 2017 New Coder Survey. FreeCodeCamp is a very famous self-learning platform for aspiring web developers, with thousounds of users. <br>\n",
    "The github repository of the survey can be found [here](https://github.com/freeCodeCamp/2017-new-coder-survey)."
   ]
  },
  {
   "cell_type": "code",
   "execution_count": 165,
   "metadata": {},
   "outputs": [],
   "source": [
    "import pandas as pd\n",
    "import numpy as np\n",
    "import matplotlib.pyplot as plt\n",
    "import seaborn as sns\n",
    "%matplotlib inline"
   ]
  },
  {
   "cell_type": "code",
   "execution_count": 166,
   "metadata": {},
   "outputs": [
    {
     "name": "stderr",
     "output_type": "stream",
     "text": [
      "C:\\Users\\Tundra\\Anaconda3\\lib\\site-packages\\IPython\\core\\interactiveshell.py:3063: DtypeWarning: Columns (17,62) have mixed types.Specify dtype option on import or set low_memory=False.\n",
      "  interactivity=interactivity, compiler=compiler, result=result)\n"
     ]
    }
   ],
   "source": [
    "survey = pd.read_csv(\"2017-fCC-New-Coders-Survey-Data.csv\")"
   ]
  },
  {
   "cell_type": "markdown",
   "metadata": {},
   "source": [
    "### Understanding the Data"
   ]
  },
  {
   "cell_type": "code",
   "execution_count": 167,
   "metadata": {},
   "outputs": [
    {
     "name": "stdout",
     "output_type": "stream",
     "text": [
      "<class 'pandas.core.frame.DataFrame'>\n",
      "RangeIndex: 18175 entries, 0 to 18174\n",
      "Columns: 136 entries, Age to YouTubeTheNewBoston\n",
      "dtypes: float64(105), object(31)\n",
      "memory usage: 18.9+ MB\n"
     ]
    }
   ],
   "source": [
    "survey.info()"
   ]
  },
  {
   "cell_type": "code",
   "execution_count": 168,
   "metadata": {},
   "outputs": [
    {
     "data": {
      "text/html": [
       "<div>\n",
       "<style scoped>\n",
       "    .dataframe tbody tr th:only-of-type {\n",
       "        vertical-align: middle;\n",
       "    }\n",
       "\n",
       "    .dataframe tbody tr th {\n",
       "        vertical-align: top;\n",
       "    }\n",
       "\n",
       "    .dataframe thead th {\n",
       "        text-align: right;\n",
       "    }\n",
       "</style>\n",
       "<table border=\"1\" class=\"dataframe\">\n",
       "  <thead>\n",
       "    <tr style=\"text-align: right;\">\n",
       "      <th></th>\n",
       "      <th>Age</th>\n",
       "      <th>AttendedBootcamp</th>\n",
       "      <th>BootcampFinish</th>\n",
       "      <th>BootcampLoanYesNo</th>\n",
       "      <th>BootcampName</th>\n",
       "      <th>BootcampRecommend</th>\n",
       "      <th>ChildrenNumber</th>\n",
       "      <th>CityPopulation</th>\n",
       "      <th>CodeEventConferences</th>\n",
       "      <th>CodeEventDjangoGirls</th>\n",
       "      <th>...</th>\n",
       "      <th>YouTubeFCC</th>\n",
       "      <th>YouTubeFunFunFunction</th>\n",
       "      <th>YouTubeGoogleDev</th>\n",
       "      <th>YouTubeLearnCode</th>\n",
       "      <th>YouTubeLevelUpTuts</th>\n",
       "      <th>YouTubeMIT</th>\n",
       "      <th>YouTubeMozillaHacks</th>\n",
       "      <th>YouTubeOther</th>\n",
       "      <th>YouTubeSimplilearn</th>\n",
       "      <th>YouTubeTheNewBoston</th>\n",
       "    </tr>\n",
       "  </thead>\n",
       "  <tbody>\n",
       "    <tr>\n",
       "      <th>0</th>\n",
       "      <td>27.0</td>\n",
       "      <td>0.0</td>\n",
       "      <td>NaN</td>\n",
       "      <td>NaN</td>\n",
       "      <td>NaN</td>\n",
       "      <td>NaN</td>\n",
       "      <td>NaN</td>\n",
       "      <td>more than 1 million</td>\n",
       "      <td>NaN</td>\n",
       "      <td>NaN</td>\n",
       "      <td>...</td>\n",
       "      <td>NaN</td>\n",
       "      <td>NaN</td>\n",
       "      <td>NaN</td>\n",
       "      <td>NaN</td>\n",
       "      <td>NaN</td>\n",
       "      <td>NaN</td>\n",
       "      <td>NaN</td>\n",
       "      <td>NaN</td>\n",
       "      <td>NaN</td>\n",
       "      <td>NaN</td>\n",
       "    </tr>\n",
       "    <tr>\n",
       "      <th>1</th>\n",
       "      <td>34.0</td>\n",
       "      <td>0.0</td>\n",
       "      <td>NaN</td>\n",
       "      <td>NaN</td>\n",
       "      <td>NaN</td>\n",
       "      <td>NaN</td>\n",
       "      <td>NaN</td>\n",
       "      <td>less than 100,000</td>\n",
       "      <td>NaN</td>\n",
       "      <td>NaN</td>\n",
       "      <td>...</td>\n",
       "      <td>1.0</td>\n",
       "      <td>NaN</td>\n",
       "      <td>NaN</td>\n",
       "      <td>NaN</td>\n",
       "      <td>NaN</td>\n",
       "      <td>NaN</td>\n",
       "      <td>NaN</td>\n",
       "      <td>NaN</td>\n",
       "      <td>NaN</td>\n",
       "      <td>NaN</td>\n",
       "    </tr>\n",
       "    <tr>\n",
       "      <th>2</th>\n",
       "      <td>21.0</td>\n",
       "      <td>0.0</td>\n",
       "      <td>NaN</td>\n",
       "      <td>NaN</td>\n",
       "      <td>NaN</td>\n",
       "      <td>NaN</td>\n",
       "      <td>NaN</td>\n",
       "      <td>more than 1 million</td>\n",
       "      <td>NaN</td>\n",
       "      <td>NaN</td>\n",
       "      <td>...</td>\n",
       "      <td>NaN</td>\n",
       "      <td>NaN</td>\n",
       "      <td>NaN</td>\n",
       "      <td>1.0</td>\n",
       "      <td>1.0</td>\n",
       "      <td>NaN</td>\n",
       "      <td>NaN</td>\n",
       "      <td>NaN</td>\n",
       "      <td>NaN</td>\n",
       "      <td>NaN</td>\n",
       "    </tr>\n",
       "    <tr>\n",
       "      <th>3</th>\n",
       "      <td>26.0</td>\n",
       "      <td>0.0</td>\n",
       "      <td>NaN</td>\n",
       "      <td>NaN</td>\n",
       "      <td>NaN</td>\n",
       "      <td>NaN</td>\n",
       "      <td>NaN</td>\n",
       "      <td>between 100,000 and 1 million</td>\n",
       "      <td>NaN</td>\n",
       "      <td>NaN</td>\n",
       "      <td>...</td>\n",
       "      <td>1.0</td>\n",
       "      <td>1.0</td>\n",
       "      <td>NaN</td>\n",
       "      <td>NaN</td>\n",
       "      <td>1.0</td>\n",
       "      <td>NaN</td>\n",
       "      <td>NaN</td>\n",
       "      <td>NaN</td>\n",
       "      <td>NaN</td>\n",
       "      <td>NaN</td>\n",
       "    </tr>\n",
       "    <tr>\n",
       "      <th>4</th>\n",
       "      <td>20.0</td>\n",
       "      <td>0.0</td>\n",
       "      <td>NaN</td>\n",
       "      <td>NaN</td>\n",
       "      <td>NaN</td>\n",
       "      <td>NaN</td>\n",
       "      <td>NaN</td>\n",
       "      <td>between 100,000 and 1 million</td>\n",
       "      <td>NaN</td>\n",
       "      <td>NaN</td>\n",
       "      <td>...</td>\n",
       "      <td>NaN</td>\n",
       "      <td>NaN</td>\n",
       "      <td>NaN</td>\n",
       "      <td>NaN</td>\n",
       "      <td>NaN</td>\n",
       "      <td>NaN</td>\n",
       "      <td>NaN</td>\n",
       "      <td>NaN</td>\n",
       "      <td>NaN</td>\n",
       "      <td>NaN</td>\n",
       "    </tr>\n",
       "  </tbody>\n",
       "</table>\n",
       "<p>5 rows × 136 columns</p>\n",
       "</div>"
      ],
      "text/plain": [
       "    Age  AttendedBootcamp  BootcampFinish  BootcampLoanYesNo BootcampName  \\\n",
       "0  27.0               0.0             NaN                NaN          NaN   \n",
       "1  34.0               0.0             NaN                NaN          NaN   \n",
       "2  21.0               0.0             NaN                NaN          NaN   \n",
       "3  26.0               0.0             NaN                NaN          NaN   \n",
       "4  20.0               0.0             NaN                NaN          NaN   \n",
       "\n",
       "   BootcampRecommend  ChildrenNumber                 CityPopulation  \\\n",
       "0                NaN             NaN            more than 1 million   \n",
       "1                NaN             NaN              less than 100,000   \n",
       "2                NaN             NaN            more than 1 million   \n",
       "3                NaN             NaN  between 100,000 and 1 million   \n",
       "4                NaN             NaN  between 100,000 and 1 million   \n",
       "\n",
       "   CodeEventConferences  CodeEventDjangoGirls  ...  YouTubeFCC  \\\n",
       "0                   NaN                   NaN  ...         NaN   \n",
       "1                   NaN                   NaN  ...         1.0   \n",
       "2                   NaN                   NaN  ...         NaN   \n",
       "3                   NaN                   NaN  ...         1.0   \n",
       "4                   NaN                   NaN  ...         NaN   \n",
       "\n",
       "   YouTubeFunFunFunction  YouTubeGoogleDev  YouTubeLearnCode  \\\n",
       "0                    NaN               NaN               NaN   \n",
       "1                    NaN               NaN               NaN   \n",
       "2                    NaN               NaN               1.0   \n",
       "3                    1.0               NaN               NaN   \n",
       "4                    NaN               NaN               NaN   \n",
       "\n",
       "   YouTubeLevelUpTuts  YouTubeMIT  YouTubeMozillaHacks YouTubeOther  \\\n",
       "0                 NaN         NaN                  NaN          NaN   \n",
       "1                 NaN         NaN                  NaN          NaN   \n",
       "2                 1.0         NaN                  NaN          NaN   \n",
       "3                 1.0         NaN                  NaN          NaN   \n",
       "4                 NaN         NaN                  NaN          NaN   \n",
       "\n",
       "   YouTubeSimplilearn  YouTubeTheNewBoston  \n",
       "0                 NaN                  NaN  \n",
       "1                 NaN                  NaN  \n",
       "2                 NaN                  NaN  \n",
       "3                 NaN                  NaN  \n",
       "4                 NaN                  NaN  \n",
       "\n",
       "[5 rows x 136 columns]"
      ]
     },
     "execution_count": 168,
     "metadata": {},
     "output_type": "execute_result"
    }
   ],
   "source": [
    "survey.head()"
   ]
  },
  {
   "cell_type": "code",
   "execution_count": 169,
   "metadata": {},
   "outputs": [
    {
     "data": {
      "text/plain": [
       "Index(['Age', 'AttendedBootcamp', 'BootcampFinish', 'BootcampLoanYesNo',\n",
       "       'BootcampName', 'BootcampRecommend', 'ChildrenNumber', 'CityPopulation',\n",
       "       'CodeEventConferences', 'CodeEventDjangoGirls', 'CodeEventFCC',\n",
       "       'CodeEventGameJam', 'CodeEventGirlDev', 'CodeEventHackathons',\n",
       "       'CodeEventMeetup', 'CodeEventNodeSchool', 'CodeEventNone',\n",
       "       'CodeEventOther', 'CodeEventRailsBridge', 'CodeEventRailsGirls',\n",
       "       'CodeEventStartUpWknd', 'CodeEventWkdBootcamps', 'CodeEventWomenCode',\n",
       "       'CodeEventWorkshops', 'CommuteTime', 'CountryCitizen', 'CountryLive',\n",
       "       'EmploymentField', 'EmploymentFieldOther', 'EmploymentStatus',\n",
       "       'EmploymentStatusOther', 'ExpectedEarning', 'FinanciallySupporting',\n",
       "       'FirstDevJob', 'Gender', 'GenderOther', 'HasChildren', 'HasDebt',\n",
       "       'HasFinancialDependents', 'HasHighSpdInternet'],\n",
       "      dtype='object')"
      ]
     },
     "execution_count": 169,
     "metadata": {},
     "output_type": "execute_result"
    }
   ],
   "source": [
    "survey.columns[0:40]"
   ]
  },
  {
   "cell_type": "code",
   "execution_count": 170,
   "metadata": {},
   "outputs": [
    {
     "data": {
      "text/plain": [
       "Index(['HasHomeMortgage', 'HasServedInMilitary', 'HasStudentDebt',\n",
       "       'HomeMortgageOwe', 'HoursLearning', 'ID.x', 'ID.y', 'Income',\n",
       "       'IsEthnicMinority', 'IsReceiveDisabilitiesBenefits', 'IsSoftwareDev',\n",
       "       'IsUnderEmployed', 'JobApplyWhen', 'JobInterestBackEnd',\n",
       "       'JobInterestDataEngr', 'JobInterestDataSci', 'JobInterestDevOps',\n",
       "       'JobInterestFrontEnd', 'JobInterestFullStack', 'JobInterestGameDev',\n",
       "       'JobInterestInfoSec', 'JobInterestMobile', 'JobInterestOther',\n",
       "       'JobInterestProjMngr', 'JobInterestQAEngr', 'JobInterestUX', 'JobPref',\n",
       "       'JobRelocateYesNo', 'JobRoleInterest', 'JobWherePref', 'LanguageAtHome',\n",
       "       'MaritalStatus', 'MoneyForLearning', 'MonthsProgramming', 'NetworkID',\n",
       "       'Part1EndTime', 'Part1StartTime', 'Part2EndTime', 'Part2StartTime',\n",
       "       'PodcastChangeLog'],\n",
       "      dtype='object')"
      ]
     },
     "execution_count": 170,
     "metadata": {},
     "output_type": "execute_result"
    }
   ],
   "source": [
    "survey.columns[40:80]"
   ]
  },
  {
   "cell_type": "code",
   "execution_count": 171,
   "metadata": {},
   "outputs": [
    {
     "data": {
      "text/plain": [
       "Index(['PodcastCodeNewbie', 'PodcastCodePen', 'PodcastDevTea', 'PodcastDotNET',\n",
       "       'PodcastGiantRobots', 'PodcastJSAir', 'PodcastJSJabber', 'PodcastNone',\n",
       "       'PodcastOther', 'PodcastProgThrowdown', 'PodcastRubyRogues',\n",
       "       'PodcastSEDaily', 'PodcastSERadio', 'PodcastShopTalk',\n",
       "       'PodcastTalkPython', 'PodcastTheWebAhead', 'ResourceCodecademy',\n",
       "       'ResourceCodeWars', 'ResourceCoursera', 'ResourceCSS', 'ResourceEdX',\n",
       "       'ResourceEgghead', 'ResourceFCC', 'ResourceHackerRank', 'ResourceKA',\n",
       "       'ResourceLynda', 'ResourceMDN', 'ResourceOdinProj', 'ResourceOther',\n",
       "       'ResourcePluralSight', 'ResourceSkillcrush', 'ResourceSO',\n",
       "       'ResourceTreehouse', 'ResourceUdacity', 'ResourceUdemy', 'ResourceW3S',\n",
       "       'SchoolDegree', 'SchoolMajor', 'StudentDebtOwe', 'YouTubeCodeCourse',\n",
       "       'YouTubeCodingTrain', 'YouTubeCodingTut360', 'YouTubeComputerphile',\n",
       "       'YouTubeDerekBanas', 'YouTubeDevTips', 'YouTubeEngineeredTruth',\n",
       "       'YouTubeFCC', 'YouTubeFunFunFunction', 'YouTubeGoogleDev',\n",
       "       'YouTubeLearnCode', 'YouTubeLevelUpTuts', 'YouTubeMIT',\n",
       "       'YouTubeMozillaHacks', 'YouTubeOther', 'YouTubeSimplilearn',\n",
       "       'YouTubeTheNewBoston'],\n",
       "      dtype='object')"
      ]
     },
     "execution_count": 171,
     "metadata": {},
     "output_type": "execute_result"
    }
   ],
   "source": [
    "survey.columns[80:]"
   ]
  },
  {
   "cell_type": "markdown",
   "metadata": {},
   "source": [
    "There is no clear documentation about the various columns, but the name of the columns are quite explanatory. <br>\n",
    "Some questions are about personal data, like gender, age, civil status, number of children and expectactions about future jobs, while many others are about the bootcamps  and other events about programming attended by the respondents."
   ]
  },
  {
   "cell_type": "code",
   "execution_count": 172,
   "metadata": {},
   "outputs": [
    {
     "data": {
      "image/png": "[encoded data removed]",
      "text/plain": [
       "<Figure size 432x288 with 1 Axes>"
      ]
     },
     "metadata": {
      "needs_background": "light"
     },
     "output_type": "display_data"
    }
   ],
   "source": [
    "survey[\"Age\"].hist();"
   ]
  },
  {
   "cell_type": "code",
   "execution_count": 173,
   "metadata": {},
   "outputs": [
    {
     "data": {
      "image/png": "[encoded data removed]",
      "text/plain": [
       "<Figure size 432x288 with 1 Axes>"
      ]
     },
     "metadata": {
      "needs_background": "light"
     },
     "output_type": "display_data"
    }
   ],
   "source": [
    "(survey[\"Gender\"].value_counts(normalize=True)* 100).plot.bar(rot=70);\n",
    "plt.title(\"Gender of FreeCodeCamp 2017 Survey Repondents\");\n",
    "plt.xticks()\n",
    "plt.ylabel(\"Percentage of Respondents\")\n",
    "plt.xlabel(\"Gender\")\n",
    "plt.show()"
   ]
  },
  {
   "cell_type": "code",
   "execution_count": 174,
   "metadata": {},
   "outputs": [
    {
     "data": {
      "text/plain": [
       "male           79.875760\n",
       "female         18.965964\n",
       "genderqueer     0.465899\n",
       "trans           0.452957\n",
       "agender         0.239420\n",
       "Name: Gender, dtype: float64"
      ]
     },
     "execution_count": 174,
     "metadata": {},
     "output_type": "execute_result"
    }
   ],
   "source": [
    "survey[\"Gender\"].value_counts(normalize=True) * 100"
   ]
  },
  {
   "cell_type": "markdown",
   "metadata": {},
   "source": [
    "At first glance it seems the respondents are mostly males (nearly 80%) in their twenties and thirties."
   ]
  },
  {
   "cell_type": "markdown",
   "metadata": {},
   "source": [
    "### Checking for Sample Representativity"
   ]
  },
  {
   "cell_type": "code",
   "execution_count": 175,
   "metadata": {},
   "outputs": [],
   "source": [
    "roles = (survey[\"JobRoleInterest\"].value_counts(normalize=True) * 100).sort_values(ascending=False)"
   ]
  },
  {
   "cell_type": "code",
   "execution_count": 176,
   "metadata": {},
   "outputs": [
    {
     "data": {
      "text/plain": [
       "Full-Stack Web Developer                                                                                                                                                                                            11.770595\n",
       "  Front-End Web Developer                                                                                                                                                                                            6.435927\n",
       "  Data Scientist                                                                                                                                                                                                     2.173913\n",
       "Back-End Web Developer                                                                                                                                                                                               2.030892\n",
       "  Mobile Developer                                                                                                                                                                                                   1.673341\n",
       "                                                                                                                                                                                                                      ...    \n",
       "Back-End Web Developer,   Mobile Developer, Data Engineer, Full-Stack Web Developer,   Data Scientist, Information Security,   DevOps / SysAdmin                                                                     0.014302\n",
       "Back-End Web Developer,   Product Manager,   Mobile Developer                                                                                                                                                        0.014302\n",
       "  User Experience Designer, Data Engineer,   Quality Assurance Engineer, Back-End Web Developer,   Mobile Developer, Full-Stack Web Developer,   Front-End Web Developer,   DevOps / SysAdmin,   Product Manager     0.014302\n",
       "Back-End Web Developer, Full-Stack Web Developer,   Product Manager,   Front-End Web Developer,   User Experience Designer                                                                                           0.014302\n",
       "Full-Stack Web Developer, Game Developer,   Front-End Web Developer,   Mobile Developer, Back-End Web Developer                                                                                                      0.014302\n",
       "Name: JobRoleInterest, Length: 3213, dtype: float64"
      ]
     },
     "execution_count": 176,
     "metadata": {},
     "output_type": "execute_result"
    }
   ],
   "source": [
    "roles"
   ]
  },
  {
   "cell_type": "code",
   "execution_count": 177,
   "metadata": {},
   "outputs": [
    {
     "data": {
      "text/plain": [
       "Full-Stack Web Developer     11.770595\n",
       "  Front-End Web Developer     6.435927\n",
       "  Data Scientist              2.173913\n",
       "Back-End Web Developer        2.030892\n",
       "  Mobile Developer            1.673341\n",
       "Game Developer                1.630435\n",
       "Information Security          1.315789\n",
       "Name: JobRoleInterest, dtype: float64"
      ]
     },
     "execution_count": 177,
     "metadata": {},
     "output_type": "execute_result"
    }
   ],
   "source": [
    "roles[0:7]"
   ]
  },
  {
   "cell_type": "code",
   "execution_count": 178,
   "metadata": {},
   "outputs": [
    {
     "data": {
      "text/plain": [
       "27.03089244851258"
      ]
     },
     "execution_count": 178,
     "metadata": {},
     "output_type": "execute_result"
    }
   ],
   "source": [
    "roles[0:7].sum()"
   ]
  },
  {
   "cell_type": "code",
   "execution_count": 179,
   "metadata": {},
   "outputs": [
    {
     "data": {
      "text/plain": [
       "72.96910755148741"
      ]
     },
     "execution_count": 179,
     "metadata": {},
     "output_type": "execute_result"
    }
   ],
   "source": [
    "roles[7:].sum()"
   ]
  },
  {
   "cell_type": "code",
   "execution_count": 180,
   "metadata": {},
   "outputs": [
    {
     "data": {
      "text/plain": [
       "Full-Stack Web Developer,   Front-End Web Developer    0.915332\n",
       "  Front-End Web Developer, Full-Stack Web Developer    0.800915\n",
       "  Product Manager                                      0.786613\n",
       "Name: JobRoleInterest, dtype: float64"
      ]
     },
     "execution_count": 180,
     "metadata": {},
     "output_type": "execute_result"
    }
   ],
   "source": [
    "roles[7: 10]"
   ]
  },
  {
   "cell_type": "markdown",
   "metadata": {},
   "source": [
    "The first seven most chosen roles are focused on a single role, but in total they account only for the 27% of the respondents. <br>\n",
    "A vast majority or respondents are interested in more than one role, like being a Full-Stack Web Developer and a Front-End Web developer.\n",
    "Some answers seem similar, but they invert the order or the roles: probably the first role cited is the main one desidered."
   ]
  },
  {
   "cell_type": "code",
   "execution_count": 181,
   "metadata": {},
   "outputs": [],
   "source": [
    "total_roles = list(survey[\"JobRoleInterest\"].value_counts().index)"
   ]
  },
  {
   "cell_type": "code",
   "execution_count": 182,
   "metadata": {},
   "outputs": [],
   "source": [
    " roles = survey[\"JobRoleInterest\"].value_counts().index"
   ]
  },
  {
   "cell_type": "code",
   "execution_count": 183,
   "metadata": {},
   "outputs": [],
   "source": [
    "unique_roles = set()\n",
    "for item in roles:\n",
    "    all_roles = item.split(\",\")\n",
    "    for job in all_roles:\n",
    "        unique_roles.add(job.strip())"
   ]
  },
  {
   "cell_type": "code",
   "execution_count": 184,
   "metadata": {},
   "outputs": [
    {
     "data": {
      "text/plain": [
       "{'AI',\n",
       " 'AI Developer',\n",
       " 'AI Engineer',\n",
       " 'AI and Machine Learning',\n",
       " 'AI and neuroscience',\n",
       " 'All - whatever is required to develop tools to revolutionize the mechanical engineering process',\n",
       " 'Analyst',\n",
       " 'Any of them.',\n",
       " 'Anything that engages me',\n",
       " 'Application Support Analyst',\n",
       " 'Artificial Intelligence',\n",
       " 'Artificial Intelligence Engineer',\n",
       " 'Artificial Intelligence engineer',\n",
       " 'Artificial intelligence',\n",
       " 'Astrophysicist',\n",
       " 'BA or developer',\n",
       " 'Back-End Web Developer',\n",
       " 'Bioinformatics',\n",
       " 'Bioinformatics/science',\n",
       " 'Bioinformatitian',\n",
       " 'Bitcoin/Crypto',\n",
       " 'Business Analyst',\n",
       " 'Campaign Manager',\n",
       " 'Ceo',\n",
       " 'Cloud computing',\n",
       " 'College professor',\n",
       " 'Compilers',\n",
       " 'Computer Architect',\n",
       " 'Criminal Defense Attorney-- focusing on cyber crimes',\n",
       " 'Cybersecurity',\n",
       " 'Data Analyst',\n",
       " 'Data Engineer',\n",
       " 'Data Reporter',\n",
       " 'Data Scientist',\n",
       " 'Data Visualization Specialist',\n",
       " 'Data analyst',\n",
       " 'Data visualisation',\n",
       " 'Data/Interactive Journalist',\n",
       " 'Databases',\n",
       " 'Desings',\n",
       " 'Desktop Application Developer',\n",
       " 'Desktop Applications',\n",
       " 'Desktop Applications Programmer',\n",
       " 'Desktop applications developer',\n",
       " 'DevOps / SysAdmin',\n",
       " 'Developer Evangelist',\n",
       " 'Digital Humanitites',\n",
       " 'Document Controller',\n",
       " \"Don't know yet\",\n",
       " 'Education',\n",
       " 'Embedded Developer',\n",
       " 'Embedded hardware',\n",
       " 'Entrepreneur',\n",
       " 'Entreprenuer / Web Dev Hustler',\n",
       " 'Ethical Hacker',\n",
       " 'Financial Services',\n",
       " 'Founder',\n",
       " 'Front End Web Development',\n",
       " 'Front end',\n",
       " 'Front-End Web Designer',\n",
       " 'Front-End Web Developer',\n",
       " 'Full Stack Developer',\n",
       " 'Full Stack Software Engineer',\n",
       " 'Full-Stack Web Developer',\n",
       " 'GIS Database Admin',\n",
       " 'GIS Developer',\n",
       " 'Game Developer',\n",
       " 'Growth Hacker',\n",
       " 'I am interested in Game Development',\n",
       " \"I don't know yet!\",\n",
       " 'I dont yet know',\n",
       " \"I'm just learning code to increase my skill-set. I see it as a literacy issue.\",\n",
       " 'IT specialist',\n",
       " 'Informatician',\n",
       " 'Information Architect',\n",
       " 'Information Developer',\n",
       " 'Information Security',\n",
       " 'Information Technology',\n",
       " 'Infrastructure Architect',\n",
       " 'IoT',\n",
       " 'IoT Developer',\n",
       " 'Java developer',\n",
       " 'Journalist',\n",
       " 'Journalist/Graphic Designer/Marketing',\n",
       " 'Library Developer',\n",
       " 'Machine Learning',\n",
       " 'Machine Learning Engineer',\n",
       " 'Machine learning and AI',\n",
       " 'Machine learning engineer',\n",
       " 'Marketing',\n",
       " 'Marketing Automation',\n",
       " 'Mobile Developer',\n",
       " 'Mobile Development',\n",
       " 'Natural Language Processing',\n",
       " 'Network',\n",
       " 'Network Engineer',\n",
       " 'Networking',\n",
       " 'Non technical',\n",
       " 'Not Sure',\n",
       " 'Not Sure Yet',\n",
       " 'Not sure',\n",
       " 'Not sure yet',\n",
       " 'Not sure!',\n",
       " 'Operating Systems',\n",
       " 'Pharmaceutical industry',\n",
       " 'Pharmacy tech',\n",
       " 'Physicist',\n",
       " 'Product Designer',\n",
       " 'Product Manager',\n",
       " 'Program Manager',\n",
       " 'Programmer',\n",
       " 'Programming',\n",
       " 'Project Management',\n",
       " 'Project Manager',\n",
       " 'Project manager',\n",
       " 'Python Developer',\n",
       " 'Quality Assurance Engineer',\n",
       " 'Quant (Algorithmic Trader)',\n",
       " 'Real-time systems',\n",
       " 'Remote Support',\n",
       " 'Research',\n",
       " 'Research and education',\n",
       " 'Researcher',\n",
       " 'Robotics',\n",
       " 'Robotics Process Automation Specialist',\n",
       " 'Robotics and AI Engineer',\n",
       " 'SEO',\n",
       " 'SWE',\n",
       " 'Scientific Programming',\n",
       " 'Security Business Analyst',\n",
       " 'Software Developer',\n",
       " 'Software Developer or Front-End Web Developer',\n",
       " 'Software Development',\n",
       " 'Software Developper',\n",
       " 'Software Engineer',\n",
       " 'Software Engineer (Computer Science Based)',\n",
       " 'Software Engineering',\n",
       " 'Software Engineers',\n",
       " 'Software Projects Manager',\n",
       " 'Software Specialist',\n",
       " 'Software developer',\n",
       " 'Software engineer',\n",
       " 'Software enginner',\n",
       " 'Support Engineer or API Support',\n",
       " 'System Administrator/Network',\n",
       " 'System Engineer',\n",
       " 'System Software',\n",
       " 'Systems Engineer',\n",
       " 'Systems Programmer',\n",
       " 'Systems Programming',\n",
       " 'Teacher',\n",
       " 'Teacher. Teaching students to code.',\n",
       " 'Tech art',\n",
       " 'Tech lobbiest',\n",
       " 'Technical Writer',\n",
       " 'Technology Management',\n",
       " 'Technology-Business Liaison',\n",
       " \"This futurist's dream of using some tech in a way that inspires critical amounts of people to influence the changes we need to protect\",\n",
       " 'UI Design',\n",
       " 'UI Designer',\n",
       " 'UX developer/designer',\n",
       " 'Unsure',\n",
       " 'Urban Planner',\n",
       " 'User Experience Designer',\n",
       " 'User Interface Design',\n",
       " 'User Interface Designer',\n",
       " 'VR Technology developer',\n",
       " 'Web Design',\n",
       " 'Web Designer',\n",
       " 'Web developer',\n",
       " 'Web development',\n",
       " 'a job in which I can use coding skills to create valuable portals to advance human rights',\n",
       " 'app dev etc.',\n",
       " 'back end',\n",
       " 'back-end',\n",
       " 'code developer...in whatever format',\n",
       " 'computer engineer',\n",
       " 'creative coder / generative artist/designer',\n",
       " 'data analyst',\n",
       " 'data journalist / data visualist',\n",
       " 'designer',\n",
       " 'developer',\n",
       " 'email coder',\n",
       " 'etc...',\n",
       " 'front-end',\n",
       " 'full stack developer',\n",
       " 'full-stack developer',\n",
       " 'game',\n",
       " \"i don't know what the difference is between most of these soz lol\",\n",
       " 'i dunno!!!!',\n",
       " 'idk',\n",
       " 'improving in my current career as a Learning technologist',\n",
       " 'lab scientist',\n",
       " 'milatary engineer',\n",
       " 'mobile developer',\n",
       " 'network admin',\n",
       " 'non-programmer',\n",
       " 'philosopher',\n",
       " 'plc',\n",
       " 'programmer',\n",
       " 'security expert',\n",
       " 'software developer',\n",
       " 'software engineer',\n",
       " 'support scientific resaerch',\n",
       " 'undeceided',\n",
       " 'undecided',\n",
       " 'virtual reality developer',\n",
       " 'web'}"
      ]
     },
     "execution_count": 184,
     "metadata": {},
     "output_type": "execute_result"
    }
   ],
   "source": [
    "unique_roles"
   ]
  },
  {
   "cell_type": "code",
   "execution_count": 185,
   "metadata": {},
   "outputs": [
    {
     "data": {
      "text/plain": [
       "208"
      ]
     },
     "execution_count": 185,
     "metadata": {},
     "output_type": "execute_result"
    }
   ],
   "source": [
    "len(unique_roles)"
   ]
  },
  {
   "cell_type": "markdown",
   "metadata": {},
   "source": [
    "### Interest in Web and Mobile Development"
   ]
  },
  {
   "cell_type": "markdown",
   "metadata": {},
   "source": [
    "Looking at the unique answers to the job role, it is clear the respondents could give a free answer with their own choice of words, so we have \"Fron-End\", \"Front-End Web Developer\" which mean fundamentally the same.  <br>\n",
    "There are long answers tha are sentences and not just a list of roles. <br>\n",
    "\n",
    "The Newt company offers course in web and mobile development, so we can still check how many respondents were interested in these roles. <br>\n",
    "We can also check how many respondents are interested in more than one role."
   ]
  },
  {
   "cell_type": "code",
   "execution_count": 186,
   "metadata": {},
   "outputs": [
    {
     "data": {
      "text/plain": [
       "6992"
      ]
     },
     "execution_count": 186,
     "metadata": {},
     "output_type": "execute_result"
    }
   ],
   "source": [
    "role_respondents = survey[\"JobRoleInterest\"].dropna()\n",
    "role_respondents = role_respondents.str.lower()\n",
    "role_respondents.shape[0]"
   ]
  },
  {
   "cell_type": "code",
   "execution_count": 187,
   "metadata": {
    "scrolled": true
   },
   "outputs": [
    {
     "data": {
      "text/plain": [
       "2305"
      ]
     },
     "execution_count": 187,
     "metadata": {},
     "output_type": "execute_result"
    }
   ],
   "source": [
    "mobile_interested = role_respondents.str.contains(\"mobile\").sum()\n",
    "mobile_interested"
   ]
  },
  {
   "cell_type": "code",
   "execution_count": 188,
   "metadata": {},
   "outputs": [],
   "source": [
    "web_interested = role_respondents.str.contains(\"web|front end|back end|front-end|back-end\").sum()"
   ]
  },
  {
   "cell_type": "code",
   "execution_count": 189,
   "metadata": {},
   "outputs": [
    {
     "data": {
      "text/plain": [
       "5782"
      ]
     },
     "execution_count": 189,
     "metadata": {},
     "output_type": "execute_result"
    }
   ],
   "source": [
    "web_interested"
   ]
  },
  {
   "cell_type": "code",
   "execution_count": 190,
   "metadata": {},
   "outputs": [
    {
     "data": {
      "text/plain": [
       "82.69450800915332"
      ]
     },
     "execution_count": 190,
     "metadata": {},
     "output_type": "execute_result"
    }
   ],
   "source": [
    "web_perc = (web_interested / role_respondents.shape[0]) * 100\n",
    "web_perc"
   ]
  },
  {
   "cell_type": "code",
   "execution_count": 191,
   "metadata": {},
   "outputs": [
    {
     "data": {
      "text/plain": [
       "32.9662471395881"
      ]
     },
     "execution_count": 191,
     "metadata": {},
     "output_type": "execute_result"
    }
   ],
   "source": [
    "mobile_perc =(mobile_interested/role_respondents.shape[0]) * 100\n",
    "mobile_perc"
   ]
  },
  {
   "cell_type": "code",
   "execution_count": 192,
   "metadata": {},
   "outputs": [
    {
     "data": {
      "image/png": "[encoded data removed]",
      "text/plain": [
       "<Figure size 432x288 with 1 Axes>"
      ]
     },
     "metadata": {
      "needs_background": "light"
     },
     "output_type": "display_data"
    }
   ],
   "source": [
    "interests = [web_perc, mobile_perc]\n",
    "interest_pos = [1, 2]\n",
    "labels=[\"Web\", \"Mobile\"]\n",
    "plt.bar(interest_pos, interests, align=\"center\", color=[\"hotpink\", \"steelblue\"],\n",
    "        tick_label=labels)\n",
    "plt.title(\"Interest in Web and Mobile Development\")\n",
    "plt.ylabel(\"Percentage\")\n",
    "plt.show()"
   ]
  },
  {
   "cell_type": "markdown",
   "metadata": {},
   "source": [
    "Nearly 83% of respondents are interested in web development and about 33% are interested in mobile development. The two percentages sum up to more than 100% because the respondents could give more than one answer. <br>\n",
    "FreeCodeCamp is mostly oriented to web-development, so it the preponderant interest in this field is as expected."
   ]
  },
  {
   "cell_type": "markdown",
   "metadata": {},
   "source": [
    "### Interest in More Than One Field"
   ]
  },
  {
   "cell_type": "markdown",
   "metadata": {},
   "source": [
    "The Newt company is interested in offering courses in more than one field, so it could be interesting to know how many respondents indicated more than one possible field of interest. The percentage are only indicative, because I'll calculate the result based on the number of commas in the answer. The respondants were not tied to a form, they could answer with their own words and looking at data they mostly used a series of words separated by commas. \n",
    "However, some answer indicating more than one field don't contain commas, and some answers are more sentences about the respondant interests rather than a precise list of fields, so the results showed below are more a trend than a precise measure of the number interests of the respondants."
   ]
  },
  {
   "cell_type": "code",
   "execution_count": 193,
   "metadata": {},
   "outputs": [],
   "source": [
    "def number_of_roles(answer):\n",
    "    roles = answer.split(\",\")\n",
    "    return len(roles)"
   ]
  },
  {
   "cell_type": "code",
   "execution_count": 194,
   "metadata": {},
   "outputs": [
    {
     "data": {
      "text/plain": [
       "1     31.650458\n",
       "3     15.889588\n",
       "4     15.217391\n",
       "5     12.042334\n",
       "2     10.883867\n",
       "6      6.721968\n",
       "7      3.861556\n",
       "8      1.759153\n",
       "9      0.986842\n",
       "10     0.471968\n",
       "12     0.300343\n",
       "11     0.185927\n",
       "13     0.028604\n",
       "Name: JobRoleInterest, dtype: float64"
      ]
     },
     "execution_count": 194,
     "metadata": {},
     "output_type": "execute_result"
    }
   ],
   "source": [
    "total_respondents = role_respondents.shape[0]\n",
    "role_counts =role_respondents.apply(number_of_roles)\\\n",
    ".value_counts(normalize=True) * 100\n",
    "role_counts"
   ]
  },
  {
   "cell_type": "code",
   "execution_count": 195,
   "metadata": {},
   "outputs": [],
   "source": [
    "one_role = role_counts[1]\n",
    "two_roles = role_counts[2]\n",
    "three_roles = role_counts[3]\n",
    "four_roles  = role_counts[4]\n",
    "five_or_more = 100 - (one_role + two_roles + three_roles + four_roles)"
   ]
  },
  {
   "cell_type": "code",
   "execution_count": 196,
   "metadata": {},
   "outputs": [],
   "source": [
    "role_labels = [\"one\", \"two\", \"three\", \"four\", \"five or more\"]"
   ]
  },
  {
   "cell_type": "code",
   "execution_count": 197,
   "metadata": {},
   "outputs": [],
   "source": [
    "role_percentages = [one_role, two_roles, \n",
    "                    three_roles, four_roles, five_or_more]\n",
    "role_pos = np.arange(len(role_labels)) + 1"
   ]
  },
  {
   "cell_type": "code",
   "execution_count": 198,
   "metadata": {},
   "outputs": [
    {
     "data": {
      "image/png": "[encoded data removed]",
      "text/plain": [
       "<Figure size 720x504 with 1 Axes>"
      ]
     },
     "metadata": {
      "needs_background": "light"
     },
     "output_type": "display_data"
    }
   ],
   "source": [
    "plt.figure(figsize=(10, 7))\n",
    "plt.bar(role_pos, role_percentages,align=\"center\", \n",
    "        tick_label=role_labels,color=[\"steelblue\", \"hotpink\"])\n",
    "plt.title(\"Number of Fields FreeCodeCamp Respondents are Interested In\",\n",
    "         fontsize=14, y=1.04)\n",
    "plt.ylabel(\"Percentage\", fontsize=12)\n",
    "plt.xlabel(\"Number of Subject of Interests\", fontsize=12);"
   ]
  },
  {
   "cell_type": "markdown",
   "metadata": {},
   "source": [
    "A considerable group of respondents are interested in just one subject (32%), but on the other end the rest of the respondent are interested in more than one subject: two (11%), three(16%), four(14%) and even more. <br>\n",
    "FreeCodeCamp is a website for beginners, having more than one interest can be both a sign of curiosity about new arguments and of indecision about a clear path to follow: both elements are a good sign for the Newt Company, because Newt aims to offer exactly the kind of courses these users may need."
   ]
  },
  {
   "cell_type": "markdown",
   "metadata": {
    "collapsed": true
   },
   "source": [
    "### New Coders - Locations and Densities"
   ]
  },
  {
   "cell_type": "markdown",
   "metadata": {},
   "source": [
    "In order to understand better our potential market, let's see in which countries the FreeCodeCamp respondents live."
   ]
  },
  {
   "cell_type": "code",
   "execution_count": 199,
   "metadata": {},
   "outputs": [
    {
     "data": {
      "text/plain": [
       "(18175, 136)"
      ]
     },
     "execution_count": 199,
     "metadata": {},
     "output_type": "execute_result"
    }
   ],
   "source": [
    "# drop the rows with no answer for the Job Role Interest\n",
    "survey_clean = survey[survey[\"JobRoleInterest\"].notnull()].copy()\n",
    "survey.shape"
   ]
  },
  {
   "cell_type": "code",
   "execution_count": 200,
   "metadata": {},
   "outputs": [
    {
     "data": {
      "text/plain": [
       "(6992, 136)"
      ]
     },
     "execution_count": 200,
     "metadata": {},
     "output_type": "execute_result"
    }
   ],
   "source": [
    "survey_clean.shape"
   ]
  },
  {
   "cell_type": "code",
   "execution_count": 201,
   "metadata": {},
   "outputs": [
    {
     "data": {
      "text/plain": [
       "United States of America    3125\n",
       "India                        528\n",
       "United Kingdom               315\n",
       "Canada                       260\n",
       "Poland                       131\n",
       "                            ... \n",
       "Guatemala                      1\n",
       "Angola                         1\n",
       "Guadeloupe                     1\n",
       "Bolivia                        1\n",
       "Vanuatu                        1\n",
       "Name: CountryLive, Length: 137, dtype: int64"
      ]
     },
     "execution_count": 201,
     "metadata": {},
     "output_type": "execute_result"
    }
   ],
   "source": [
    "country_abs = survey_clean[\"CountryLive\"].value_counts()\n",
    "country_abs"
   ]
  },
  {
   "cell_type": "code",
   "execution_count": 202,
   "metadata": {},
   "outputs": [
    {
     "data": {
      "text/plain": [
       "United States of America    45.700497\n",
       "India                        7.721556\n",
       "United Kingdom               4.606610\n",
       "Canada                       3.802281\n",
       "Poland                       1.915765\n",
       "                              ...    \n",
       "Guatemala                    0.014624\n",
       "Angola                       0.014624\n",
       "Guadeloupe                   0.014624\n",
       "Bolivia                      0.014624\n",
       "Vanuatu                      0.014624\n",
       "Name: CountryLive, Length: 137, dtype: float64"
      ]
     },
     "execution_count": 202,
     "metadata": {},
     "output_type": "execute_result"
    }
   ],
   "source": [
    "country_perc = survey_clean[\"CountryLive\"].value_counts(normalize=True) * 100\n",
    "country_perc"
   ]
  },
  {
   "cell_type": "code",
   "execution_count": 203,
   "metadata": {},
   "outputs": [
    {
     "data": {
      "text/plain": [
       "United States of America    45.700497\n",
       "India                        7.721556\n",
       "United Kingdom               4.606610\n",
       "Canada                       3.802281\n",
       "Poland                       1.915765\n",
       "Brazil                       1.886517\n",
       "Germany                      1.828020\n",
       "Australia                    1.637906\n",
       "Russia                       1.491664\n",
       "Ukraine                      1.301550\n",
       "Name: CountryLive, dtype: float64"
      ]
     },
     "execution_count": 203,
     "metadata": {},
     "output_type": "execute_result"
    }
   ],
   "source": [
    "country_perc[0:10]"
   ]
  },
  {
   "cell_type": "code",
   "execution_count": 204,
   "metadata": {},
   "outputs": [
    {
     "data": {
      "image/png": "[encoded data removed]",
      "text/plain": [
       "<Figure size 720x432 with 1 Axes>"
      ]
     },
     "metadata": {
      "needs_background": "light"
     },
     "output_type": "display_data"
    }
   ],
   "source": [
    "plt.figure(figsize = (10, 6))\n",
    "country_perc[0:10].plot.bar(align=\"center\")\n",
    "plt.xticks(rotation=70)\n",
    "plt.title(\"Counries in Which FreeCodeCamp Respondents Live\")\n",
    "plt.ylabel(\"Percentage\")\n",
    "plt.show();"
   ]
  },
  {
   "cell_type": "markdown",
   "metadata": {},
   "source": [
    "FreeCodeCamp is a website written in English and based in USA, so no surprsingly the first country for number of respondents is the United States of America (45%). The following three countries have significantly less respondents than the first, but they have good or native English speakers: India (7.7%), United Kingdom (4.6) and Canada (3.8). <br>\n",
    "Poland is the first country in Europe with not-native English speakers at the fifth place (1,9%). <br>\n",
    "The countries listed in this survey have big differences in population, ranging from the 1.3 billion of India to about 38 millions of Poland and Canada. It could be interesting to see the impact of FreeCodeCamp considering the number of respondents for million of inhabitants: it could show potentially interesting markets."
   ]
  },
  {
   "cell_type": "code",
   "execution_count": 205,
   "metadata": {},
   "outputs": [],
   "source": [
    "countries = [\"USA\", \"India\", \"UK\", \"Canada\", \"Poland\", \"Brazil\", \"Germany\", \n",
    "             \"Australia\", \"Russia\", \"Ukraine\"]"
   ]
  },
  {
   "cell_type": "code",
   "execution_count": 206,
   "metadata": {},
   "outputs": [],
   "source": [
    "population_millions = [328, 1353, 68, 38, 38, 210, 83, 26, 147, 42]"
   ]
  },
  {
   "cell_type": "code",
   "execution_count": 207,
   "metadata": {},
   "outputs": [
    {
     "data": {
      "text/plain": [
       "[3125, 528, 315, 260, 131, 129, 125, 112, 102, 89]"
      ]
     },
     "execution_count": 207,
     "metadata": {},
     "output_type": "execute_result"
    }
   ],
   "source": [
    "number_of_respondents = list(country_abs[0:10].values)\n",
    "number_of_respondents"
   ]
  },
  {
   "cell_type": "code",
   "execution_count": 208,
   "metadata": {},
   "outputs": [],
   "source": [
    "pop_dict= {\"country\": countries, \"population\": population_millions,\"respondents\":number_of_respondents}"
   ]
  },
  {
   "cell_type": "code",
   "execution_count": 209,
   "metadata": {},
   "outputs": [],
   "source": [
    "pop_df = pd.DataFrame(pop_dict)"
   ]
  },
  {
   "cell_type": "code",
   "execution_count": 210,
   "metadata": {},
   "outputs": [
    {
     "data": {
      "text/html": [
       "<div>\n",
       "<style scoped>\n",
       "    .dataframe tbody tr th:only-of-type {\n",
       "        vertical-align: middle;\n",
       "    }\n",
       "\n",
       "    .dataframe tbody tr th {\n",
       "        vertical-align: top;\n",
       "    }\n",
       "\n",
       "    .dataframe thead th {\n",
       "        text-align: right;\n",
       "    }\n",
       "</style>\n",
       "<table border=\"1\" class=\"dataframe\">\n",
       "  <thead>\n",
       "    <tr style=\"text-align: right;\">\n",
       "      <th></th>\n",
       "      <th>country</th>\n",
       "      <th>population</th>\n",
       "      <th>respondents</th>\n",
       "    </tr>\n",
       "  </thead>\n",
       "  <tbody>\n",
       "    <tr>\n",
       "      <th>0</th>\n",
       "      <td>USA</td>\n",
       "      <td>328</td>\n",
       "      <td>3125</td>\n",
       "    </tr>\n",
       "    <tr>\n",
       "      <th>1</th>\n",
       "      <td>India</td>\n",
       "      <td>1353</td>\n",
       "      <td>528</td>\n",
       "    </tr>\n",
       "    <tr>\n",
       "      <th>2</th>\n",
       "      <td>UK</td>\n",
       "      <td>68</td>\n",
       "      <td>315</td>\n",
       "    </tr>\n",
       "    <tr>\n",
       "      <th>3</th>\n",
       "      <td>Canada</td>\n",
       "      <td>38</td>\n",
       "      <td>260</td>\n",
       "    </tr>\n",
       "    <tr>\n",
       "      <th>4</th>\n",
       "      <td>Poland</td>\n",
       "      <td>38</td>\n",
       "      <td>131</td>\n",
       "    </tr>\n",
       "    <tr>\n",
       "      <th>5</th>\n",
       "      <td>Brazil</td>\n",
       "      <td>210</td>\n",
       "      <td>129</td>\n",
       "    </tr>\n",
       "    <tr>\n",
       "      <th>6</th>\n",
       "      <td>Germany</td>\n",
       "      <td>83</td>\n",
       "      <td>125</td>\n",
       "    </tr>\n",
       "    <tr>\n",
       "      <th>7</th>\n",
       "      <td>Australia</td>\n",
       "      <td>26</td>\n",
       "      <td>112</td>\n",
       "    </tr>\n",
       "    <tr>\n",
       "      <th>8</th>\n",
       "      <td>Russia</td>\n",
       "      <td>147</td>\n",
       "      <td>102</td>\n",
       "    </tr>\n",
       "    <tr>\n",
       "      <th>9</th>\n",
       "      <td>Ukraine</td>\n",
       "      <td>42</td>\n",
       "      <td>89</td>\n",
       "    </tr>\n",
       "  </tbody>\n",
       "</table>\n",
       "</div>"
      ],
      "text/plain": [
       "     country  population  respondents\n",
       "0        USA         328         3125\n",
       "1      India        1353          528\n",
       "2         UK          68          315\n",
       "3     Canada          38          260\n",
       "4     Poland          38          131\n",
       "5     Brazil         210          129\n",
       "6    Germany          83          125\n",
       "7  Australia          26          112\n",
       "8     Russia         147          102\n",
       "9    Ukraine          42           89"
      ]
     },
     "execution_count": 210,
     "metadata": {},
     "output_type": "execute_result"
    }
   ],
   "source": [
    "pop_df"
   ]
  },
  {
   "cell_type": "code",
   "execution_count": 211,
   "metadata": {},
   "outputs": [],
   "source": [
    "pop_df[\"resp_per_million\"] = pop_df[\"respondents\"]/pop_df[\"population\"]"
   ]
  },
  {
   "cell_type": "code",
   "execution_count": 212,
   "metadata": {},
   "outputs": [],
   "source": [
    "df_resp_per_mil = pop_df.sort_values(by=\"resp_per_million\", ascending=False)"
   ]
  },
  {
   "cell_type": "code",
   "execution_count": 213,
   "metadata": {},
   "outputs": [
    {
     "data": {
      "text/html": [
       "<div>\n",
       "<style scoped>\n",
       "    .dataframe tbody tr th:only-of-type {\n",
       "        vertical-align: middle;\n",
       "    }\n",
       "\n",
       "    .dataframe tbody tr th {\n",
       "        vertical-align: top;\n",
       "    }\n",
       "\n",
       "    .dataframe thead th {\n",
       "        text-align: right;\n",
       "    }\n",
       "</style>\n",
       "<table border=\"1\" class=\"dataframe\">\n",
       "  <thead>\n",
       "    <tr style=\"text-align: right;\">\n",
       "      <th></th>\n",
       "      <th>country</th>\n",
       "      <th>population</th>\n",
       "      <th>respondents</th>\n",
       "      <th>resp_per_million</th>\n",
       "    </tr>\n",
       "  </thead>\n",
       "  <tbody>\n",
       "    <tr>\n",
       "      <th>0</th>\n",
       "      <td>USA</td>\n",
       "      <td>328</td>\n",
       "      <td>3125</td>\n",
       "      <td>9.527439</td>\n",
       "    </tr>\n",
       "    <tr>\n",
       "      <th>3</th>\n",
       "      <td>Canada</td>\n",
       "      <td>38</td>\n",
       "      <td>260</td>\n",
       "      <td>6.842105</td>\n",
       "    </tr>\n",
       "    <tr>\n",
       "      <th>2</th>\n",
       "      <td>UK</td>\n",
       "      <td>68</td>\n",
       "      <td>315</td>\n",
       "      <td>4.632353</td>\n",
       "    </tr>\n",
       "    <tr>\n",
       "      <th>7</th>\n",
       "      <td>Australia</td>\n",
       "      <td>26</td>\n",
       "      <td>112</td>\n",
       "      <td>4.307692</td>\n",
       "    </tr>\n",
       "    <tr>\n",
       "      <th>4</th>\n",
       "      <td>Poland</td>\n",
       "      <td>38</td>\n",
       "      <td>131</td>\n",
       "      <td>3.447368</td>\n",
       "    </tr>\n",
       "    <tr>\n",
       "      <th>9</th>\n",
       "      <td>Ukraine</td>\n",
       "      <td>42</td>\n",
       "      <td>89</td>\n",
       "      <td>2.119048</td>\n",
       "    </tr>\n",
       "    <tr>\n",
       "      <th>6</th>\n",
       "      <td>Germany</td>\n",
       "      <td>83</td>\n",
       "      <td>125</td>\n",
       "      <td>1.506024</td>\n",
       "    </tr>\n",
       "    <tr>\n",
       "      <th>8</th>\n",
       "      <td>Russia</td>\n",
       "      <td>147</td>\n",
       "      <td>102</td>\n",
       "      <td>0.693878</td>\n",
       "    </tr>\n",
       "    <tr>\n",
       "      <th>5</th>\n",
       "      <td>Brazil</td>\n",
       "      <td>210</td>\n",
       "      <td>129</td>\n",
       "      <td>0.614286</td>\n",
       "    </tr>\n",
       "    <tr>\n",
       "      <th>1</th>\n",
       "      <td>India</td>\n",
       "      <td>1353</td>\n",
       "      <td>528</td>\n",
       "      <td>0.390244</td>\n",
       "    </tr>\n",
       "  </tbody>\n",
       "</table>\n",
       "</div>"
      ],
      "text/plain": [
       "     country  population  respondents  resp_per_million\n",
       "0        USA         328         3125          9.527439\n",
       "3     Canada          38          260          6.842105\n",
       "2         UK          68          315          4.632353\n",
       "7  Australia          26          112          4.307692\n",
       "4     Poland          38          131          3.447368\n",
       "9    Ukraine          42           89          2.119048\n",
       "6    Germany          83          125          1.506024\n",
       "8     Russia         147          102          0.693878\n",
       "5     Brazil         210          129          0.614286\n",
       "1      India        1353          528          0.390244"
      ]
     },
     "execution_count": 213,
     "metadata": {},
     "output_type": "execute_result"
    }
   ],
   "source": [
    "df_resp_per_mil"
   ]
  },
  {
   "cell_type": "code",
   "execution_count": 214,
   "metadata": {},
   "outputs": [
    {
     "data": {
      "image/png": "[encoded data removed]",
      "text/plain": [
       "<Figure size 720x504 with 1 Axes>"
      ]
     },
     "metadata": {
      "needs_background": "light"
     },
     "output_type": "display_data"
    }
   ],
   "source": [
    "plt.figure(figsize=(10, 7))\n",
    "df_resp_per_mil.set_index(\"country\")[\"resp_per_million\"].plot.bar(rot=70)\n",
    "plt.title(\"Number of Respondents per Million of Inhabitants\", fontsize=15,\n",
    "         y=1.04);\n"
   ]
  },
  {
   "cell_type": "markdown",
   "metadata": {},
   "source": [
    "Considering the different populations for each country, we have a different picture. USA are still at the top of this new ranking, but the following three countries are mostly of English native speakers: Canada, UK and Australia. Poland remains in fifth positions, showing that the interest in programming topics in this country is very high. Despite its enormous population, now India is now only in the tenth place, but even a very little increase in this market could mean thousands and thousands of potential customers."
   ]
  },
  {
   "cell_type": "markdown",
   "metadata": {},
   "source": [
    "### Spending Money for Learning"
   ]
  },
  {
   "cell_type": "markdown",
   "metadata": {},
   "source": [
    "The Newt Company sells subscriptions at $59 per month: we are therefore interested in estimate how much money our potential customers could spend, considering the amount spent each month."
   ]
  },
  {
   "cell_type": "code",
   "execution_count": 215,
   "metadata": {},
   "outputs": [],
   "source": [
    "survey_clean[\"MonthsProgramming\"] = survey_clean[\"MonthsProgramming\"].replace(0,1)"
   ]
  },
  {
   "cell_type": "code",
   "execution_count": 216,
   "metadata": {},
   "outputs": [
    {
     "data": {
      "text/plain": [
       "(6633, 136)"
      ]
     },
     "execution_count": 216,
     "metadata": {},
     "output_type": "execute_result"
    }
   ],
   "source": [
    "survey_clean[survey_clean[\"MonthsProgramming\"].notnull()].shape"
   ]
  },
  {
   "cell_type": "code",
   "execution_count": 217,
   "metadata": {},
   "outputs": [
    {
     "data": {
      "text/plain": [
       "3194"
      ]
     },
     "execution_count": 217,
     "metadata": {},
     "output_type": "execute_result"
    }
   ],
   "source": [
    "(survey_clean[\"MoneyForLearning\"] == 0).sum()"
   ]
  },
  {
   "cell_type": "code",
   "execution_count": 218,
   "metadata": {},
   "outputs": [
    {
     "data": {
      "text/plain": [
       "6633"
      ]
     },
     "execution_count": 218,
     "metadata": {},
     "output_type": "execute_result"
    }
   ],
   "source": [
    "survey_clean[\"MonthsProgramming\"].notnull().sum()"
   ]
  },
  {
   "cell_type": "code",
   "execution_count": 219,
   "metadata": {},
   "outputs": [],
   "source": [
    "survey_clean[\"monthly_dollars\"] =(survey_clean[\"MoneyForLearning\"]/survey_clean[\"MonthsProgramming\"])"
   ]
  },
  {
   "cell_type": "code",
   "execution_count": 220,
   "metadata": {},
   "outputs": [
    {
     "data": {
      "text/plain": [
       "675"
      ]
     },
     "execution_count": 220,
     "metadata": {},
     "output_type": "execute_result"
    }
   ],
   "source": [
    "survey_clean[\"monthly_dollars\"].isnull().sum()"
   ]
  },
  {
   "cell_type": "code",
   "execution_count": 221,
   "metadata": {},
   "outputs": [],
   "source": [
    "mask_clean = (survey_clean[\"monthly_dollars\"].notnull()) & (survey_clean[\"CountryLive\"].notnull())"
   ]
  },
  {
   "cell_type": "code",
   "execution_count": 222,
   "metadata": {},
   "outputs": [],
   "source": [
    "#removing rows with null entries in \"monthly_dollars\" \n",
    "# and \"CountryLive\" columns\n",
    "\n",
    "survey_dollars  = survey_clean[mask_clean].copy()"
   ]
  },
  {
   "cell_type": "code",
   "execution_count": 223,
   "metadata": {},
   "outputs": [
    {
     "data": {
      "text/plain": [
       "(6212, 137)"
      ]
     },
     "execution_count": 223,
     "metadata": {},
     "output_type": "execute_result"
    }
   ],
   "source": [
    "survey_dollars.shape"
   ]
  },
  {
   "cell_type": "code",
   "execution_count": 224,
   "metadata": {},
   "outputs": [
    {
     "data": {
      "text/plain": [
       "United States of America    2933\n",
       "India                        463\n",
       "United Kingdom               279\n",
       "Canada                       240\n",
       "Poland                       122\n",
       "Name: CountryLive, dtype: int64"
      ]
     },
     "execution_count": 224,
     "metadata": {},
     "output_type": "execute_result"
    }
   ],
   "source": [
    "survey_dollars[\"CountryLive\"].value_counts().head()"
   ]
  },
  {
   "cell_type": "markdown",
   "metadata": {},
   "source": [
    "I'll consider only countries in the first four English-Speaking countries, so USA, India, UK and Canada, which are the most represented in this dataset."
   ]
  },
  {
   "cell_type": "code",
   "execution_count": 225,
   "metadata": {},
   "outputs": [
    {
     "data": {
      "text/plain": [
       "CountryLive\n",
       "United States of America    227.997996\n",
       "India                       135.100982\n",
       "United Kingdom               45.534443\n",
       "Canada                      113.510961\n",
       "Name: monthly_dollars, dtype: float64"
      ]
     },
     "execution_count": 225,
     "metadata": {},
     "output_type": "execute_result"
    }
   ],
   "source": [
    "selected_countries = [\"United States of America\", \"India\",\"United Kingdom\", \"Canada\"]\n",
    "survey_selection_mean = survey_dollars.groupby(\"CountryLive\")[\"monthly_dollars\"]\\\n",
    ".mean()[selected_countries]\n",
    "survey_selection_mean"
   ]
  },
  {
   "cell_type": "code",
   "execution_count": 226,
   "metadata": {},
   "outputs": [
    {
     "data": {
      "text/plain": [
       "CountryLive\n",
       "United States of America    3.333333\n",
       "India                       0.000000\n",
       "United Kingdom              0.000000\n",
       "Canada                      0.000000\n",
       "Name: monthly_dollars, dtype: float64"
      ]
     },
     "execution_count": 226,
     "metadata": {},
     "output_type": "execute_result"
    }
   ],
   "source": [
    "survey_selection_median = survey_dollars.groupby(\"CountryLive\")[\"monthly_dollars\"]\\\n",
    ".median()[selected_countries]\n",
    "survey_selection_median"
   ]
  },
  {
   "cell_type": "markdown",
   "metadata": {},
   "source": [
    "Surprisingly, the amount of dollar spent in India is greater than the one of Canada and United Kingdom, but the average income in India is instead much lower than the one in Canda and United Kingdom. <br>\n",
    "Looking at the median for all the four countries, it is clear that many students don't spend money monthly in courses: the median is zero for India, United Kingdom and Canada. Only the United States have a median of 3.3, a fact that suggest than even in USA most of FreeCodeCamp users don't spend money on courses: FreeCodeCamp is a free resource for learning programming, so this not so unexpected."
   ]
  },
  {
   "cell_type": "markdown",
   "metadata": {},
   "source": [
    "### Dealing with Extreme Outliers"
   ]
  },
  {
   "cell_type": "code",
   "execution_count": 227,
   "metadata": {},
   "outputs": [],
   "source": [
    "mask_4 = (survey_dollars[\"CountryLive\"] == \"United States of America\" )|\\\n",
    "(survey_dollars[\"CountryLive\"] == \"United Kingdom\") |\\\n",
    "(survey_dollars[\"CountryLive\"] == \"India\")|\\\n",
    "(survey_dollars[\"CountryLive\"] == \"Canada\")"
   ]
  },
  {
   "cell_type": "code",
   "execution_count": 228,
   "metadata": {},
   "outputs": [],
   "source": [
    "four_countries = survey_dollars[mask_4]"
   ]
  },
  {
   "cell_type": "code",
   "execution_count": 229,
   "metadata": {},
   "outputs": [
    {
     "data": {
      "image/png": "[encoded data removed]",
      "text/plain": [
       "<Figure size 576x360 with 1 Axes>"
      ]
     },
     "metadata": {
      "needs_background": "light"
     },
     "output_type": "display_data"
    }
   ],
   "source": [
    "plt.figure(figsize=(8, 5))\n",
    "sns.boxplot(x=\"CountryLive\", y=\"monthly_dollars\", data = four_countries)\n",
    "plt.title(\"Distribution of Dollars Spent Per Month\", fontsize=14, y=1.04)\n",
    "plt.xticks([0, 1, 2, 3],[\"Usa\", \"UK\", \"India\", \"Canada\"])\n",
    "plt.ylabel(\"Dollars Sper per Month\")\n",
    "plt.xlabel(\"Country\")\n",
    "plt.show()\n"
   ]
  },
  {
   "cell_type": "markdown",
   "metadata": {},
   "source": [
    "The four boxplots illustrating the distribution of dollar spent per month are all squished to the bottom of the graph, the boxplots are hardly visible, this is due to the fact tha most of FreeCodeCamp user spent nearly nothing on courses. In every country there are some outliers, some of which are particular high for USA, even considering the high cost of USA education, with a value of 50,000 \\$ and 80,000 \\$ spent per month. <br>\n",
    "Some Indian respondents have spent over 5000 \\$, a very high price considering the local wage, there is the possibility some respondents indicated the amount spent in the local currency rather than in dollars. Let's look into these extreme outiers"
   ]
  },
  {
   "cell_type": "code",
   "execution_count": 230,
   "metadata": {},
   "outputs": [],
   "source": [
    "high_spending_india_mask = (four_countries[\"CountryLive\"] == \"India\") &\\\n",
    "(four_countries[\"monthly_dollars\"] >= 2500)\n",
    "high_spending_india = four_countries[high_spending_india_mask]"
   ]
  },
  {
   "cell_type": "code",
   "execution_count": 231,
   "metadata": {},
   "outputs": [
    {
     "data": {
      "text/html": [
       "<div>\n",
       "<style scoped>\n",
       "    .dataframe tbody tr th:only-of-type {\n",
       "        vertical-align: middle;\n",
       "    }\n",
       "\n",
       "    .dataframe tbody tr th {\n",
       "        vertical-align: top;\n",
       "    }\n",
       "\n",
       "    .dataframe thead th {\n",
       "        text-align: right;\n",
       "    }\n",
       "</style>\n",
       "<table border=\"1\" class=\"dataframe\">\n",
       "  <thead>\n",
       "    <tr style=\"text-align: right;\">\n",
       "      <th></th>\n",
       "      <th>EmploymentStatus</th>\n",
       "      <th>AttendedBootcamp</th>\n",
       "      <th>MonthsProgramming</th>\n",
       "      <th>EmploymentField</th>\n",
       "      <th>StudentDebtOwe</th>\n",
       "      <th>monthly_dollars</th>\n",
       "    </tr>\n",
       "  </thead>\n",
       "  <tbody>\n",
       "    <tr>\n",
       "      <th>1728</th>\n",
       "      <td>A stay-at-home parent or homemaker</td>\n",
       "      <td>0.0</td>\n",
       "      <td>4.0</td>\n",
       "      <td>NaN</td>\n",
       "      <td>NaN</td>\n",
       "      <td>5000.000000</td>\n",
       "    </tr>\n",
       "    <tr>\n",
       "      <th>1755</th>\n",
       "      <td>Not working and not looking for work</td>\n",
       "      <td>0.0</td>\n",
       "      <td>15.0</td>\n",
       "      <td>NaN</td>\n",
       "      <td>NaN</td>\n",
       "      <td>3333.333333</td>\n",
       "    </tr>\n",
       "    <tr>\n",
       "      <th>7989</th>\n",
       "      <td>Employed for wages</td>\n",
       "      <td>0.0</td>\n",
       "      <td>1.0</td>\n",
       "      <td>software development and IT</td>\n",
       "      <td>2500.0</td>\n",
       "      <td>5000.000000</td>\n",
       "    </tr>\n",
       "    <tr>\n",
       "      <th>8126</th>\n",
       "      <td>Not working but looking for work</td>\n",
       "      <td>0.0</td>\n",
       "      <td>1.0</td>\n",
       "      <td>NaN</td>\n",
       "      <td>10000.0</td>\n",
       "      <td>5000.000000</td>\n",
       "    </tr>\n",
       "    <tr>\n",
       "      <th>13398</th>\n",
       "      <td>Unable to work</td>\n",
       "      <td>0.0</td>\n",
       "      <td>2.0</td>\n",
       "      <td>NaN</td>\n",
       "      <td>NaN</td>\n",
       "      <td>10000.000000</td>\n",
       "    </tr>\n",
       "    <tr>\n",
       "      <th>15587</th>\n",
       "      <td>Employed for wages</td>\n",
       "      <td>0.0</td>\n",
       "      <td>24.0</td>\n",
       "      <td>software development and IT</td>\n",
       "      <td>25000.0</td>\n",
       "      <td>4166.666667</td>\n",
       "    </tr>\n",
       "  </tbody>\n",
       "</table>\n",
       "</div>"
      ],
      "text/plain": [
       "                           EmploymentStatus  AttendedBootcamp  \\\n",
       "1728     A stay-at-home parent or homemaker               0.0   \n",
       "1755   Not working and not looking for work               0.0   \n",
       "7989                     Employed for wages               0.0   \n",
       "8126       Not working but looking for work               0.0   \n",
       "13398                        Unable to work               0.0   \n",
       "15587                    Employed for wages               0.0   \n",
       "\n",
       "       MonthsProgramming              EmploymentField  StudentDebtOwe  \\\n",
       "1728                 4.0                          NaN             NaN   \n",
       "1755                15.0                          NaN             NaN   \n",
       "7989                 1.0  software development and IT          2500.0   \n",
       "8126                 1.0                          NaN         10000.0   \n",
       "13398                2.0                          NaN             NaN   \n",
       "15587               24.0  software development and IT         25000.0   \n",
       "\n",
       "       monthly_dollars  \n",
       "1728       5000.000000  \n",
       "1755       3333.333333  \n",
       "7989       5000.000000  \n",
       "8126       5000.000000  \n",
       "13398     10000.000000  \n",
       "15587      4166.666667  "
      ]
     },
     "execution_count": 231,
     "metadata": {},
     "output_type": "execute_result"
    }
   ],
   "source": [
    "high_spending_india[['EmploymentStatus','AttendedBootcamp','MonthsProgramming', 'EmploymentField', 'StudentDebtOwe', 'monthly_dollars' ] ]"
   ]
  },
  {
   "cell_type": "markdown",
   "metadata": {},
   "source": [
    "All the Indian high spending respondents have spent very little time programming except two and didn't attend any bootcamp (bootcamps can be very costly), so I think it is safe to say they probably misunderstood the currency in which the amount spent was expressed. "
   ]
  },
  {
   "cell_type": "markdown",
   "metadata": {},
   "source": [
    "Let's give a look at high speding Americans, USA tuition can be extremely pricey, but 50,000 per month is an extreme even there."
   ]
  },
  {
   "cell_type": "code",
   "execution_count": 232,
   "metadata": {},
   "outputs": [],
   "source": [
    "high_spending_usa_mask =  (four_countries[\"CountryLive\"] == \"United States of America\") &\\\n",
    "(four_countries[\"monthly_dollars\"] >= 10000)"
   ]
  },
  {
   "cell_type": "code",
   "execution_count": 233,
   "metadata": {},
   "outputs": [
    {
     "data": {
      "text/html": [
       "<div>\n",
       "<style scoped>\n",
       "    .dataframe tbody tr th:only-of-type {\n",
       "        vertical-align: middle;\n",
       "    }\n",
       "\n",
       "    .dataframe tbody tr th {\n",
       "        vertical-align: top;\n",
       "    }\n",
       "\n",
       "    .dataframe thead th {\n",
       "        text-align: right;\n",
       "    }\n",
       "</style>\n",
       "<table border=\"1\" class=\"dataframe\">\n",
       "  <thead>\n",
       "    <tr style=\"text-align: right;\">\n",
       "      <th></th>\n",
       "      <th>EmploymentStatus</th>\n",
       "      <th>AttendedBootcamp</th>\n",
       "      <th>MonthsProgramming</th>\n",
       "      <th>EmploymentField</th>\n",
       "      <th>StudentDebtOwe</th>\n",
       "      <th>monthly_dollars</th>\n",
       "    </tr>\n",
       "  </thead>\n",
       "  <tbody>\n",
       "    <tr>\n",
       "      <th>2478</th>\n",
       "      <td>Not working and not looking for work</td>\n",
       "      <td>1.0</td>\n",
       "      <td>2.0</td>\n",
       "      <td>NaN</td>\n",
       "      <td>48000.0</td>\n",
       "      <td>50000.000000</td>\n",
       "    </tr>\n",
       "    <tr>\n",
       "      <th>3930</th>\n",
       "      <td>Not working and not looking for work</td>\n",
       "      <td>0.0</td>\n",
       "      <td>6.0</td>\n",
       "      <td>NaN</td>\n",
       "      <td>40000.0</td>\n",
       "      <td>10833.333333</td>\n",
       "    </tr>\n",
       "    <tr>\n",
       "      <th>6805</th>\n",
       "      <td>Not working but looking for work</td>\n",
       "      <td>1.0</td>\n",
       "      <td>1.0</td>\n",
       "      <td>NaN</td>\n",
       "      <td>45000.0</td>\n",
       "      <td>15000.000000</td>\n",
       "    </tr>\n",
       "    <tr>\n",
       "      <th>7198</th>\n",
       "      <td>Employed for wages</td>\n",
       "      <td>0.0</td>\n",
       "      <td>5.0</td>\n",
       "      <td>education</td>\n",
       "      <td>NaN</td>\n",
       "      <td>14000.000000</td>\n",
       "    </tr>\n",
       "    <tr>\n",
       "      <th>14024</th>\n",
       "      <td>Not working but looking for work</td>\n",
       "      <td>0.0</td>\n",
       "      <td>1.0</td>\n",
       "      <td>NaN</td>\n",
       "      <td>100000.0</td>\n",
       "      <td>80000.000000</td>\n",
       "    </tr>\n",
       "    <tr>\n",
       "      <th>16650</th>\n",
       "      <td>Not working but looking for work</td>\n",
       "      <td>0.0</td>\n",
       "      <td>12.0</td>\n",
       "      <td>NaN</td>\n",
       "      <td>30000.0</td>\n",
       "      <td>16666.666667</td>\n",
       "    </tr>\n",
       "    <tr>\n",
       "      <th>16997</th>\n",
       "      <td>Employed for wages</td>\n",
       "      <td>0.0</td>\n",
       "      <td>1.0</td>\n",
       "      <td>health care</td>\n",
       "      <td>12500.0</td>\n",
       "      <td>12500.000000</td>\n",
       "    </tr>\n",
       "    <tr>\n",
       "      <th>17231</th>\n",
       "      <td>Not working but looking for work</td>\n",
       "      <td>0.0</td>\n",
       "      <td>2.0</td>\n",
       "      <td>NaN</td>\n",
       "      <td>NaN</td>\n",
       "      <td>15000.000000</td>\n",
       "    </tr>\n",
       "  </tbody>\n",
       "</table>\n",
       "</div>"
      ],
      "text/plain": [
       "                           EmploymentStatus  AttendedBootcamp  \\\n",
       "2478   Not working and not looking for work               1.0   \n",
       "3930   Not working and not looking for work               0.0   \n",
       "6805       Not working but looking for work               1.0   \n",
       "7198                     Employed for wages               0.0   \n",
       "14024      Not working but looking for work               0.0   \n",
       "16650      Not working but looking for work               0.0   \n",
       "16997                    Employed for wages               0.0   \n",
       "17231      Not working but looking for work               0.0   \n",
       "\n",
       "       MonthsProgramming EmploymentField  StudentDebtOwe  monthly_dollars  \n",
       "2478                 2.0             NaN         48000.0     50000.000000  \n",
       "3930                 6.0             NaN         40000.0     10833.333333  \n",
       "6805                 1.0             NaN         45000.0     15000.000000  \n",
       "7198                 5.0       education             NaN     14000.000000  \n",
       "14024                1.0             NaN        100000.0     80000.000000  \n",
       "16650               12.0             NaN         30000.0     16666.666667  \n",
       "16997                1.0     health care         12500.0     12500.000000  \n",
       "17231                2.0             NaN             NaN     15000.000000  "
      ]
     },
     "execution_count": 233,
     "metadata": {},
     "output_type": "execute_result"
    }
   ],
   "source": [
    "high_spending_usa = four_countries[high_spending_usa_mask]\n",
    "high_spending_usa[['EmploymentStatus','AttendedBootcamp','MonthsProgramming', 'EmploymentField', 'StudentDebtOwe', 'monthly_dollars' ] ]"
   ]
  },
  {
   "cell_type": "markdown",
   "metadata": {},
   "source": [
    "They very high spending USA respondents have spent very little time programming as well, I'll remove this data because they differ too much from the rest of the dataset they seem quite anomalous."
   ]
  },
  {
   "cell_type": "markdown",
   "metadata": {},
   "source": [
    "There is also an high spendign Canadian, let's look into the data"
   ]
  },
  {
   "cell_type": "code",
   "execution_count": 234,
   "metadata": {},
   "outputs": [
    {
     "data": {
      "text/html": [
       "<div>\n",
       "<style scoped>\n",
       "    .dataframe tbody tr th:only-of-type {\n",
       "        vertical-align: middle;\n",
       "    }\n",
       "\n",
       "    .dataframe tbody tr th {\n",
       "        vertical-align: top;\n",
       "    }\n",
       "\n",
       "    .dataframe thead th {\n",
       "        text-align: right;\n",
       "    }\n",
       "</style>\n",
       "<table border=\"1\" class=\"dataframe\">\n",
       "  <thead>\n",
       "    <tr style=\"text-align: right;\">\n",
       "      <th></th>\n",
       "      <th>EmploymentStatus</th>\n",
       "      <th>AttendedBootcamp</th>\n",
       "      <th>MonthsProgramming</th>\n",
       "      <th>EmploymentField</th>\n",
       "      <th>StudentDebtOwe</th>\n",
       "      <th>monthly_dollars</th>\n",
       "    </tr>\n",
       "  </thead>\n",
       "  <tbody>\n",
       "    <tr>\n",
       "      <th>13659</th>\n",
       "      <td>Employed for wages</td>\n",
       "      <td>1.0</td>\n",
       "      <td>2.0</td>\n",
       "      <td>finance</td>\n",
       "      <td>NaN</td>\n",
       "      <td>5000.0</td>\n",
       "    </tr>\n",
       "  </tbody>\n",
       "</table>\n",
       "</div>"
      ],
      "text/plain": [
       "         EmploymentStatus  AttendedBootcamp  MonthsProgramming  \\\n",
       "13659  Employed for wages               1.0                2.0   \n",
       "\n",
       "      EmploymentField  StudentDebtOwe  monthly_dollars  \n",
       "13659         finance             NaN           5000.0  "
      ]
     },
     "execution_count": 234,
     "metadata": {},
     "output_type": "execute_result"
    }
   ],
   "source": [
    "high_spending_canada_mask =  (four_countries[\"CountryLive\"] == \"Canada\") &\\\n",
    "(four_countries[\"monthly_dollars\"] >= 5000)\n",
    "high_spending_canada = four_countries[high_spending_canada_mask]\n",
    "high_spending_canada[['EmploymentStatus','AttendedBootcamp','MonthsProgramming', 'EmploymentField', 'StudentDebtOwe', 'monthly_dollars' ] ]"
   ]
  },
  {
   "cell_type": "markdown",
   "metadata": {},
   "source": [
    "Data looks similar to the USA ones, a person with a little time passed programming, so probably the high price paid is suspicious."
   ]
  },
  {
   "cell_type": "code",
   "execution_count": 235,
   "metadata": {},
   "outputs": [],
   "source": [
    "four_countries = four_countries.drop(high_spending_india.index)"
   ]
  },
  {
   "cell_type": "code",
   "execution_count": 236,
   "metadata": {},
   "outputs": [],
   "source": [
    "four_countries =  four_countries.drop(high_spending_usa.index)"
   ]
  },
  {
   "cell_type": "code",
   "execution_count": 237,
   "metadata": {},
   "outputs": [],
   "source": [
    "four_countries = four_countries.drop(high_spending_canada.index)"
   ]
  },
  {
   "cell_type": "code",
   "execution_count": 238,
   "metadata": {},
   "outputs": [
    {
     "data": {
      "image/png": "[encoded data removed]",
      "text/plain": [
       "<Figure size 576x360 with 1 Axes>"
      ]
     },
     "metadata": {
      "needs_background": "light"
     },
     "output_type": "display_data"
    }
   ],
   "source": [
    "plt.figure(figsize=(8, 5))\n",
    "sns.boxplot(x=\"CountryLive\", y=\"monthly_dollars\", data = four_countries)\n",
    "plt.title(\"Distribution of Dollars Spent Per Month\", fontsize=14, y=1.04)\n",
    "plt.xticks([0, 1, 2, 3],[\"Usa\", \"UK\", \"India\", \"Canada\"])\n",
    "plt.ylabel(\"Dollars Sper per Month\")\n",
    "plt.xlabel(\"Country\")\n",
    "plt.show()\n"
   ]
  },
  {
   "cell_type": "markdown",
   "metadata": {},
   "source": [
    "### Choosing the Best Two Markets"
   ]
  },
  {
   "cell_type": "code",
   "execution_count": 239,
   "metadata": {},
   "outputs": [
    {
     "data": {
      "text/plain": [
       "CountryLive\n",
       "Canada                       93.065400\n",
       "India                        65.758763\n",
       "United Kingdom               45.534443\n",
       "United States of America    155.459187\n",
       "Name: monthly_dollars, dtype: float64"
      ]
     },
     "execution_count": 239,
     "metadata": {},
     "output_type": "execute_result"
    }
   ],
   "source": [
    "four_countries.groupby(\"CountryLive\")[\"monthly_dollars\"]\\\n",
    ".mean()"
   ]
  },
  {
   "cell_type": "code",
   "execution_count": 240,
   "metadata": {},
   "outputs": [
    {
     "data": {
      "text/plain": [
       "United States of America    0.750000\n",
       "India                       0.117179\n",
       "United Kingdom              0.071538\n",
       "Canada                      0.061282\n",
       "Name: CountryLive, dtype: float64"
      ]
     },
     "execution_count": 240,
     "metadata": {},
     "output_type": "execute_result"
    }
   ],
   "source": [
    "four_countries[\"CountryLive\"].value_counts(normalize=True)"
   ]
  },
  {
   "cell_type": "markdown",
   "metadata": {},
   "source": [
    "The Newt Company offers courses at a price of 59\\$ per month.\n",
    "Considering the number of respondents and the average amount spent per month, USA is certainly the main market in which advertise the Newt courses: US citizens spend on average 155\\$ and are 75% of FreeCodeCamp respondents.<br>\n",
    "Canadians are at the second place for money spent: they spend 93\\$ per month, but the number of Canadians on FreeCodeCamp is quite low, mainly due to the fact that Canada has about ten times less inhabitants than US, but they are the second country for number of respondents for million of inhabitant, so we can conclude that interest in programming courses is high in Canada. <br>\n",
    "Indian respondents are instead very numerous, they are 11% of FreeCodeCamp respondents and they spend a good amount of money, about 65\\$ per month.\n",
    "In a previous graph, we saw the number of respondents per million of inhabitants in India is instead quite low, despite the 1.3 billions of Indians: India could be a great market to explore, even a little increase in such a market could mean thousounds of customers.\n",
    "\n",
    "Let's suppose we could have the same impact of FreeCodeCamp per million of inhabitants reached and we could reach 1% of Indian Population with advertising."
   ]
  },
  {
   "cell_type": "code",
   "execution_count": 241,
   "metadata": {},
   "outputs": [
    {
     "data": {
      "text/html": [
       "<div>\n",
       "<style scoped>\n",
       "    .dataframe tbody tr th:only-of-type {\n",
       "        vertical-align: middle;\n",
       "    }\n",
       "\n",
       "    .dataframe tbody tr th {\n",
       "        vertical-align: top;\n",
       "    }\n",
       "\n",
       "    .dataframe thead th {\n",
       "        text-align: right;\n",
       "    }\n",
       "</style>\n",
       "<table border=\"1\" class=\"dataframe\">\n",
       "  <thead>\n",
       "    <tr style=\"text-align: right;\">\n",
       "      <th></th>\n",
       "      <th>country</th>\n",
       "      <th>population</th>\n",
       "      <th>respondents</th>\n",
       "      <th>resp_per_million</th>\n",
       "    </tr>\n",
       "  </thead>\n",
       "  <tbody>\n",
       "    <tr>\n",
       "      <th>1</th>\n",
       "      <td>India</td>\n",
       "      <td>1353</td>\n",
       "      <td>528</td>\n",
       "      <td>0.390244</td>\n",
       "    </tr>\n",
       "  </tbody>\n",
       "</table>\n",
       "</div>"
      ],
      "text/plain": [
       "  country  population  respondents  resp_per_million\n",
       "1   India        1353          528          0.390244"
      ]
     },
     "execution_count": 241,
     "metadata": {},
     "output_type": "execute_result"
    }
   ],
   "source": [
    "df_resp_per_mil[df_resp_per_mil[\"country\"] == \"India\"]"
   ]
  },
  {
   "cell_type": "code",
   "execution_count": 242,
   "metadata": {},
   "outputs": [],
   "source": [
    "potential_indian_customers = (1353 * 0.01) * 0.390244  * 1000000"
   ]
  },
  {
   "cell_type": "code",
   "execution_count": 243,
   "metadata": {},
   "outputs": [
    {
     "data": {
      "text/plain": [
       "5280001.32"
      ]
     },
     "execution_count": 243,
     "metadata": {},
     "output_type": "execute_result"
    }
   ],
   "source": [
    "potential_indian_customers"
   ]
  },
  {
   "cell_type": "markdown",
   "metadata": {},
   "source": [
    "We could have five millions of potential customers, peole reached by our advertising. We know that most of FreeCodeCamp respondents didn't spend anything on courses, so let's be conservative and let's say 5% of the potential customers will spend money and attend our courses for one month."
   ]
  },
  {
   "cell_type": "code",
   "execution_count": 244,
   "metadata": {},
   "outputs": [],
   "source": [
    "potential_indian_earnings = potential_indian_customers * 0.5 * 59 "
   ]
  },
  {
   "cell_type": "code",
   "execution_count": 245,
   "metadata": {},
   "outputs": [
    {
     "data": {
      "text/plain": [
       "155760038.94"
      ]
     },
     "execution_count": 245,
     "metadata": {},
     "output_type": "execute_result"
    }
   ],
   "source": [
    "potential_indian_earnings"
   ]
  },
  {
   "cell_type": "markdown",
   "metadata": {},
   "source": [
    "We could earn 155 millions of dollars investing in the Indian market with this extimate. <br>\n",
    "Let's make the same extimate for Canada."
   ]
  },
  {
   "cell_type": "code",
   "execution_count": 246,
   "metadata": {},
   "outputs": [
    {
     "data": {
      "text/html": [
       "<div>\n",
       "<style scoped>\n",
       "    .dataframe tbody tr th:only-of-type {\n",
       "        vertical-align: middle;\n",
       "    }\n",
       "\n",
       "    .dataframe tbody tr th {\n",
       "        vertical-align: top;\n",
       "    }\n",
       "\n",
       "    .dataframe thead th {\n",
       "        text-align: right;\n",
       "    }\n",
       "</style>\n",
       "<table border=\"1\" class=\"dataframe\">\n",
       "  <thead>\n",
       "    <tr style=\"text-align: right;\">\n",
       "      <th></th>\n",
       "      <th>country</th>\n",
       "      <th>population</th>\n",
       "      <th>respondents</th>\n",
       "      <th>resp_per_million</th>\n",
       "    </tr>\n",
       "  </thead>\n",
       "  <tbody>\n",
       "    <tr>\n",
       "      <th>3</th>\n",
       "      <td>Canada</td>\n",
       "      <td>38</td>\n",
       "      <td>260</td>\n",
       "      <td>6.842105</td>\n",
       "    </tr>\n",
       "  </tbody>\n",
       "</table>\n",
       "</div>"
      ],
      "text/plain": [
       "  country  population  respondents  resp_per_million\n",
       "3  Canada          38          260          6.842105"
      ]
     },
     "execution_count": 246,
     "metadata": {},
     "output_type": "execute_result"
    }
   ],
   "source": [
    "df_resp_per_mil[df_resp_per_mil[\"country\"] == \"Canada\"]"
   ]
  },
  {
   "cell_type": "code",
   "execution_count": 247,
   "metadata": {},
   "outputs": [
    {
     "data": {
      "text/plain": [
       "2584000.0"
      ]
     },
     "execution_count": 247,
     "metadata": {},
     "output_type": "execute_result"
    }
   ],
   "source": [
    "potential_canadian_customers = (38 * 0.01) * 6.8 * 1000000\n",
    "potential_canadian_customers"
   ]
  },
  {
   "cell_type": "markdown",
   "metadata": {},
   "source": [
    "We could have 2.5 millions potential Canadian customers, let's see what that mean in money, considering we could turn 5% of the people reached by our message into paying customers."
   ]
  },
  {
   "cell_type": "code",
   "execution_count": 248,
   "metadata": {},
   "outputs": [
    {
     "data": {
      "text/plain": [
       "76228000.0"
      ]
     },
     "execution_count": 248,
     "metadata": {},
     "output_type": "execute_result"
    }
   ],
   "source": [
    "potential_canadian_earnings = potential_canadian_customers * 0.5 * 59 \n",
    "potential_canadian_earnings "
   ]
  },
  {
   "cell_type": "markdown",
   "metadata": {},
   "source": [
    "We could make about 76 millions of dollars with Canadian Customers, half of what we could make in India, but our impact for million of inhabitants, supposing it could mimic the impact of FreeCodeCamp, could be greater than the one in India, so we could make a shorter campaign."
   ]
  },
  {
   "cell_type": "markdown",
   "metadata": {},
   "source": [
    "### Conclusion\n"
   ]
  },
  {
   "cell_type": "markdown",
   "metadata": {},
   "source": [
    "The best market for investing is certainly the US market, we could destinate 60% of our investment to this market. India is a great opportunity: even minimal increases in the percentage of population reached could mean many millions earned. Our estimate above is very generous about our potential impact on the population, but indeed 1.3 billions (and growing) of people are something to consider. <br>\n",
    "Canada is a rich country, but with a little population.\n",
    "I'll suggest to spend 25% in India and 15% in Canada."
   ]
  }
 ],
 "metadata": {
  "kernelspec": {
   "display_name": "Python 3",
   "language": "python",
   "name": "python3"
  },
  "language_info": {
   "codemirror_mode": {
    "name": "ipython",
    "version": 3
   },
   "file_extension": ".py",
   "mimetype": "text/x-python",
   "name": "python",
   "nbconvert_exporter": "python",
   "pygments_lexer": "ipython3",
   "version": "3.6.10"
  }
 },
 "nbformat": 4,
 "nbformat_minor": 2
}
